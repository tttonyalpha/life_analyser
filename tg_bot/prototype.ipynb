{
 "cells": [
  {
   "cell_type": "markdown",
   "id": "974b0691",
   "metadata": {},
   "source": [
    "# Bot "
   ]
  },
  {
   "cell_type": "code",
   "execution_count": null,
   "id": "d0d8e2e3",
   "metadata": {},
   "outputs": [],
   "source": []
  },
  {
   "cell_type": "code",
   "execution_count": null,
   "id": "9e0bda3a",
   "metadata": {},
   "outputs": [],
   "source": [
    "\n",
    "import logging\n",
    "from telegram import Update, Bot\n",
    "from telegram.ext import Updater, CommandHandler, MessageHandler, Filters, CallbackContext\n",
    "\n",
    "bot = Bot(token=API_TOKEN)\n",
    "updater = Updater(token=API_TOKEN, use_context=True)\n",
    "dispatcher = updater.dispatcher\n",
    "\n",
    "logging.basicConfig(format='%(asctime)s - %(name)s - %(levelname)s - %(message)s',\n",
    "                     level=logging.INFO)\n",
    "\n",
    "\n",
    "def send_new_channel_messages(update: Update, context: CallbackContext):\n",
    "    channel_id = 'my life'\n",
    "    channel_updates = bot.get_chat_updates(channel_id)\n",
    "\n",
    "    user_id = update.message.from_user.id\n",
    "\n",
    "    for update in channel_updates:\n",
    "        if update.message:\n",
    "            bot.forward_message(chat_id=user_id, from_chat_id=channel_id, message_id=update.message.message_id)\n",
    "\n",
    "\n",
    "def start(update: Update, context: CallbackContext):\n",
    "    user_id = update.message.from_user.id\n",
    "    update.message.reply_text(f\"Hello! I will send you new messages from the channel.\")\n",
    "\n",
    "\n",
    "def main():\n",
    "    dispatcher.add_handler(MessageHandler(Filters.chat_type.channel, send_new_channel_messages))\n",
    "    dispatcher.add_handler(CommandHandler(\"start\", start))\n",
    "\n",
    "    updater.start_polling()\n",
    "    updater.idle()\n",
    "\n",
    "\n",
    "if __name__ == '__main__':\n",
    "    main()"
   ]
  },
  {
   "cell_type": "markdown",
   "id": "c2e23f54",
   "metadata": {},
   "source": [
    "# Config upload"
   ]
  },
  {
   "cell_type": "code",
   "execution_count": 1,
   "id": "6c7ff97f",
   "metadata": {},
   "outputs": [],
   "source": [
    "import configparser\n",
    "import json\n",
    "\n",
    "from telethon import TelegramClient\n",
    "from telethon.errors import SessionPasswordNeededError"
   ]
  },
  {
   "cell_type": "code",
   "execution_count": 2,
   "id": "b60186f7",
   "metadata": {},
   "outputs": [],
   "source": [
    "# Reading Configs\n",
    "config = configparser.ConfigParser()\n",
    "config.read(\"config.ini\")\n",
    "\n",
    "# Setting configuration values\n",
    "api_id = config['Telegram']['api_id']\n",
    "api_hash = config['Telegram']['api_hash']\n",
    "api_token = config['Telegram']['api_token']\n",
    "\n",
    "api_hash = str(api_hash)\n",
    "\n",
    "phone = config['Telegram']['phone']\n",
    "username = config['Telegram']['username']\n",
    "channel_link = config['Telegram']['channel_link'] \n",
    "\n",
    "db_name = config['database']['db_name']\n",
    "db_user = config['database']['db_user']\n",
    "db_password = config['database']['db_password'] \n",
    "db_host = config['database']['db_host'] \n"
   ]
  },
  {
   "cell_type": "code",
   "execution_count": null,
   "id": "c05501c4",
   "metadata": {},
   "outputs": [],
   "source": []
  },
  {
   "cell_type": "code",
   "execution_count": 3,
   "id": "5de6d112",
   "metadata": {},
   "outputs": [],
   "source": [
    "from transformers import pipeline\n",
    "\n",
    "\n",
    "#facebook_bart_large_mnli = pipeline(\"zero-shot-classification\", model=\"/media/tonyalpha/HDD/facebook-bart-large-mnli\")\n",
    "#bertweet_base_sentiment_analysis = pipeline(\"text-classification\", model=\"/media/tonyalpha/HDD/bertweet-base-sentiment-analysis\")"
   ]
  },
  {
   "cell_type": "code",
   "execution_count": 32,
   "id": "1de55e2b",
   "metadata": {},
   "outputs": [],
   "source": [
    "# if not client.is_user_authorized():\n",
    "#     client.send_code_request(phone)\n",
    "#     try:\n",
    "#         client.sign_in(phone, input('Enter the code: '))\n",
    "#     except SessionPasswordNeededError:\n",
    "#         client.sign_in(password=input('Password: '))\n",
    "\n",
    "# me = client.get_me()\n",
    "# print(me)"
   ]
  },
  {
   "cell_type": "code",
   "execution_count": null,
   "id": "98e3604b",
   "metadata": {},
   "outputs": [],
   "source": []
  },
  {
   "cell_type": "markdown",
   "id": "97ede47d",
   "metadata": {},
   "source": [
    "# Get data from telegram "
   ]
  },
  {
   "cell_type": "code",
   "execution_count": 4,
   "id": "5a3d6476",
   "metadata": {},
   "outputs": [],
   "source": [
    "from telethon.tl.types import InputMessagesFilterPhotos\n",
    "from telethon import TelegramClient, events\n",
    "import nest_asyncio\n",
    "\n",
    "nest_asyncio.apply()\n",
    "\n",
    "import os.path\n",
    "\n",
    "def get_posts(num_posts = 1, download_media = False, only_with_media = True, offset_id = 0, posts_list = []):\n",
    "    client = TelegramClient(username, api_id, api_hash)\n",
    "    posts_list = []\n",
    "    async def main(num_posts, download_media, offset_id, posts_list):\n",
    "        \n",
    "        if num_posts < 100:\n",
    "            message_limit = num_posts\n",
    "        else:\n",
    "            message_limit = 100\n",
    "            \n",
    "            \n",
    "        last_post_date = None\n",
    "        post = {}\n",
    "        \n",
    "        await client.start()\n",
    "\n",
    "        try:\n",
    "            entity = await client.get_entity(channel_link)\n",
    "\n",
    "            while True:\n",
    "                messages = await client.get_messages(entity, limit=message_limit, offset_id = offset_id)\n",
    "\n",
    "                for message in messages:\n",
    "                    \n",
    "                    if only_with_media:\n",
    "                        if not message.media:\n",
    "                            continue\n",
    "                    \n",
    "                    if last_post_date == None:\n",
    "                        last_post_date = message.date\n",
    "\n",
    "                    # if delay between uploading messages is more than 10 second i will separate them\n",
    "                    if (last_post_date - message.date).seconds > 10: \n",
    "                        post['upload_date'] = last_post_date.strftime('%Y-%m-%d %H:%M:%S') if last_post_date else None\n",
    "\n",
    "                        last_post_date = message.date\n",
    "\n",
    "                        posts_list.append(post)\n",
    "                        post = {}\n",
    "\n",
    "\n",
    "                    if len(message.message) > 0:\n",
    "                        post['text'] = post.get('text', '') + message.message \n",
    "                        \n",
    "                        # post_id in messages set will be id of message with text and photo \n",
    "                        post['post_id'] = message.id\n",
    "\n",
    "\n",
    "                    if message.media and download_media:\n",
    "\n",
    "                        photo_id = message.media.photo.id\n",
    "                        filename = f'image_{photo_id}.jpg'\n",
    "                        path = f\"./media/{filename}\"\n",
    "\n",
    "                        # some of this i should drop, but later \n",
    "                        post['photos_id_list'] = post.get('photos_id_list', []) + [photo_id]\n",
    "                        post['photos_names_list'] = post.get('photos_names_list', []) + [filename]\n",
    "\n",
    "                        #if file exist check \n",
    "                        if not os.path.isfile(path) and download_media:\n",
    "                            await client.download_media(message, file=path)\n",
    "\n",
    "                    post['id_list'] = post.get('id_list', []) + [message.id]\n",
    "                    post['edit_date'] = message.edit_date.strftime('%Y-%m-%d %H:%M:%S') if message.edit_date else None\n",
    "\n",
    "\n",
    "                offset_id = messages[len(messages) - 1].id\n",
    "\n",
    "                if len(posts_list) >= num_posts:\n",
    "                    break\n",
    "\n",
    "\n",
    "        except Exception as e:\n",
    "            print(f\"Error: {e}\")\n",
    "\n",
    "        await client.disconnect()\n",
    "        \n",
    "        return posts_list\n",
    "\n",
    "    if __name__ == \"__main__\":\n",
    "        client.loop.run_until_complete(main(num_posts, download_media, offset_id, posts_list))\n",
    "        \n",
    "    return posts_list"
   ]
  },
  {
   "cell_type": "markdown",
   "id": "5f224286",
   "metadata": {},
   "source": [
    "# Data parsing"
   ]
  },
  {
   "cell_type": "code",
   "execution_count": null,
   "id": "be263433",
   "metadata": {},
   "outputs": [],
   "source": []
  },
  {
   "cell_type": "code",
   "execution_count": 5,
   "id": "448dc373",
   "metadata": {},
   "outputs": [],
   "source": [
    "import re \n",
    "\n",
    "def parse_text(dct):\n",
    "    \n",
    "    input_string = dct.get('text', None)\n",
    "    \n",
    "    if input_string is None:\n",
    "        return dct\n",
    "    \n",
    "    date_pattern = r'\\d{2}\\.\\d{2}\\.\\d{2}'\n",
    "    day_pattern = r'\\b(?:MONDAY|TUESDAY|WEDNESDAY|THURSDAY|FRIDAY|SATURDAY|SUNDAY)\\b'\n",
    "    \n",
    "    date_match = re.search(date_pattern, input_string)\n",
    "    day_match = re.search(day_pattern, input_string)\n",
    "    \n",
    "    date = date_match.group() if date_match else None\n",
    "    day = day_match.group() if day_match else None\n",
    "    \n",
    "    parsed_date = date.split('.')[-1] + '-' + date.split('.')[1] + '-' + date.split('.')[0] if date or day else None\n",
    "    \n",
    "    dct['parsed_date'] = parsed_date\n",
    "    \n",
    "    if date_match:\n",
    "        input_string = input_string.replace(date_match.group(), \"\") if parsed_date is not None else input_string\n",
    "    if day_match:\n",
    "        input_string = input_string.replace(day_match.group(), \"\") if parsed_date is not None else input_string\n",
    "    \n",
    "    regex_list = [r'How productive have you been\\?:\\s*(\\S|\\s+|\\d+\\.?\\d*)/10', r'How interesting was the day\\?:\\s*(\\S|\\s+|\\d+\\.?\\d*)/10', r'How stressful was the day\\?:\\s*(\\S|\\s+|\\d+\\.?\\d*)/10']\n",
    "    names_list = ['productivity_score', 'interest_score', 'stress_score']\n",
    "    \n",
    "    for regex, name in zip(regex_list, names_list):\n",
    "        match = re.search(regex, input_string)\n",
    "        \n",
    "        if match:\n",
    "            try:\n",
    "                parsed_score = float(match.group(1))\n",
    "            except:\n",
    "                parsed_score = None\n",
    "        else:\n",
    "            parsed_score = None\n",
    "        \n",
    "        \n",
    "        #parsed_score = match.group(1) if match and match.group(1).isdigit() else None\n",
    "        \n",
    "        dct[name] = parsed_score\n",
    "\n",
    "        input_string = input_string.replace(match.group(), \"\") if match else input_string\n",
    "        \n",
    "    \n",
    "    dct['parsed_text'] = input_string.split('\\n')\n",
    "    return dct\n",
    "    \n",
    "def parse_activities(dct):\n",
    "    \n",
    "    input_list = dct.get('parsed_text', None)\n",
    "    \n",
    "    if input_list is None:\n",
    "        return dct\n",
    "    \n",
    "    result = []\n",
    "    for item in input_list:\n",
    "        match = re.match(r'^([\\U0001F000-\\U0001F9FF]+|[\\U0001FA00-\\U0001FA6F]+|\\*)?\\s*(.*)$', item)\n",
    "        if match:\n",
    "            emoji = match.group(1)\n",
    "            text = match.group(2).strip()\n",
    "            if emoji or text:\n",
    "                result.append((emoji, text))\n",
    "                \n",
    "    dct['parsed_activities'] = result\n",
    "    return dct"
   ]
  },
  {
   "cell_type": "code",
   "execution_count": 103,
   "id": "60f4b85f",
   "metadata": {},
   "outputs": [
    {
     "data": {
      "text/plain": [
       "[{'id_list': [724, 723, 722, 721],\n",
       "  'edit_date': '2023-07-28 12:50:10',\n",
       "  'text': '26.07.23\\n\\nsakisaki Hiking with Ann\\n\\nWorking on my project\\n\\n* Gym \\n\\n* Interesting history lecture \\n\\nHow productive have you been?: 4.5/10\\nHow interesting was the day?: 6/10\\nHow stressful was the day?: 1/10',\n",
       "  'post_id': 721,\n",
       "  'upload_date': '2023-07-26 16:28:42'}]"
      ]
     },
     "execution_count": 103,
     "metadata": {},
     "output_type": "execute_result"
    }
   ],
   "source": [
    "get_posts(num_posts = 1)"
   ]
  },
  {
   "cell_type": "code",
   "execution_count": 104,
   "id": "ed051783",
   "metadata": {},
   "outputs": [
    {
     "data": {
      "text/plain": [
       "{'id_list': [717, 716, 715],\n",
       " 'edit_date': '2023-07-26 16:02:48',\n",
       " 'text': '24.07.23\\n\\nGym: good traning \\n\\nMy project for portfolio: do some things  \\n\\nInteresting history lecture  \\n\\nHow productive have you been?: 4.5/10\\nHow interesting was the day?: 5/10\\nHow stressful was the day?: 0/10',\n",
       " 'post_id': 715,\n",
       " 'upload_date': '2023-07-26 13:31:56',\n",
       " 'parsed_date': '23-07-24',\n",
       " 'productivity_score': 4.5,\n",
       " 'interest_score': 5.0,\n",
       " 'stress_score': 0.0,\n",
       " 'parsed_text': ['',\n",
       "  '',\n",
       "  'Gym: good traning ',\n",
       "  '',\n",
       "  'My project for portfolio: do some things  ',\n",
       "  '',\n",
       "  'Interesting history lecture  ',\n",
       "  '',\n",
       "  '',\n",
       "  '',\n",
       "  '']}"
      ]
     },
     "execution_count": 104,
     "metadata": {},
     "output_type": "execute_result"
    }
   ],
   "source": [
    "parse_text(get_posts(num_posts = 4)[2])"
   ]
  },
  {
   "cell_type": "code",
   "execution_count": 105,
   "id": "febdc8da",
   "metadata": {},
   "outputs": [
    {
     "data": {
      "text/plain": [
       "{'id_list': [724, 723, 722, 721],\n",
       " 'edit_date': '2023-07-28 12:50:10',\n",
       " 'text': '26.07.23\\n\\nsakisaki Hiking with Ann\\n\\nWorking on my project\\n\\n* Gym \\n\\n* Interesting history lecture \\n\\nHow productive have you been?: 4.5/10\\nHow interesting was the day?: 6/10\\nHow stressful was the day?: 1/10',\n",
       " 'post_id': 721,\n",
       " 'upload_date': '2023-07-26 16:28:42',\n",
       " 'parsed_date': '23-07-26',\n",
       " 'productivity_score': 4.5,\n",
       " 'interest_score': 6.0,\n",
       " 'stress_score': 1.0,\n",
       " 'parsed_text': ['',\n",
       "  '',\n",
       "  'sakisaki Hiking with Ann',\n",
       "  '',\n",
       "  'Working on my project',\n",
       "  '',\n",
       "  '* Gym ',\n",
       "  '',\n",
       "  '* Interesting history lecture ',\n",
       "  '',\n",
       "  '',\n",
       "  '',\n",
       "  ''],\n",
       " 'parsed_activities': [(None, 'sakisaki Hiking with Ann'),\n",
       "  (None, 'Working on my project'),\n",
       "  ('*', 'Gym'),\n",
       "  ('*', 'Interesting history lecture')]}"
      ]
     },
     "execution_count": 105,
     "metadata": {},
     "output_type": "execute_result"
    }
   ],
   "source": [
    "parse_activities(parse_text(get_posts(num_posts = 3)[0]))"
   ]
  },
  {
   "cell_type": "code",
   "execution_count": null,
   "id": "4c636b4c",
   "metadata": {},
   "outputs": [],
   "source": [
    "\n",
    "\n"
   ]
  },
  {
   "cell_type": "markdown",
   "id": "3a663ae7",
   "metadata": {},
   "source": [
    "# Upload to DB "
   ]
  },
  {
   "cell_type": "code",
   "execution_count": 6,
   "id": "e2f487b9",
   "metadata": {},
   "outputs": [],
   "source": [
    "        \n",
    "def update_post(post_id, update_data):\n",
    "    try:\n",
    "        with connect(host=db_host, user=db_user, password=db_password,) as connection:\n",
    "            use_db_query = f\"USE {db_name};\"\n",
    "            \n",
    "            update_post_table_query= ''\n",
    "            update_values = []\n",
    "            \n",
    "            for key, value in update_data.items():\n",
    "                    update_post_table_query += key + ' = %s, '\n",
    "                    update_values += [value]\n",
    "            \n",
    "            update_post_table_query = update_post_table_query.rstrip(', ')\n",
    "            update_post_table_query = 'UPDATE posts SET ' + update_post_table_query + ' WHERE post_id = %s;'\n",
    "            \n",
    "            update_values += [post_id]\n",
    "            update_values = tuple(update_values)\n",
    "            \n",
    "            with connection.cursor() as cursor:\n",
    "                cursor.execute(use_db_query)\n",
    "                cursor.execute(update_post_table_query, update_values)\n",
    "                connection.commit()\n",
    "                \n",
    "            print(f'UPDATED: post with id:{post_id}')\n",
    "    except Error as e:\n",
    "        print(e)\n",
    "\n",
    "        \n",
    "                \n",
    "def update_activity(activity_id, update_data):\n",
    "    try:\n",
    "        with connect(host=db_host, user=db_user, password=db_password,) as connection:\n",
    "            use_db_query = f\"USE {db_name};\"\n",
    "            \n",
    "            update_activity_table_query= ''\n",
    "            update_values = []\n",
    "            \n",
    "            for key, value in update_data.items():\n",
    "                    update_activity_table_query += key + ' = %s, '\n",
    "                    update_values += [value]\n",
    "            \n",
    "            update_activity_table_query = update_activity_table_query.rstrip(', ')\n",
    "            update_activity_table_query = 'UPDATE activities SET ' + update_activity_table_query + ' WHERE activity_id = %s;'\n",
    "            \n",
    "            update_values += [activity_id]\n",
    "            update_values = tuple(update_values)\n",
    "            \n",
    "            with connection.cursor() as cursor:\n",
    "                cursor.execute(use_db_query)\n",
    "                cursor.execute(update_activity_table_query, update_values)\n",
    "                connection.commit()\n",
    "                \n",
    "            print(f'UPDATED: activity with id:{activity_id}')\n",
    "    except Error as e:\n",
    "        print(e)"
   ]
  },
  {
   "cell_type": "code",
   "execution_count": 7,
   "id": "b7fb6063",
   "metadata": {},
   "outputs": [],
   "source": [
    "import mysql.connector\n",
    "\n",
    "from getpass import getpass\n",
    "from mysql.connector import connect, Error\n",
    "\n",
    "\n",
    "def db_connect():\n",
    "    try:\n",
    "        with connect(host=db_host, user=db_user, password=db_password,) as connection:\n",
    "            use_db_query = f\"USE {db_name};\"\n",
    "            create_posts_table_query = \"\"\"\n",
    "            CREATE TABLE IF NOT EXISTS posts(\n",
    "                post_id INT,\n",
    "                text TEXT,\n",
    "                parsed_date DATE,\n",
    "                upload_date DATETIME,\n",
    "                edit_date DATETIME, \n",
    "                productivity_score FLOAT,\n",
    "                interest_score FLOAT,\n",
    "                stress_score FLOAT,\n",
    "                predicted_productivity_score FLOAT,\n",
    "                predicted_interest_score FLOAT,\n",
    "                predicted_stress_score FLOAT,\n",
    "                PRIMARY KEY (post_id)\n",
    "            );\n",
    "            \"\"\"\n",
    "            \n",
    "            create_posts_table_activities = \"\"\"\n",
    "            CREATE TABLE IF NOT EXISTS activities(\n",
    "                activity_id INT AUTO_INCREMENT,\n",
    "                post_id INT,\n",
    "                activity_name TEXT,\n",
    "                activity_emoji TEXT,\n",
    "                activity_type TEXT,\n",
    "                activity_emotion TEXT,\n",
    "                predicted_activity_type TEXT,\n",
    "                predicted_activity_emotion TEXT,\n",
    "                FOREIGN KEY (post_id) REFERENCES posts(post_id),\n",
    "                PRIMARY KEY (activity_id)\n",
    "            );\n",
    "            \"\"\"\n",
    "            \n",
    "            \n",
    "            with connection.cursor() as cursor:\n",
    "                cursor.execute(use_db_query)\n",
    "                cursor.execute(create_posts_table_query)\n",
    "                cursor.execute(create_posts_table_activities)\n",
    "                connection.commit()\n",
    "    except Error as e:\n",
    "        print(e)\n",
    "        \n",
    "def upload_post(dct, overwrite = False):\n",
    "    try:\n",
    "        with connect(host=db_host, user=db_user, password=db_password,) as connection:\n",
    "            use_db_query = f\"USE {db_name};\"\n",
    "            check_if_exist = \"\"\"SELECT EXISTS(SELECT 1 FROM posts WHERE post_id = %s LIMIT 1)\"\"\"\n",
    "            \n",
    "            upload_posts_table_query = f\"\"\"\n",
    "            INSERT INTO posts (post_id, text, parsed_date, upload_date, \n",
    "            edit_date,productivity_score, interest_score, stress_score, \n",
    "            predicted_productivity_score, predicted_interest_score,\n",
    "            predicted_stress_score) \n",
    "            VALUES(%s, %s, %s, %s, %s, %s, %s, %s, %s, %s, %s)\n",
    "            \"\"\"\n",
    "            \n",
    "            post_id = (dct.get('post_id', None),)\n",
    "            uploaded_date = dct.get('upload_date', None)\n",
    "            \n",
    "            insert_data = (dct.get('post_id', None), dct.get('text', None), \n",
    "                    dct.get('parsed_date', None), dct.get('upload_date', None), \n",
    "                    dct.get('edit_date', None),dct.get('productivity_score', None),\n",
    "                    dct.get('interest_score', None),dct.get('stress_score', None),\n",
    "                    dct.get('predicted_productivity_score', None), dct.get('predicted_interest_score', None),\n",
    "                    dct.get('predicted_stress_score', None))\n",
    "            \n",
    "            with connection.cursor() as cursor:\n",
    "                cursor.execute(use_db_query)\n",
    "                cursor.execute(check_if_exist, post_id)\n",
    "                for el in cursor:\n",
    "                    exist = el[0]\n",
    "                \n",
    "                if not exist:\n",
    "                    cursor.execute(upload_posts_table_query, insert_data)\n",
    "                    connection.commit()\n",
    "                    print(f'UPLOADED: post with id:{post_id} and uploaded_date:{uploaded_date}')\n",
    "                else:\n",
    "                    if overwrite:\n",
    "                        pass\n",
    "                        print('OVERWRITED: post with id:{post_id} and uploaded_date:{uploaded_date}')\n",
    "                    else:\n",
    "                        print(f'ERROR: post with id:{post_id} and uploaded_date:{uploaded_date} already uploaded')\n",
    "                        print('If you want to overwrite data add flag')\n",
    "    except Error as e:\n",
    "        print(e)\n",
    "        \n",
    "        \n",
    "def upload_activities(dct, overwrite = False):\n",
    "    try:\n",
    "        with connect(host=db_host, user=db_user, password=db_password,) as connection:\n",
    "            use_db_query = f\"USE {db_name};\"\n",
    "            \n",
    "            for activity_emoji, activity_name in dct['parsed_activities']:\n",
    "                \n",
    "                # add or not? \n",
    "                #if activity_emoji == '*' or activity_emoji == '📦':\n",
    "                #   continue\n",
    "                \n",
    "                activity_name = \"\".join(c for c in activity_name if c.isalpha() or c.isnumeric() or c == ' ' or c == '!').strip(' ')\n",
    "                check_if_exist = \"\"\"SELECT EXISTS(SELECT 1 FROM activities WHERE post_id = %s AND activity_name = %s LIMIT 1)\"\"\"\n",
    "\n",
    "                upload_posts_table_query = f\"\"\"\n",
    "                INSERT INTO activities (post_id, activity_name, activity_emoji, activity_type, \n",
    "                activity_emotion, predicted_activity_type, predicted_activity_emotion) \n",
    "                VALUES(%s, %s, %s, %s, %s, %s, %s)\n",
    "                \"\"\"\n",
    "                post_id = dct.get('post_id', None)\n",
    "                \n",
    "                check_data = (post_id, activity_name)\n",
    "\n",
    "                insert_data = (dct.get('post_id', None), activity_name, \n",
    "                              activity_emoji, dct.get('activity_type', None), dct.get('activity_emotion', None),\n",
    "                              dct.get('predicted_activity_type', None), dct.get('predicted_activity_emotion', None))\n",
    "            \n",
    "                with connection.cursor() as cursor:\n",
    "                    cursor.execute(use_db_query)\n",
    "                    cursor.execute(check_if_exist, check_data)\n",
    "                    for el in cursor:\n",
    "                        exist = el[0]\n",
    "\n",
    "                    if not exist:\n",
    "                        cursor.execute(upload_posts_table_query, insert_data)\n",
    "                        connection.commit()\n",
    "                        print(f'UPLOADED: activity with post_id:{post_id} and activity_name:{activity_name}')\n",
    "                    else:\n",
    "                        # add overwrite option\n",
    "                        print(f'ERROR: activity with post_id:{post_id} and activity_name:{activity_name} already uploaded')\n",
    "    except Error as e:\n",
    "        print(e)\n",
    "        \n",
    "        \n",
    "def update_post(dct):\n",
    "    try:\n",
    "        with connect(host=db_host, user=db_user, password=db_password,) as connection:\n",
    "            use_db_query = f\"USE {db_name};\"\n",
    "            update_posts_table_query = \"\"\"\n",
    "            UPDATE posts SET text = %s, parsed_date = %s,  \n",
    "            upload_date = %s, edit_date = %s, productivity_score = %s,\n",
    "            interest_score = %s, stress_score = %s WHERE post_id = %s\n",
    "            \"\"\"\n",
    "            \n",
    "            data = (dct.get('text', None), \n",
    "                    dct.get('parsed_date', None), dct.get('upload_date', None), \n",
    "                    dct.get('edit_date', None),dct.get('productivity_score', None),\n",
    "                    dct.get('interest_score', None),dct.get('stress_score', None),\n",
    "                   dct.get('post_id', None))\n",
    "\n",
    "            with connection.cursor() as cursor:\n",
    "                cursor.execute(use_db_query)\n",
    "                cursor.execute(update_posts_table_query, data)\n",
    "                connection.commit()\n",
    "    except Error as e:\n",
    "        print(e)\n",
    "\n",
    "def db_show_tables():\n",
    "    try:\n",
    "        with connect(host=db_host, user=db_user, password=db_password,) as connection:\n",
    "            use_db_query = f\"USE {db_name};\"\n",
    "            show_tables = \"SHOW TABLES;\"\n",
    "            with connection.cursor() as cursor:\n",
    "                cursor.execute(use_db_query)\n",
    "                cursor.execute(show_tables)\n",
    "                for el in cursor.fetchall():\n",
    "                    print(el)\n",
    "    except Error as e:\n",
    "        print(e)\n",
    "        \n",
    "def db_execute_query(query, commit = False):\n",
    "    try:\n",
    "        with connect(host=db_host, user=db_user, password=db_password,) as connection:\n",
    "            use_db_query = f\"USE {db_name};\"\n",
    "            with connection.cursor() as cursor:\n",
    "                cursor.execute(use_db_query)\n",
    "                cursor.execute(query)\n",
    "                if commit:\n",
    "                    connection.commit()\n",
    "                for el in cursor:\n",
    "                    print(el)\n",
    "    except Error as e:\n",
    "        print(e)"
   ]
  },
  {
   "cell_type": "code",
   "execution_count": 10,
   "id": "1c7ee6dd",
   "metadata": {},
   "outputs": [],
   "source": [
    "db_connect()"
   ]
  },
  {
   "cell_type": "code",
   "execution_count": 11,
   "id": "1ecb1ae6",
   "metadata": {},
   "outputs": [
    {
     "name": "stdout",
     "output_type": "stream",
     "text": [
      "('activities',)\n",
      "('posts',)\n"
     ]
    }
   ],
   "source": [
    "db_show_tables()"
   ]
  },
  {
   "cell_type": "code",
   "execution_count": 108,
   "id": "f7e10e33",
   "metadata": {},
   "outputs": [
    {
     "name": "stdout",
     "output_type": "stream",
     "text": [
      "(215,)\n"
     ]
    }
   ],
   "source": [
    "db_execute_query('SELECT activity_id FROM activities WHERE post_id = 721 AND activity_name = \"Hiking with Ann\" LIMIT 1')"
   ]
  },
  {
   "cell_type": "code",
   "execution_count": 124,
   "id": "8aa049a4",
   "metadata": {},
   "outputs": [],
   "source": [
    "db_execute_query('DELETE FROM posts WHERE post_id > 0;', commit = True)"
   ]
  },
  {
   "cell_type": "code",
   "execution_count": 131,
   "id": "f3300c13",
   "metadata": {},
   "outputs": [],
   "source": [
    "db_execute_query('DROP TABLE posts;', commit = True)"
   ]
  },
  {
   "cell_type": "code",
   "execution_count": 49,
   "id": "8759b9c4",
   "metadata": {},
   "outputs": [],
   "source": [
    "db_execute_query('SELECT * FROM activities WHERE post_id = 135')"
   ]
  },
  {
   "cell_type": "code",
   "execution_count": 50,
   "id": "ee8326dc",
   "metadata": {},
   "outputs": [],
   "source": [
    "db_execute_query('DELETE FROM posts WHERE post_id = 135', commit = True)"
   ]
  },
  {
   "cell_type": "code",
   "execution_count": 262,
   "id": "e6f77459",
   "metadata": {},
   "outputs": [
    {
     "name": "stdout",
     "output_type": "stream",
     "text": [
      "UPDATED: activity with id:9\n"
     ]
    }
   ],
   "source": [
    "update_activity(9, {'activity_name': 'Hiking with Ann'})"
   ]
  },
  {
   "cell_type": "code",
   "execution_count": 37,
   "id": "ba9ccb1c",
   "metadata": {},
   "outputs": [
    {
     "name": "stdout",
     "output_type": "stream",
     "text": [
      "(125, '27.01.23\\n❌ Statistics HM\\n✅ Tinkoff HM (first two tasks) \\n✅ Send a request for mentoring programm\\n\\n\\nHow productive have you been?: 6/10\\nHow interesting was the day?: 6/10\\nHow stressful was the day?: 1/10', datetime.date(2023, 1, 27), datetime.datetime(2023, 1, 27, 8, 45, 32), datetime.datetime(2023, 7, 26, 15, 44, 40), 6.0, 6.0, 1.0, None, None, None)\n",
      "(126, \"28.01.23\\nSlept for 6 hours, in the morning i have visited  my university and then i did'n nothing, i was really tired and sleepy. I have make i little nap but it didn't help\\n\\n\\nHow productive have you been?: 4/10\\nHow interesting was the day?: 4/10\\nHow stressful was the day?: 3/10\", datetime.date(2023, 1, 28), datetime.datetime(2023, 1, 28, 19, 24, 38), datetime.datetime(2023, 7, 26, 15, 44, 31), 4.0, 4.0, 3.0, None, None, None)\n",
      "(127, \"29.01.23 \\n\\n✅ Statistics: seminar \\n✅ TInkoff HM: smashed it! i did't suppose that it will be not that easy\\n❌ Quantum physics: HM\\n✅ Make plans for month and plans for week\\n\\nstill recovering from lack of sleep\\n\\n\\nHow productive have you been?: 5/10\\nHow interesting was the day?: 5/10\\nHow stressful was the day?: 2/10\", datetime.date(2023, 1, 29), datetime.datetime(2023, 1, 28, 20, 57, 43), datetime.datetime(2023, 7, 26, 15, 44, 17), 5.0, 5.0, 2.0, None, None, None)\n",
      "(128, '30.01.23\\n\\n❌ Wiping with cold water\\n✅ Sport: morning exercise \\n❌ Tinkoff HM_2\\n✅ Quantum physics: HM\\n✅ Statistics: hm + lecture\\n❌ English: try to start do some tasks from homework\\n✅ Make company list and find interesting job openings\\n\\n\\nHow productive have you been?: 7/10\\nHow interesting was the day?: 7/10\\nHow stressful was the day?: 1/10', datetime.date(2023, 1, 30), datetime.datetime(2023, 1, 29, 20, 41, 27), datetime.datetime(2023, 7, 26, 15, 43, 52), 7.0, 7.0, 1.0, None, None, None)\n",
      "(129, '31.01.23\\n\\n✅ Wiping with cold water\\n✅ Sport: morning exercise\\n✅ Quantum physics: HM\\n❌ English!\\n✅ Tinkoff HM_2\\n❌ Statistics: lecture + hm\\n\\n\\nHow productive have you been?: 7/10\\nHow interesting was the day?: 7/10\\nHow stressful was the day?: 1/10', datetime.date(2023, 1, 31), datetime.datetime(2023, 1, 30, 21, 44, 57), datetime.datetime(2023, 7, 26, 15, 43, 42), 7.0, 7.0, 1.0, None, None, None)\n",
      "(132, '01.02.23\\n\\n✅ Wiping with cold water \\n✅ Morning exercise\\n❌ Find interesting courses in Steklov university\\n✅ English: do graded hm assessment \\n* English: practice with chatGTP or watch some videos \\n✅ ML minor: HM\\n❌ ML 1: lecture + hm\\n❌ Statistics: lecture + hm\\n❌ Hiking\\n❌ Discuss my day with Anna at evening\\n\\n\\nHow productive have you been?: 5.5/10\\nHow interesting was the day?: 5.5/10\\nHow stressful was the day?: 1/10', datetime.date(2023, 2, 1), datetime.datetime(2023, 1, 31, 21, 23, 9), datetime.datetime(2023, 7, 26, 15, 43, 24), 5.5, 5.5, 1.0, None, None, None)\n",
      "(133, '02.02.23\\n\\n❌ Wiping with cold water \\n✅ Morning exercise\\n❌ Find interesting courses in Steklov university \\n                                               Study/work \\n✅ Optics: lectures score: 1 30 мин\\n❌ English: practice with chatGTP or watch some videos score: 0.5\\n✅ ML 1: lecture score: 1 60 мин\\n❌ ML 1: + hm score: 1.5\\n✅ Statistics: lecture score: 1.5 180 мин\\n❌ Statistics:+ hm score: 2.0\\n\\n\\nHow productive have you been?: 6/10\\nHow interesting was the day?: 6/10\\nHow stressful was the day?: 0/10', datetime.date(2023, 2, 2), datetime.datetime(2023, 2, 1, 20, 56, 30), datetime.datetime(2023, 7, 26, 15, 43, 8), 6.0, 6.0, 0.0, None, None, None)\n",
      "(135, '03.02.23\\n\\n✅ Sport: morning exercise  \\n\\n✅ Optics: Lecture score: 1 time: 70 min\\n✅ Optice: HM score: 1 time: 120 number of distractions: inf 🤕\\n❌ Stats: HM score: 2 time: * number of distractions: *\\n❌ Pandas score: 1.5 \\n✅ ML: HM score: 1 time: 60 min \\n\\n\\nHow productive have you been?: 4.5/10\\nHow interesting was the day?: 5/10\\nHow stressful was the day?: 0/10', datetime.date(2023, 2, 3), datetime.datetime(2023, 2, 2, 21, 24, 11), datetime.datetime(2023, 7, 26, 15, 42, 58), 4.5, 5.0, 0.0, None, None, None)\n",
      "(137, '05.02.23\\n❌ Gym \\n❌ Meditation \\n❌ Series\\n\\n✅ ML: HM1 1.5 h\\n✅ ML: Seminar 3 h\\n❌ Stats: hm 4\\n❌ Pandas:\\n❌ English\\n\\n\\nHow productive have you been?: 4/10\\nHow interesting was the day?: 5/10\\nHow stressful was the day?: 3/10', datetime.date(2023, 2, 5), datetime.datetime(2023, 2, 5, 6, 5, 36), datetime.datetime(2023, 7, 26, 15, 42, 36), 4.0, 5.0, 3.0, None, None, None)\n",
      "(139, '06.02.23\\n❌ Tinkoff: lecture \\n✅ Quantum physics:  hm\\n✅ Stats: Lecture\\n❌ Stats: hm\\n✅ ML: Lecture\\n\\n\\nHow productive have you been?: 6/10\\nHow interesting was the day?: 6/10\\nHow stressful was the day?: 1/10', datetime.date(2023, 2, 6), datetime.datetime(2023, 2, 5, 16, 54, 47), datetime.datetime(2023, 7, 26, 15, 42, 24), 6.0, 6.0, 1.0, None, None, None)\n",
      "(140, '07.02.23\\n✅ Quantum mechanics: hm\\n❌ Tinkoff: hm \\n❌ Stats: lecture \\n❌ Ml: seminar + theory\\n✅ ML: Lecture 30 min\\n\\n\\nHow productive have you been?: 4.5/10\\nHow interesting was the day?: 5/10\\nHow stressful was the day?: 2/10', datetime.date(2023, 2, 7), datetime.datetime(2023, 2, 6, 21, 32, 11), datetime.datetime(2023, 7, 26, 15, 42, 15), 4.5, 5.0, 2.0, None, None, None)\n",
      "(141, '08.02.23\\n❌ English.....\\n✅ Tinkoff: hm\\n❌ Stats: lecture\\n❌ Stats: hm \\n❌ ML: hm \\n❌ Recover my metro student card\\n\\n\\nHow productive have you been?: 4.5/10\\nHow interesting was the day?: 5/10\\nHow stressful was the day?: 3/10', datetime.date(2023, 2, 8), datetime.datetime(2023, 2, 8, 8, 8, 31), datetime.datetime(2023, 7, 26, 15, 41, 55), 4.5, 5.0, 3.0, None, None, None)\n",
      "(142, '09.02.23\\n✅ Stats: lecture\\n✅ Sport: gym \\n❌ Stats: hm \\n❌ ML: hm \\n✅ OAD: hm\\n✅ Recover my metro student card\\n\\n\\nHow productive have you been?: 7/10\\nHow interesting was the day?: 7/10\\nHow stressful was the day?: 0/10', datetime.date(2023, 2, 9), datetime.datetime(2023, 2, 9, 4, 28, 18), datetime.datetime(2023, 7, 26, 15, 41, 40), 7.0, 7.0, 0.0, None, None, None)\n",
      "(143, '10.02.23\\n✅ book a haircut\\n✅ ML: lecture\\n✅ ML: seminar\\n❌ Stats: hm\\n✅ Online meeting with sister\\n❌ Edit my sport channel\\n❌ Chemistry...?\\n\\n\\nHow productive have you been?: 6.5/10\\nHow interesting was the day?: 6.7/10\\nHow stressful was the day?: 1/10', datetime.date(2023, 2, 10), datetime.datetime(2023, 2, 10, 6, 41, 42), datetime.datetime(2023, 7, 26, 15, 41, 31), 6.5, 6.7, 1.0, None, None, None)\n",
      "(144, '11.02.23\\n✅ Sport: morning excercise \\n* Clear telegram channels \\n✅ Watch the rest of the lecture and seminar on Ml\\n* ML: hm \\n✅ Stats: lecture + hm\\n\\n\\nHow productive have you been?: 7/10\\nHow interesting was the day?: 7/10\\nHow stressful was the day?: 1/10', datetime.date(2023, 2, 11), datetime.datetime(2023, 2, 11, 11, 36, 23), datetime.datetime(2023, 7, 26, 15, 41, 2), 7.0, 7.0, 1.0, None, None, None)\n",
      "(147, '12.02.23\\n* Apply for a international/abroad  passport\\n\\n✅ ML: hm \\n✅ Stats: lecture + hm\\n\\n* QM: hm\\n* Choose project mipt \\n* Talk with a guy from ozon\\n\\n\\nHow productive have you been?: 6.5/10\\nHow interesting was the day?: 6.5/10\\nHow stressful was the day?: 1/10', datetime.date(2023, 2, 12), datetime.datetime(2023, 2, 11, 21, 30, 35), datetime.datetime(2023, 7, 26, 15, 40, 38), 6.5, 6.5, 1.0, None, None, None)\n",
      "(149, '13.02.23\\n✅ Sport: my first martial art training 5 years after retiring from judo - that was really good\\n\\n✅ Quantum mechanics: hm\\n\\n\\nHow productive have you been?: 5/10\\nHow interesting was the day?: 6.8/10\\nHow stressful was the day?: 1/10', datetime.date(2023, 2, 13), datetime.datetime(2023, 2, 13, 5, 52, 7), datetime.datetime(2023, 7, 26, 15, 40, 26), 5.0, 6.8, 1.0, None, None, None)\n",
      "(153, '14.02.23\\n✅ Quantum mechanics: hm\\n✅ Tinkoff: hm\\n✅ Good rest with Anna: we watched The Last of Us and ate pizza \\n\\nHow productive have you been?: 5.8/10\\nHow interesting was the day?: 6.5/10\\nHow stressful was the day?: 1/10', datetime.date(2023, 2, 14), datetime.datetime(2023, 2, 14, 21, 18, 27), datetime.datetime(2023, 7, 26, 15, 40, 7), 5.8, 6.5, 1.0, None, None, None)\n",
      "(155, \"15.02.23\\n✅ Passport \\n✅ Time series: lecture. I have been looking for good lecture so long, and because of this i can't concentrate \\n✅ Time series: tasks\\n* English! \\n* ML: hm\\n* ML: seminar \\n✅ Stats: lecture\\n* Me and Anna listened interesting interview with Sergey Guriev about the current economy in Russia. Also, i was really surprised when, i knew that he's from Vladikavkaz \\n\\n\\n\\nHow productive have you been?: 5.5/10\\nHow interesting was the day?: 5.5/10\\nHow stressful was the day?: 0/10\", datetime.date(2023, 2, 15), datetime.datetime(2023, 2, 14, 21, 22), datetime.datetime(2023, 7, 26, 15, 39, 43), 5.5, 5.5, 0.0, None, None, None)\n",
      "(157, \"🚩 16.02.23 Thursday \\n🤪 Successfully skipped English\\n\\n🎒❌ English: finish tests please... \\n📚✅ Statistics: lecture\\n📚✅ Minor ML: hm DEADLINE\\n📚✅ ML: seminar \\n\\n🥊✅ Boxing: it was an awesome workout, I've been practicing punches with cool guy a cool guy who showed me the basics of boxing \\n\\n📚❌ ML: HM\\n🙋✅ Remind mom about booking \\n\\n\\nHow productive have you been?: 7/10\\nHow interesting was the day?: 7/10\\nHow stressful was the day?: 1/10\", datetime.date(2023, 2, 16), datetime.datetime(2023, 2, 16, 6, 40, 56), datetime.datetime(2023, 7, 26, 15, 39, 26), 7.0, 7.0, 1.0, None, None, None)\n",
      "(162, '🚩 17.02.23 Friday \\n\\n🎒❌English: finish tests please... 🙏\\n🎒❌Chemistry: make two reports \\n\\n📚✅Statistics: lecture hypothesis testing\\n📚❌Statistics: lecture linear regression \\n📚✅ ML: seminar link\\n📚❌ML: hm\\n\\n\\nHow productive have you been?: 6/10\\nHow interesting was the day?: 6/10\\nHow stressful was the day?: 0/10', datetime.date(2023, 2, 17), datetime.datetime(2023, 2, 17, 9, 8, 42), datetime.datetime(2023, 7, 26, 15, 38, 42), 6.0, 6.0, 0.0, None, None, None)\n",
      "(164, '18.02.23\\n🔎❌ Download mentor programs and choose one link\\n📚❌Statistics: lecture linear regression\\n📚✅ Statistics: seminar link\\n📚❌ ML: lecture\\n📚✅ ML: hm\\n📚 ❌Tinkoff: tasks\\n🥊 ✅Boxing 19:00\\n\\n\\nHow productive have you been?: 6.5/10\\nHow interesting was the day?: 7/10\\nHow stressful was the day?: 0/10', datetime.date(2023, 2, 18), datetime.datetime(2023, 2, 17, 19, 43, 41), datetime.datetime(2023, 7, 26, 15, 38, 21), 6.5, 7.0, 0.0, None, None, None)\n",
      "(166, '19.02.23\\n\\n🔎 ✅Download mentor programs and choose one link\\n🔎 ❌MTS ML: registrate\\n\\n📚✅ Statistics: lecture linear regression\\n📚✅ Tinkoff: tasks\\n📚❌ML: HM\\n📚❌Stats: HM\\n\\n📄❌Correct my antiplagiasm project\\n📄❌Add my ml_hm to github\\n\\n\\nHow productive have you been?: 5.5/10\\nHow interesting was the day?: 5.5/10\\nHow stressful was the day?: 1.5/10', datetime.date(2023, 2, 19), datetime.datetime(2023, 2, 18, 19, 1, 10), datetime.datetime(2023, 7, 26, 15, 38), 5.5, 5.5, 1.5, None, None, None)\n",
      "(170, '20.02.23\\n\\n✅🔎 MTS ML: registrate\\n\\n✅🎒QM: hm\\n✅🎒QM: seminar \\n\\n📚 Tinkoff: tasks\\n📚 ML: HM\\n📚 Correct my antiplagiasm project\\n\\n📄 Add my ml_hm to github\\n\\n\\nHow productive have you been?: 6/10\\nHow interesting was the day?: 6/10\\nHow stressful was the day?: 2/10', datetime.date(2023, 2, 20), datetime.datetime(2023, 2, 20, 6, 3, 51), datetime.datetime(2023, 2, 20, 8, 11, 50), 6.0, 6.0, 2.0, None, None, None)\n",
      "(202, \"28.02.23\\n✅🎒 MTS school: it was really interesting, the atmosphere was cozy, lecturer told about his experiense in data science  \\n✅📚 Tinkoff generation ML: do hm\\n✅🤒 I'm getting sick\\n✅📺 The last of us: ep3\\n\\n\\nHow productive have you been?: 6/10\\nHow interesting was the day?: 7/10\\nHow stressful was the day?: 1.5/10\", datetime.date(2023, 2, 28), datetime.datetime(2023, 3, 2, 8, 18, 34), datetime.datetime(2023, 7, 26, 15, 36, 57), 6.0, 7.0, 1.5, None, None, None)\n",
      "(204, \"01.03.23\\n✅📚 Tinkoff generation ml: i have been doing this homework all day, plot graphs with plotly, i think, that I've been doing it for too long\\n✅📺 Rick and Morty 1 series: how did I watch it before? now it reminds me of some stupid teen cartoon\\n✅📺 Series with Ann: The last of us ep4\\n\\n\\nHow productive have you been?: 5/10\\nHow interesting was the day?: 6.5/10\\nHow stressful was the day?: 2/10\", datetime.date(2023, 3, 1), datetime.datetime(2023, 3, 2, 8, 18, 55), datetime.datetime(2023, 7, 26, 15, 36, 18), 5.0, 6.5, 2.0, None, None, None)\n",
      "(206, '02.03.23\\n\\n✅🎒 MTS school: NLP seminar\\n📚IAD: HM\\n✅📚Statistics: lecture \\n📚ML: decision trees lecture\\n\\n🤕 English: pass homeworks\\n\\n\\nHow productive have you been?: 6/10\\nHow interesting was the day?: 6/10\\nHow stressful was the day?: 2/10', datetime.date(2023, 3, 2), datetime.datetime(2023, 3, 2, 8, 19, 26), datetime.datetime(2023, 7, 26, 15, 36), 6.0, 6.0, 2.0, None, None, None)\n",
      "(208, '03.03.23\\n\\n✅📚Statistics: lecture \\n✅📚ML: decision trees lecture\\n✅📚ML: decision trees seminar\\n\\n\\nHow productive have you been?: 6.5/10\\nHow interesting was the day?: 6/10\\nHow stressful was the day?: 1/10', datetime.date(2023, 3, 3), datetime.datetime(2023, 3, 4, 17, 29, 25), datetime.datetime(2023, 7, 26, 15, 35, 44), 6.5, 6.0, 1.0, None, None, None)\n",
      "(210, '04.04.23\\nChemistry: labs 1-4\\nEnglish pass homeworks\\nQuantum mechanics \\n\\n\\nHow productive have you been?: 3/10\\nHow interesting was the day?: 4/10\\nHow stressful was the day?: 2.5/10', datetime.date(2023, 4, 4), datetime.datetime(2023, 3, 4, 17, 31, 20), datetime.datetime(2023, 7, 26, 15, 34, 2), 3.0, 4.0, 2.5, None, None, None)\n",
      "(212, '05.03.23\\n\\n✅📚 Tinkoff ML HM\\n✅📚ML: Lecture bias variance decompose\\n\\n✅ MIPT: differential geometry \\n* Quantum mechanics: lecture + seminar\\n\\n\\nHow productive have you been?: 6.5/10\\nHow interesting was the day?: 7/10\\nHow stressful was the day?: 1/10', datetime.date(2023, 3, 5), datetime.datetime(2023, 3, 5, 6, 35, 36), datetime.datetime(2023, 7, 26, 15, 34, 19), 6.5, 7.0, 1.0, None, None, None)\n",
      "(214, '06.02.23\\n* Quantum mechanics: lecture \\n* Quantum mechanics: seminar\\n\\n✅ Statistics: lecture 7\\n✅ Statistics:  seminar 7\\n✅ ML lecture: Bagging, random forest\\n\\n✅ Write letter to hse manager\\n✅ English: write essays use chat GPT\\n✅ Право тестики\\n\\nHow productive have you been?: 7/10\\nHow interesting was the day?: 6.5/10\\nHow stressful was the day?: 0/10', datetime.date(2023, 2, 6), datetime.datetime(2023, 3, 6, 6, 29, 51), datetime.datetime(2023, 7, 26, 15, 34, 48), 7.0, 6.5, 0.0, None, None, None)\n",
      "(216, '07.02.23\\n\\n✅ Quantum mechanics: lecture \\n* Quantum mechanics: seminar\\n✅ English\\n✅ Statistics: lecture 8\\n\\n* Weekly recap video maker\\n* Budget planner\\n\\nHow productive have you been?: 6.5/10\\nHow interesting was the day?: 6/10\\nHow stressful was the day?: 0/10', datetime.date(2023, 2, 7), datetime.datetime(2023, 3, 7, 8, 24, 16), datetime.datetime(2023, 7, 26, 15, 35, 14), 6.5, 6.0, 0.0, None, None, None)\n",
      "(235, '17.03.23\\n\\n✅ Qm: hm 8\\n* ML: HM_4\\n* Tinkoff ml: hm\\n* print notes for chemistry\\n\\n\\nHow productive have you been?: 5.5/10\\nHow interesting was the day?: 5.5/10\\nHow stressful was the day?: 1.5/1016.03.23\\n✅ Ubuntu setup\\n✅ English\\n✅ QM: hm 6,7\\n✅ Coffee make me alive!\\n\\nHow productive have you been?: 5/10\\nHow interesting was the day?: 5/10\\nHow stressful was the day?: 0/10', datetime.date(2023, 3, 17), datetime.datetime(2023, 3, 17, 14, 18, 6), datetime.datetime(2023, 7, 26, 15, 33, 29), 5.5, 5.5, 1.5, None, None, None)\n",
      "(239, '18.03.23\\n✅ Chemistry: read 3 lecture notes \\n✅ Google sheet sync with python: daily stats plotter\\n✅ Sport: pull the bar (pull-up)\\n✅ Eng: some tasks \\n* Tinkoff hm\\n✅ ML: hm\\n\\n\\nHow productive have you been?: 6/10\\nHow interesting was the day?: 6/10\\nHow stressful was the day?: 2/10', datetime.date(2023, 3, 18), datetime.datetime(2023, 3, 17, 22, 46, 40), datetime.datetime(2023, 7, 26, 15, 32, 45), 6.0, 6.0, 2.0, None, None, None)\n",
      "(241, '19.03.23\\n✅ MIPT seminar \\n* Tinkoff hm \\n✅ ML: finish hm classification\\n✅ ML: start hm boosting \\n✅ QM: lectures\\n✅ Statistics witn Anna \\n\\n\\nHow productive have you been?: 7/10\\nHow interesting was the day?: 7.5/10\\nHow stressful was the day?: 0/10', datetime.date(2023, 3, 19), datetime.datetime(2023, 3, 18, 21, 14, 12), datetime.datetime(2023, 7, 26, 15, 31, 26), 7.0, 7.5, 0.0, None, None, None)\n",
      "(243, '20.03.23\\n✅ ML: boosting lecture\\n❌ ML: boosting seminar\\n❌ ML: PCA\\n✅ English exams \\n✅ QM: hm\\n\\n\\nHow productive have you been?: 5/10\\nHow interesting was the day?: 5/10\\nHow stressful was the day?: 2/10', datetime.date(2023, 3, 20), datetime.datetime(2023, 3, 19, 22, 42, 57), datetime.datetime(2023, 7, 26, 15, 31, 54), 5.0, 5.0, 2.0, None, None, None)\n",
      "(245, '21.03.23\\n\\n❌ Sport: pull-up \\n\\n✅ ML: boosting seminar\\n❌ ML: clusterization lecture\\n❌ ML: PCA seminar\\n✅ ML: boosting practice\\n✅ ML: PCA\\n\\n* IAD: hm \\n\\n❌ Chemistry: prepare for exams\\n✅ English: do some tasks \\n\\n Laptop repair \\n\\n\\nHow productive have you been?: 5/10\\nHow interesting was the day?: 5/10\\nHow stressful was the day?: 1.5/10', datetime.date(2023, 3, 21), datetime.datetime(2023, 3, 21, 10, 28, 28), datetime.datetime(2023, 7, 26, 15, 32, 13), 5.0, 5.0, 1.5, None, None, None)\n",
      "(247, '22.03.23 Relax-day\\n\\n✅ Chemistry: exam\\n✅ Awesome time with Anna: we hiked,  bought some clothes and visited mate club\\n❌ Failed laptop repair \\n\\n\\nHow productive have you been?: 6/10\\nHow interesting was the day?: 6/10\\nHow stressful was the day?: 0/10', datetime.date(2023, 3, 22), datetime.datetime(2023, 3, 22, 21, 12, 2), datetime.datetime(2023, 7, 26, 15, 32, 26), 6.0, 6.0, 0.0, None, None, None)\n",
      "(263, '28.03.23\\n\\nTook Anna by train\\n\\nMl lecture \\n\\nHow productive have you been?: 6/10\\nHow interesting was the day?: 7/10\\nHow stressful was the day?: 0/10', datetime.date(2023, 3, 28), datetime.datetime(2023, 4, 1, 13, 28, 20), datetime.datetime(2023, 7, 26, 15, 29, 20), 6.0, 7.0, 0.0, None, None, None)\n",
      "(267, '29.03.23\\n\\nML lecture \\n\\nMovies time\\n\\nHow productive have you been?: 6.5/10\\nHow interesting was the day?: 7/10\\nHow stressful was the day?: 0/10', datetime.date(2023, 3, 29), datetime.datetime(2023, 4, 1, 13, 29, 50), datetime.datetime(2023, 7, 26, 15, 30, 8), 6.5, 7.0, 0.0, None, None, None)\n",
      "(273, '31.03.23\\n\\n📖 Quantum mechanics: lectures\\n\\n💪🏋🏻\\u200d♂️Gym\\n\\n💁🏼\\u200d♂️💬  Network with groupmates\\n\\n\\nHow productive have you been?: 6/10\\nHow interesting was the day?: 6/10\\nHow stressful was the day?: 1/10', datetime.date(2023, 3, 31), datetime.datetime(2023, 4, 1, 13, 31, 17), datetime.datetime(2023, 7, 26, 15, 24, 36), 6.0, 6.0, 1.0, None, None, None)\n",
      "(276, '01.04.23\\n\\n🧹 Flat cleaning + 🎙 health/career podcast \\n\\n📚 Deep Learning lecture\\n\\n\\nHow productive have you been?: 5/10\\nHow interesting was the day?: 5.5/10\\nHow stressful was the day?: 1/10', datetime.date(2023, 4, 1), datetime.datetime(2023, 4, 1, 13, 33, 5), datetime.datetime(2023, 7, 26, 15, 24, 22), 5.0, 5.5, 1.0, None, None, None)\n",
      "(278, '02.04.23\\n\\n📚 Diggerential geometry: lecture + hm\\n📚 Deep learning: seminar 1\\n\\n💁🏼\\u200d♂️💬 MIPT and Dolgoprudny excursion \\n\\nHow productive have you been?: 6/10\\nHow interesting was the day?: 7/10\\nHow stressful was the day?: 0/10', datetime.date(2023, 4, 2), datetime.datetime(2023, 4, 2, 7, 11, 43), datetime.datetime(2023, 7, 26, 15, 24, 6), 6.0, 7.0, 0.0, None, None, None)\n",
      "(280, '03.04.23\\n\\n💪🤼\\u200d♂️ Sport: Judo training\\n📚 DL: Lecture + seminar\\n\\n\\nHow productive have you been?: 6/10\\nHow interesting was the day?: 6/10\\nHow stressful was the day?: 0/10', datetime.date(2023, 4, 3), datetime.datetime(2023, 4, 3, 10, 14, 34), datetime.datetime(2023, 7, 26, 15, 23, 50), 6.0, 6.0, 0.0, None, None, None)\n",
      "(282, '04.04.23\\n\\n📚 DL: Hm\\n📚 DL: Lecture \\n❤️💃🏻 Anya arrival\\n\\n\\nHow productive have you been?: 5/10\\nHow interesting was the day?: 5/10\\nHow stressful was the day?: 1/10', datetime.date(2023, 4, 4), datetime.datetime(2023, 4, 4, 8, 20, 33), datetime.datetime(2023, 7, 26, 15, 23, 41), 5.0, 5.0, 1.0, None, None, None)\n",
      "(284, '05.04.23\\n\\n👨\\u200d👨\\u200d👦\\u200d👦 🤦🏼 Did not find team for HSE hackaton\\n💁🏼\\u200d♂️💬 ODS random coffee with Roman\\n📚 DL: semianr\\n\\n\\nHow productive have you been?: 5/10\\nHow interesting was the day?: 5.5/10\\nHow stressful was the day?: 2/10', datetime.date(2023, 4, 5), datetime.datetime(2023, 4, 4, 20, 51, 38), datetime.datetime(2023, 7, 26, 15, 23, 26), 5.0, 5.5, 2.0, None, None, None)\n",
      "(286, '06.04.23\\n\\n👨🏻\\u200d💻💬 Tinkoff lab team meeting \\n\\n📚 Dl: homework\\n📚 DL: lecture\\n\\n💪🏻🏃🏻\\u200d♂️Sport: running\\n\\n\\nHow productive have you been?: 6/10\\nHow interesting was the day?: 6.5/10\\nHow stressful was the day?: 1/10', datetime.date(2023, 4, 6), datetime.datetime(2023, 4, 6, 10, 40, 17), datetime.datetime(2023, 7, 26, 15, 23, 4), 6.0, 6.5, 1.0, None, None, None)\n",
      "(288, '07.04.23\\n\\n👨🏻\\u200d💻💬 Metting with Anastasia\\n💼 Tinkoff lab: do some work \\n\\n📚 DL: lecture\\n\\n\\nHow productive have you been?: 6/10\\nHow interesting was the day?: 6/10\\nHow stressful was the day?: 1/10', datetime.date(2023, 4, 7), datetime.datetime(2023, 4, 9, 9, 7, 27), datetime.datetime(2023, 7, 26, 15, 22, 38), 6.0, 6.0, 1.0, None, None, None)\n",
      "(290, '08.04.23\\n\\n🤕 Physics Optics Lab (we have done work only at 3 p.m. it was really stupid and boring things)\\n\\n📚DL: watched some lectures \\n\\n\\nHow productive have you been?: 4/10\\nHow interesting was the day?: 5/10\\nHow stressful was the day?: 3/10', datetime.date(2023, 4, 8), datetime.datetime(2023, 4, 9, 9, 9, 9), datetime.datetime(2023, 7, 26, 15, 22, 26), 4.0, 5.0, 3.0, None, None, None)\n",
      "(294, '10.03.23\\n\\n📚 DL: seminar (partly)\\n📚 DL: IAD lecture batchnorm\\n\\n🧑🏻\\u200d💻Yandex intern week: two tasks \\n💼💬 Tinkoff lab: meeting + work + NDA making \\n\\n🧹 🏠 Cleaning the room \\n\\n\\nHow productive have you been?: 6/10\\nHow interesting was the day?: 6/10\\nHow stressful was the day?: 0/10', datetime.date(2023, 3, 10), datetime.datetime(2023, 4, 9, 21, 22), datetime.datetime(2023, 7, 26, 15, 22, 5), 6.0, 6.0, 0.0, None, None, None)\n",
      "(308, '11.04.23\\n\\n💼👨🏻\\u200d💻Tinkoff ml lab: write two algorithms\\n\\n📚 DL: cs224n lecture on RNN  \\n DL: IAD lecture\\n DL homework \\n\\nMathematical physics: seminar\\n\\n🇬🇧 English: read article + watched interview\\n\\n💪🏻🏃🏻 Sport: running 5 km\\n\\n\\nHow productive have you been?: 6.5/10\\nHow interesting was the day?: 6.5/10\\nHow stressful was the day?: 0/10', datetime.date(2023, 4, 11), datetime.datetime(2023, 4, 11, 7, 19, 6), datetime.datetime(2023, 7, 26, 15, 21, 54), 6.5, 6.5, 0.0, None, None, None)\n",
      "(310, '12.03.23\\n\\n💼👨🏻\\u200d💻 Tinkoff lab: coding stepwise selection \\n\\n🧑🏻\\u200d💻Yandex intern week: one task  \\n\\n💪🏻🥊Sport: martial art\\n\\n\\nHow productive have you been?: 6/10\\nHow interesting was the day?: 6/10\\nHow stressful was the day?: 1/10', datetime.date(2023, 3, 12), datetime.datetime(2023, 4, 12, 21, 5, 13), datetime.datetime(2023, 7, 26, 15, 21, 31), 6.0, 6.0, 1.0, None, None, None)\n",
      "(312, '13.04.23\\n\\n💼👨🏻\\u200d💻 Tinkoff lab: fix stepwise selection and code backward and forward \\n\\n💼💬 Tinkoff lab: meeting \\n\\n📝IAD + Tinkoff generation: HM\\n\\n\\n🧑🏻\\u200d🏫📖 Mathematical physics: seminar\\n\\nEvening cartoon\\n\\n📦 Yandex coderun: solve one task\\n📦 DL: seminar\\n📦 DL: hm\\n\\nHow productive have you been?: 6/10\\nHow interesting was the day?: 6/10\\nHow stressful was the day?: 1/10', datetime.date(2023, 4, 13), datetime.datetime(2023, 4, 12, 21, 11, 49), datetime.datetime(2023, 7, 26, 15, 14, 35), 6.0, 6.0, 1.0, None, None, None)\n",
      "(314, '14.04.23\\n\\n\\n\\n📝 IAD + Tinkoff: finish homework \\n\\n📚DL: Lecture\\n\\n📦 Sport: martial art\\n📦DL: hm\\n📦 Optics: prepare laboratory work notes\\n📦 Cartoon\\n\\nHow productive have you been?: 5/10\\nHow interesting was the day?: 5.5/10\\nHow stressful was the day?: 3/10', datetime.date(2023, 4, 14), datetime.datetime(2023, 4, 14, 9, 39, 5), datetime.datetime(2023, 7, 26, 15, 13, 28), 5.0, 5.5, 3.0, None, None, None)\n",
      "(316, '15.04.24\\n\\n💪🏻🥊 Sport: martial art\\n\\n📚 DL lecture\\n📚DL: hm\\n\\n👩\\u200d👦💬 Talk with mother \\n\\n\\n📦 Optics: lecture \\n📦 Tinkoff hm\\n📦 Tinkoff work \\n📦 Reading: Harry Potter and methods of rationality\\n\\nHow productive have you been?: 6/10\\nHow interesting was the day?: 6/10\\nHow stressful was the day?: 0/10', datetime.date(2024, 4, 15), datetime.datetime(2023, 4, 15, 14, 6, 38), datetime.datetime(2023, 7, 26, 15, 12, 44), 6.0, 6.0, 0.0, None, None, None)\n",
      "(318, '16.04.23\\n\\n📝 Optics: lab passing \\n\\n📚 DL: hm \\n📚 Tinkoff hm\\n\\n 💼👨🏻\\u200d💻 Tinkoff work \\n\\n\\n📦 Reading: Harry Potter and methods of rationality\\n\\nHow productive have you been?: 6/10\\nHow interesting was the day?: 6/10\\nHow stressful was the day?: 1.5/10', datetime.date(2023, 4, 16), datetime.datetime(2023, 4, 16, 8, 16, 1), datetime.datetime(2023, 7, 26, 15, 12, 30), 6.0, 6.0, 1.5, None, None, None)\n",
      "(320, '17.04.23\\n\\n📝 Quantum mechanics: lecture + hm\\n\\n🏥 Hospital check\\n\\n💼👨🏻\\u200d💻Tinkoff work\\n\\n📦 DL: seminar\\n📦 DL: homework  \\n\\nHow productive have you been?: 5/10\\nHow interesting was the day?: 5/10\\nHow stressful was the day?: 1/10', datetime.date(2023, 4, 17), datetime.datetime(2023, 4, 17, 9, 6, 42), datetime.datetime(2023, 7, 26, 15, 11, 13), 5.0, 5.0, 1.0, None, None, None)\n",
      "(322, '18.04.23\\n\\n💼👨🏻\\u200d💻Tinkoff work\\n💼💬 Tinkoff lab: meeting \\n\\n🧑🏼\\u200d⚕️Psycholigost \\n\\n☕️🍰 Tea with neighbor \\n\\nHow productive have you been?: 5/10\\nHow interesting was the day?: 5.5/10\\nHow stressful was the day?: 1/10', datetime.date(2023, 4, 18), datetime.datetime(2023, 4, 19, 7, 49, 14), datetime.datetime(2023, 7, 26, 15, 10, 52), 5.0, 5.5, 1.0, None, None, None)\n",
      "(324, '19.04.23\\n\\nRec sys: lecture \\n\\nMathematical physics: prepare for test\\n\\nIAD + OAD: deadlines \\n\\nTinkoff lab: work\\n\\nHow productive have you been?: 6/10\\nHow interesting was the day?: 6/10\\nHow stressful was the day?: 1/10', datetime.date(2023, 4, 19), datetime.datetime(2023, 4, 19, 8, 6, 45), datetime.datetime(2023, 7, 26, 15, 10, 28), 6.0, 6.0, 1.0, None, None, None)\n",
      "(326, '20.04.23\\n\\n💼👨🏻\\u200d💻 Tinkoff lab: working\\n💼💬 Tinkoff lab meeting\\n\\n📝Mathematical physics: preparation for control work \\n📝OAD: pass hm \\n\\n📦Rec sys: lectures\\n\\nHow productive have you been?: 5/10\\nHow interesting was the day?: 5/10\\nHow stressful was the day?: 2.5/10', datetime.date(2023, 4, 20), datetime.datetime(2023, 4, 20, 6, 39, 12), datetime.datetime(2023, 7, 26, 15, 10, 3), 5.0, 5.0, 2.5, None, None, None)\n",
      "(329, '21.04.23\\n\\n📝 Matphys: control work\\n\\n📚 Recsys: lecture \\n\\nCycling \\n\\n📦 Tinkoff work\\n\\nHow productive have you been?: 6/10\\nHow interesting was the day?: 7/10\\nHow stressful was the day?: 1/10', datetime.date(2023, 4, 21), datetime.datetime(2023, 4, 21, 18, 16, 17), datetime.datetime(2023, 7, 26, 15, 5, 1), 6.0, 7.0, 1.0, None, None, None)\n",
      "(331, '22.04.23\\n\\n📚 Rec sys: seminar \\n📦 Tinkoff lab: work \\n\\n👨🏻\\u200d💻🥋 Data dojo\\n\\nHow productive have you been?: 5.5/10\\nHow interesting was the day?: 7.5/10\\nHow stressful was the day?: 0/10', datetime.date(2023, 4, 22), datetime.datetime(2023, 4, 22, 5, 39, 2), datetime.datetime(2023, 7, 26, 15, 4, 21), 5.5, 7.5, 0.0, None, None, None)\n",
      "(334, '23.04.23\\n\\n📚 Rec sys: seminar \\n💼👨🏻\\u200d💻 Tinkoff lab: work \\n\\nGo to the restaurant with Ann\\n \\nHow productive have you been?: 6/10\\nHow interesting was the day?: 7/10\\nHow stressful was the day?: 0/10', datetime.date(2023, 4, 23), datetime.datetime(2023, 4, 23, 10, 5, 24), datetime.datetime(2023, 7, 26, 15, 3, 28), 6.0, 7.0, 0.0, None, None, None)\n",
      "(336, '24.04.23\\n\\n📨 Send documents to mother\\n💼👨🏻\\u200d💻Tinkoff lab: work \\n\\nBoxing traning \\n\\n📝Quantum mechanics: hm\\n\\n📦Rec sys: lectures\\n\\nHow productive have you been?: 6/10\\nHow interesting was the day?: 6.5/10\\nHow stressful was the day?: 0/10', datetime.date(2023, 4, 24), datetime.datetime(2023, 4, 24, 5, 35, 25), datetime.datetime(2023, 7, 26, 15, 3, 47), 6.0, 6.5, 0.0, None, None, None)\n",
      "(339, '25.04.23\\n\\n💼👨🏻\\u200d💻 Tinkoff lab: working\\n💼💬 Tinkoff lab meeting\\n\\nGo to the Georgian restaurant with Ann\\n\\nHow productive have you been?: 6/10\\nHow interesting was the day?: 7/10\\nHow stressful was the day?: 2/10', datetime.date(2023, 4, 25), datetime.datetime(2023, 4, 26, 9, 54, 54), datetime.datetime(2023, 7, 26, 15, 3, 55), 6.0, 7.0, 2.0, None, None, None)\n",
      "(348, '29.04.23\\n\\nML recsys competition: send solutions late \\n\\nNew cool bike unboxing and assembling!\\n\\nHow productive have you been?: 7/10\\nHow interesting was the day?: 6/10\\nHow stressful was the day?: 3/10', datetime.date(2023, 4, 29), datetime.datetime(2023, 4, 30, 10, 48, 48), datetime.datetime(2023, 7, 26, 14, 59, 50), 7.0, 6.0, 3.0, None, None, None)\n",
      "(350, '30.04.23\\n\\nCycling\\n\\nTinkoff lab work: \\n\\nDL Adrey Korpaty video:\\nML competitional course\\n\\nHow productive have you been?: 6/10\\nHow interesting was the day?: 6/10\\nHow stressful was the day?: 0/10', datetime.date(2023, 4, 30), datetime.datetime(2023, 4, 30, 10, 50, 34), datetime.datetime(2023, 7, 26, 14, 57, 39), 6.0, 6.0, 0.0, None, None, None)\n",
      "(363, '01.05.23\\n\\nVisited Moscow zoo\\nCycling\\nDl: lecture partly\\n\\nHow productive have you been?: 5/10\\nHow interesting was the day?: 7/10\\nHow stressful was the day?: 0/10', datetime.date(2023, 5, 1), datetime.datetime(2023, 5, 4, 19, 39, 9), datetime.datetime(2023, 7, 26, 14, 57, 14), 5.0, 7.0, 0.0, None, None, None)\n",
      "(367, '02.05.23\\n \\nTinkoff lab: work \\nTinkoff lab: meeting \\n\\nInteresting history lecture\\n\\nSell skateboard \\n\\nHow productive have you been?: 6/10\\nHow interesting was the day?: 6/10\\nHow stressful was the day?: 0/10', datetime.date(2023, 5, 2), datetime.datetime(2023, 5, 4, 19, 43, 36), datetime.datetime(2023, 7, 26, 14, 56, 55), 6.0, 6.0, 0.0, None, None, None)\n",
      "(369, '03.05.23\\n\\nTinkoff work\\n\\nDL: lecture (partly)\\n\\nRunning traning \\n\\nCycling with Anna \\n\\nHow productive have you been?: 6/10\\nHow interesting was the day?: 7/10\\nHow stressful was the day?: 0/10', datetime.date(2023, 5, 3), datetime.datetime(2023, 5, 4, 19, 44, 38), datetime.datetime(2023, 7, 26, 14, 56, 28), 6.0, 7.0, 0.0, None, None, None)\n",
      "(377, '04.05.23 \\n\\n🍽🏕🥩Picnic in the country\\n\\n📚NLP: reading notes \\n\\n📺🧑\\u200d🏫 Interesting history lecture\\n\\nHow productive have you been?: 5/10\\nHow interesting was the day?: 7/10\\nHow stressful was the day?: 0/10', datetime.date(2023, 5, 4), datetime.datetime(2023, 5, 4, 19, 59, 33), datetime.datetime(2023, 7, 26, 13, 49, 31), 5.0, 7.0, 0.0, None, None, None)\n",
      "(387, '05.05.23 \\n\\n💼👨🏻\\u200d💻 Tinkoff lab: working\\n💼💬 Tinkoff lab meeting\\n\\n📚 NLP: notes + lecture\\n\\n🗓Planning\\n\\n📦 My pet project: make dashboards for day monitoring  \\n📦 History lecture \\n\\nHow productive have you been?: 6/10\\nHow interesting was the day?: 6/10\\nHow stressful was the day?: 2/10', datetime.date(2023, 5, 5), datetime.datetime(2023, 5, 5, 8, 4, 12), datetime.datetime(2023, 7, 26, 13, 50, 19), 6.0, 6.0, 2.0, None, None, None)\n",
      "(392, '06.05.23 SATURDAY\\n\\n📚 NLP: lecture (partly)\\n📚 NLP: seminar (partly)\\n\\n📺 Cinema\\n\\n📦 Swimming\\n📦 ML 2: sharp values lecture\\n\\nHow productive have you been?: 4/10\\nHow interesting was the day?: 5/10\\nHow stressful was the day?: 1/10', datetime.date(2023, 5, 6), datetime.datetime(2023, 5, 5, 14, 43, 23), datetime.datetime(2023, 7, 26, 13, 50, 53), 4.0, 5.0, 1.0, None, None, None)\n",
      "(395, '07.05.23 SUNDAY\\n\\n🥊 Boxing \\n\\n📚 NLP: seminar\\n📚 NLP: lecture\\n\\n💼👨🏻\\u200d💻Tinkoff lab work \\n\\n📝 Some math tasks \\n\\n📦 History lectures\\n\\nHow productive have you been?: 7.5/10\\nHow interesting was the day?: 7/10\\nHow stressful was the day?: 0/10', datetime.date(2023, 5, 7), datetime.datetime(2023, 5, 6, 21, 27, 8), datetime.datetime(2023, 7, 26, 13, 51, 6), 7.5, 7.0, 0.0, None, None, None)\n",
      "(397, '08.05.23 MONDAY\\n\\n📚 NLP: lecture\\n📚 NLP: seminar (partly)\\n\\n🚲\\U0001fa9bBike repair\\n🛒 Go ozon\\n\\n💼👨🏻\\u200d💻Tinkoff lab: work (partly)\\n\\n💪🏻 Sport: pull ups\\n\\n📦 Algoritms \\n\\nHow productive have you been?: 4.5/10\\nHow interesting was the day?: 5.3/10\\nHow stressful was the day?: 0/10', datetime.date(2023, 5, 8), datetime.datetime(2023, 5, 7, 21, 27, 24), datetime.datetime(2023, 7, 26, 13, 51, 19), 4.5, 5.3, 0.0, None, None, None)\n",
      "(399, '09.05.23\\n\\n📚 NLP: seminar \\n\\n💼👨🏻\\u200d💻 Tinkoff work\\n\\n\\U0001fa9b\\U0001fa9b Repair everything \\n\\n📦 My project\\n📦 NLP: lecture \\n📦 Optics\\n\\nHow productive have you been?: 5.5/10\\nHow interesting was the day?: 6/10\\nHow stressful was the day?: 0/10', datetime.date(2023, 5, 9), datetime.datetime(2023, 5, 8, 21, 9, 20), datetime.datetime(2023, 7, 26, 13, 51, 34), 5.5, 6.0, 0.0, None, None, None)\n",
      "(403, '10.05.23 WEDNESDAY\\n\\n💼🗒 Apply for job\\n\\n📚 NLP lecture/seminar/hm/project\\n📚 NLP seminar\\n\\n🇬🇧🎙English podcasts\\n🇬🇧🗣English lesson \\n\\n🥊 Boxing \\n\\n📦 Optics: lecture \\n📦 History: lecture\\n📦 Tinkoff lab: work\\n\\nHow productive have you been?: 6/10\\nHow interesting was the day?: 7.3/10\\nHow stressful was the day?: 0/10', datetime.date(2023, 5, 10), datetime.datetime(2023, 5, 10, 20, 6, 30), datetime.datetime(2023, 7, 26, 13, 51, 43), 6.0, 7.3, 0.0, None, None, None)\n",
      "(406, '11.05.23 THURSDAY\\n\\n💼👨🏻\\u200d💻 Tinkoff work \\n\\n🎞 Make holidays recap \\n\\n🔍📑Find mentors and make bio\\n\\n🥊  Box\\n \\n📦 NLP seminar\\n📦 ODS?\\n📦Optics\\n\\nHow productive have you been?: 5/10\\nHow interesting was the day?: 7/10\\nHow stressful was the day?: 2/10', datetime.date(2023, 5, 11), datetime.datetime(2023, 5, 10, 21, 49, 47), datetime.datetime(2023, 7, 26, 13, 51, 56), 5.0, 7.0, 2.0, None, None, None)\n",
      "(408, '12.05.25 FRIDAY\\n\\n💼👨🏻\\u200d💻 Tinkoff work\\n💼💬 Tinkoff lab meeting 🤕\\n\\n📝🙋🏼Write to mentors \\n\\n📦 NLP\\n📦 hm OAD\\n\\nHow productive have you been?: 5.5/10\\nHow interesting was the day?: 7/10\\nHow stressful was the day?: 6/10', datetime.date(2025, 5, 12), datetime.datetime(2023, 5, 11, 21, 40, 53), datetime.datetime(2023, 5, 16, 10, 37, 56), 5.5, 7.0, 6.0, None, None, None)\n",
      "(411, '13.05.23 SATURDAY\\n\\n📚 NLP hm (paaaartly)\\n📚 DL seminar\\n\\n🤮 OAD: hm\\n🤕 IAD: hm\\n\\n📦 Tinkoff work\\n📦 QM: hm\\n📦 Ask people about specialization\\n\\nHow productive have you been?: 4.5/10\\nHow interesting was the day?: 5/10\\nHow stressful was the day?: 4/10', datetime.date(2023, 5, 13), datetime.datetime(2023, 5, 12, 21, 23, 27), datetime.datetime(2023, 5, 16, 10, 38, 36), 4.5, 5.0, 4.0, None, None, None)\n",
      "(414, '14.05.23 SUNDAY\\n\\n💼👨🏻\\u200d💻Tinkoff work\\n📝👨🏻\\u200d💻IAD (paaarly)\\n\\n🍺🤕Drinking cidre\\n\\nHow productive have you been?: 4.5/10\\nHow interesting was the day?: 4.5/10\\nHow stressful was the day?: 4/10', datetime.date(2023, 5, 14), datetime.datetime(2023, 5, 16, 10, 24, 54), datetime.datetime(2023, 5, 16, 10, 40), 4.5, 4.5, 4.0, None, None, None)\n",
      "(418, '15.05.23 MONDAY\\n\\n📝👨🏻\\u200d🏫 Teaching specialization exam\\n\\n💻🙋🏼🙋🏻\\u200d♂️🙋\\u200d♀️ Yandex meeting: I won prizes!\\n\\n📝👨🏻\\u200d💻 IAD hm\\n\\n🚴🏼🎧 Cycling and podcast\\n\\nHow productive have you been?: 5/10\\nHow interesting was the day?: 7.5/10\\nHow stressful was the day?: 2/10', datetime.date(2023, 5, 15), datetime.datetime(2023, 5, 16, 10, 27), datetime.datetime(2023, 7, 26, 13, 52, 14), 5.0, 7.5, 2.0, None, None, None)\n",
      "(420, '16.05.23 TUESDAY\\n\\n🥊 Boxing \\n\\n🗓Planning\\n\\n💼👨🏻\\u200d💻Tinkoff work\\n💼💬 Tinkoff lab meeting \\n\\n📝👨🏻\\u200d💻 IAD \\n\\n📦 ODS meeting\\n📦 NLP ?\\n📦 Tinkoww generation: hm?\\n\\nHow productive have you been?: 6/10\\nHow interesting was the day?: 6/10\\nHow stressful was the day?: 2/10', datetime.date(2023, 5, 16), datetime.datetime(2023, 5, 16, 10, 30, 39), datetime.datetime(2023, 7, 26, 13, 52, 20), 6.0, 6.0, 2.0, None, None, None)\n",
      "(422, '16.05.23\\n\\n🥊 Sport: little workout + box traning \\n\\nTinkoff work\\nTinkoff generation: hm\\n\\nNLP: hm\\n\\nMeeting with mentor \\nODS meeting\\n\\nWrite people about specialization \\nWrite mother \\n\\nRegister on data fest\\n\\nHow productive have you been?: 6/10\\nHow interesting was the day?: 6/10\\nHow stressful was the day?: 2/10', datetime.date(2023, 5, 16), datetime.datetime(2023, 5, 16, 20, 49, 12), datetime.datetime(2023, 7, 26, 13, 54, 16), 6.0, 6.0, 2.0, None, None, None)\n",
      "(425, '18.05.24\\n\\n\\nHow productive have you been?: 5/10\\nHow interesting was the day?: 5/10\\nHow stressful was the day?: 0/10', datetime.date(2024, 5, 18), datetime.datetime(2023, 5, 21, 12, 48, 38), datetime.datetime(2023, 7, 26, 13, 55, 40), 5.0, 5.0, 0.0, None, None, None)\n",
      "(427, '19.05.23\\n\\nHow productive have you been?: 5/10\\nHow interesting was the day?: 6/10\\nHow stressful was the day?: 0/10', datetime.date(2023, 5, 19), datetime.datetime(2023, 5, 21, 12, 49), datetime.datetime(2023, 7, 26, 13, 55, 52), 5.0, 6.0, 0.0, None, None, None)\n",
      "(435, '20.05.23\\n\\nHow productive have you been?: 3/10\\nHow interesting was the day?: 7.5/10\\nHow stressful was the day?: 2/10', datetime.date(2023, 5, 20), datetime.datetime(2023, 5, 21, 12, 52, 28), datetime.datetime(2023, 7, 26, 13, 54, 32), 3.0, 7.5, 2.0, None, None, None)\n",
      "(438, '21.05.23\\n\\n* End resume project \\n💼👨🏻\\u200d💻 Tinkoff: work\\nBoxing\\n\\nHow productive have you been?: 4.5/10\\nHow interesting was the day?: 4.5/10\\nHow stressful was the day?: 4/10', datetime.date(2023, 5, 21), datetime.datetime(2023, 5, 21, 12, 52, 58), datetime.datetime(2023, 7, 26, 13, 54, 37), 4.5, 4.5, 4.0, None, None, None)\n",
      "(440, '22.05.23\\n\\n* End resume project \\n💼👨🏻\\u200d💻 Tinkoff: work\\n\\nHow productive have you been?: 5.5/10\\nHow interesting was the day?: 5/10\\nHow stressful was the day?: 3/10', datetime.date(2023, 5, 22), datetime.datetime(2023, 5, 23, 6, 41, 13), datetime.datetime(2023, 7, 26, 13, 54, 43), 5.5, 5.0, 3.0, None, None, None)\n",
      "(442, '23.05.23\\n\\n💼👨🏻\\u200d💻 Tinkoff work \\n\\n* Done my projects\\n* Send job application\\n\\n* Start my day analyze project\\n\\nHow productive have you been?: 5.8/10\\nHow interesting was the day?: 5/10\\nHow stressful was the day?: 3/10', datetime.date(2023, 5, 23), datetime.datetime(2023, 5, 23, 6, 42, 10), datetime.datetime(2023, 7, 26, 13, 55, 8), 5.8, 5.0, 3.0, None, None, None)\n",
      "(471, '31.05.23\\n\\n* IAD: HM\\n\\n🧾 Optics: end hm \\n📦 Optics: lectures \\n\\nTinkoff work: \\n💼👨🏻\\u200d💻 1) find hyperparametrs for stepwise \\n2) write program to find best hyperparametrs fastly \\n3) add ideas from boruta to stepwise\\n\\n🥊 Box training\\n\\n💼💬 Tinkoff meeting\\n\\nHow productive have you been?: 6/10\\nHow interesting was the day?: 6/10\\nHow stressful was the day?: 1/10', datetime.date(2023, 5, 31), datetime.datetime(2023, 5, 30, 19, 24, 36), datetime.datetime(2023, 7, 27, 19, 53, 24), 6.0, 6.0, 1.0, None, None, None)\n",
      "(476, '01.06.23 \\n\\n💼👨🏻\\u200d💻 Tinkoff work: test algorytms woth different parametrs\\n\\n📚 NLP: lecture\\n\\n👮🏼📄 Docs for international passport \\n\\n📦 IAD: HM\\n📦 Optics: lectures\\n\\nHow productive have you been?: 6/10\\nHow interesting was the day?: 7/10\\nHow stressful was the day?: 1/10', datetime.date(2023, 6, 1), datetime.datetime(2023, 6, 1, 9, 26, 4), datetime.datetime(2023, 7, 27, 19, 53, 10), 6.0, 7.0, 1.0, None, None, None)\n",
      "(479, '02.06.23\\n\\n💼👨🏻\\u200d💻 Tinkoff work: variables analysis \\n💼💬 Tinkoff meeting \\n\\n👥💬 ODS: Alfa Bank meetup\\n\\nHow productive have you been?: 4/10\\nHow interesting was the day?: 8/10\\nHow stressful was the day?: 1/10', datetime.date(2023, 6, 2), datetime.datetime(2023, 6, 2, 7, 49, 59), datetime.datetime(2023, 6, 8, 6, 36, 22), 4.0, 8.0, 1.0, None, None, None)\n",
      "(485, '03.06.23\\n\\n📝 DS: exam\\n\\n🥼 Optics lab\\n\\n🤼🏆 Judo competition\\n\\n📦 Optics/qm lecture\\n📦 NLP lecture+ conspects\\n\\nHow productive have you been?: 5/10\\nHow interesting was the day?: 8/10\\nHow stressful was the day?: 4/10', datetime.date(2023, 6, 3), datetime.datetime(2023, 6, 3, 6, 36, 22), datetime.datetime(2023, 6, 8, 6, 36, 6), 5.0, 8.0, 4.0, None, None, None)\n",
      "(488, '04.06.23\\n\\n📚 NLP lecture + conspects\\n\\n📄 Register for summer school!!!\\n\\n💼👨🏻\\u200d💻 Tinkoff work\\n\\n📦 OPTICS DEADLINE \\n📦 IAD DEADLINE\\n📦 Quantum mechanics lecture \\n📦 Optics lecture\\n\\nHow productive have you been?: 4.5/10\\nHow interesting was the day?: 5/10\\nHow stressful was the day?: 3.5/10', datetime.date(2023, 6, 4), datetime.datetime(2023, 6, 3, 17, 31, 20), datetime.datetime(2023, 6, 8, 6, 35, 53), 4.5, 5.0, 3.5, None, None, None)\n",
      "(491, '05.06.23 \\n\\n🗃\\U0001faaa Pick up my passport\\n🚴🏼\\u200d♂️🌧 Сycling trip to passport \\n\\n🛁💪🏻 Relax in bath\\n\\n💼👨🏻\\u200d💻 Tinkoff work\\n\\n📝 Optics test  \\n📝 Quantum mechanics hm\\n📝 IAD DEADLINE\\n\\n📚 NLP lecture\\n\\nHow productive have you been?: 5.5/10\\nHow interesting was the day?: 7.5/10\\nHow stressful was the day?: 3.5/10', datetime.date(2023, 6, 5), datetime.datetime(2023, 6, 5, 17, 0, 31), datetime.datetime(2023, 6, 8, 6, 35, 45), 5.5, 7.5, 3.5, None, None, None)\n",
      "(494, '06.06.23\\n\\n💼👨🏻\\u200d💻 Tinkoff work\\n\\n👨🏻\\u200d💻📚 My project: watches video about docker \\n\\n👨🏻\\u200d💻🏆 ODS: nlp in practice lectures \\n\\n📦 Optics lecture\\n\\nHow productive have you been?: 4.5/10\\nHow interesting was the day?: 4.5/10\\nHow stressful was the day?: 2.5/10', datetime.date(2023, 6, 6), datetime.datetime(2023, 6, 6, 9, 54, 11), datetime.datetime(2023, 6, 8, 6, 35, 36), 4.5, 4.5, 2.5, None, None, None)\n",
      "(497, '07.06.23 \\n\\n🇬🇧🎙 English podcast \\n\\n💼👨🏻\\u200d💻 Tinkoff work:\\n1) Filter datasets and train models \\n2) Feature filtering + EDA\\n3) Neural network methods\\n\\n\\n📖 Optics lectures \\n👨🏻\\u200d💻🏆 ODS: nlp in practice lectures\\n\\n📚👨🏻\\u200d💻 My project: write django site template \\n\\n📦 Quantum mechanics lectures \\n📦 Boxing?\\n\\nHow productive have you been?: 7.5/10\\nHow interesting was the day?: 7.5/10\\nHow stressful was the day?: 2/10', datetime.date(2023, 6, 7), datetime.datetime(2023, 6, 6, 20, 46, 15), datetime.datetime(2023, 6, 9, 21, 35, 2), 7.5, 7.5, 2.0, None, None, None)\n",
      "(500, '08.06.23\\n\\n💼👨🏻\\u200d💻 Tinkoff work\\n\\n📝 OAD Deadline\\n\\n📦 My project: sync data \\n📦 NLP in practice: make baseline \\n📦 Optics lectures \\n\\n\\nHow productive have you been?: 4.5/10\\nHow interesting was the day?: 4/10\\nHow stressful was the day?: 2/10', datetime.date(2023, 6, 8), datetime.datetime(2023, 6, 8, 6, 35, 15), datetime.datetime(2023, 6, 9, 21, 37, 33), 4.5, 4.0, 2.0, None, None, None)\n",
      "(506, '09.06.23\\n\\n💼💬 Tinkoff meeting\\n\\n🎒📖 Optics lectures \\n\\n📝🙋🏼  Write mentor \\n\\n🧘🏼\\u200d♂️ Meditation \\n \\n👨🏻\\u200d💻🏆 NlP in practice: watch lectures and get info\\n\\n📦 Optics lab work \\n📦 My project: build site \\n\\nHow productive have you been?: 6.5/10\\nHow interesting was the day?: 6/10\\nHow stressful was the day?: 1/10', datetime.date(2023, 6, 9), datetime.datetime(2023, 6, 9, 9, 2, 7), datetime.datetime(2023, 6, 11, 9, 37, 47), 6.5, 6.0, 1.0, None, None, None)\n",
      "(510, '10.06.23\\n\\n📝 Optics: test\\n🎒📖 Optics: lectures\\n\\n🙋🏻\\u200d♂️🗣 Meeting with mentor \\n\\n💼👨🏻\\u200d💻 Tinkoff work\\n\\n📦 NLP in practice\\n\\nHow productive have you been?: 5/10\\nHow interesting was the day?: 6/10\\nHow stressful was the day?: 2/10', datetime.date(2023, 6, 10), datetime.datetime(2023, 6, 9, 21, 31, 28), datetime.datetime(2023, 6, 12, 7, 33, 59), 5.0, 6.0, 2.0, None, None, None)\n",
      "(514, '11.06.23\\n\\n📝Optics: finish 1 lab \\n\\n💼👨🏻\\u200d💻Tinkoff work: stack selection methods\\n\\n📦 QM: lecture\\n📦 NLP in practice: code baseline \\n\\nHow productive have you been?: 4.5/10\\nHow interesting was the day?: 4/10\\nHow stressful was the day?: 3/10', datetime.date(2023, 6, 11), datetime.datetime(2023, 6, 11, 9, 33, 45), datetime.datetime(2023, 6, 12, 10, 10, 15), 4.5, 4.0, 3.0, None, None, None)\n",
      "(517, '12.06.23\\n\\n🌋😵 Burnout \\n\\n\\n\\n* Make list with things to-do when you are really tired\\n\\n* Optics: hm\\n* Quantum mechanics: hm\\n* Tinkoff generation: project\\n\\n* Tinkoff work\\n\\nHow productive have you been?: 2/10\\nHow interesting was the day?: 4/10\\nHow stressful was the day?: 6/10', datetime.date(2023, 6, 12), datetime.datetime(2023, 6, 12, 10, 11), datetime.datetime(2023, 6, 16, 10, 17, 11), 2.0, 4.0, 6.0, None, None, None)\n",
      "(520, '13.06.23\\n\\nTry to recover after burnout \\n\\nAwesome cycling in park\\n\\nHow productive have you been?: 3/10\\nHow interesting was the day?: 6/10\\nHow stressful was the day?: 5/10', datetime.date(2023, 6, 13), datetime.datetime(2023, 6, 13, 20, 42, 49), datetime.datetime(2023, 7, 27, 20, 10, 25), 3.0, 6.0, 5.0, None, None, None)\n",
      "(526, '14.06.23\\n\\nTry to recover after burnout 2\\n\\nAwesome cycling to university\\n\\nHow productive have you been?: 2/10\\nHow interesting was the day?: 3/10\\nHow stressful was the day?: 6/10', datetime.date(2023, 6, 14), datetime.datetime(2023, 6, 15, 10, 14, 49), datetime.datetime(2023, 7, 27, 20, 10, 56), 2.0, 3.0, 6.0, None, None, None)\n",
      "(530, '15.06.23\\n\\nTry to recover after burnout 3\\n\\nAwesome cycling \\n\\nGot new international passport!\\n\\nPicnic on the grass on the sparrow hills in Moscow\\n\\nHow productive have you been?: 5/10\\nHow interesting was the day?: 7.5/10\\nHow stressful was the day?: 4/10', datetime.date(2023, 6, 15), datetime.datetime(2023, 6, 16, 9, 14, 34), datetime.datetime(2023, 7, 27, 20, 14, 11), 5.0, 7.5, 4.0, None, None, None)\n",
      "(534, '16.05.23\\n\\nTry to recover after burnout 4\\n\\nTry to do prepare to university test \\n\\nGym\\n\\nHow productive have you been?: 5.6/10\\nHow interesting was the day?: 6/10\\nHow stressful was the day?: 3/10', datetime.date(2023, 5, 16), datetime.datetime(2023, 6, 17, 20, 17, 9), datetime.datetime(2023, 7, 27, 20, 15, 40), 5.6, 6.0, 3.0, None, None, None)\n",
      "(538, '17.05.23\\n\\nTry to recover after burnout 5\\n\\nChill with classmates\\n\\nHiking\\n\\nHow productive have you been?: 4/10\\nHow interesting was the day?: 7.5/10\\nHow stressful was the day?: 2/10', datetime.date(2023, 5, 17), datetime.datetime(2023, 6, 17, 20, 19, 47), datetime.datetime(2023, 7, 27, 20, 16, 27), 4.0, 7.5, 2.0, None, None, None)\n",
      "(546, '19.06.23\\n\\nTry to recover after burnout 6\\n\\nPrepare for university exams \\n\\nHow productive have you been?: 5/10\\nHow interesting was the day?: 5/10\\nHow stressful was the day?: 1/10', datetime.date(2023, 6, 19), datetime.datetime(2023, 6, 20, 15, 3, 26), datetime.datetime(2023, 7, 27, 20, 16, 59), 5.0, 5.0, 1.0, None, None, None)\n",
      "(549, '20.06.23\\n\\n* Tinkoff meeting: read article and test assembling methods \\n\\n* Optics: send hm \\n\\n* IAD: send hm\\n\\n* QM: prepare for exam\\n\\n\\nHow productive have you been?: 5/10\\nHow interesting was the day?: 4/10\\nHow stressful was the day?: 3/10', datetime.date(2023, 6, 20), datetime.datetime(2023, 6, 20, 15, 8, 19), datetime.datetime(2023, 7, 26, 13, 45, 49), 5.0, 4.0, 3.0, None, None, None)\n",
      "(552, '21.06.23\\n\\nPhone gaming \\n\\nHow productive have you been?: 4/10\\nHow interesting was the day?: 5/10\\nHow stressful was the day?: 2/10', datetime.date(2023, 6, 21), datetime.datetime(2023, 6, 28, 15, 36, 40), datetime.datetime(2023, 7, 26, 16, 19, 29), 4.0, 5.0, 2.0, None, None, None)\n",
      "(555, '22.06.23\\n\\nInteresting optics lecture \\n\\nCozy time in university room\\n\\nTinkoff work\\n\\nHow productive have you been?: 6.5/10\\nHow interesting was the day?: 6/10\\nHow stressful was the day?: 0/10', datetime.date(2023, 6, 22), datetime.datetime(2023, 6, 28, 15, 38, 5), datetime.datetime(2023, 7, 26, 16, 22, 37), 6.5, 6.0, 0.0, None, None, None)\n",
      "(560, '23.06.23\\n\\nOptics: preparation for exam \\n\\nCooking burgers \\n\\nOptics: send homeworks \\n\\nHow productive have you been?: 6/10\\nHow interesting was the day?: 6/10\\nHow stressful was the day?: 1.5/10', datetime.date(2023, 6, 23), datetime.datetime(2023, 6, 28, 15, 39, 11), None, 6.0, 6.0, 1.5, None, None, None)\n",
      "(561, '24.06.23\\n\\nNice optics exam\\n\\nTime with classmates \\n\\nNews: Attempted military coup in the country\\n\\nForced trip to Tver\\n\\nHow productive have you been?: 2/10\\nHow interesting was the day?: 6.5/10\\nHow stressful was the day?: 4/10', datetime.date(2023, 6, 24), datetime.datetime(2023, 6, 28, 15, 43, 13), datetime.datetime(2023, 7, 26, 16, 23, 54), 2.0, 6.5, 4.0, None, None, None)\n",
      "(569, '25.06.23\\n\\nMorning in Tver\\n\\nTrip back to Moscow \\n\\nHow productive have you been?: 2/10\\nHow interesting was the day?: 6.5/10\\nHow stressful was the day?: 4/10', datetime.date(2023, 6, 25), datetime.datetime(2023, 6, 28, 15, 45, 35), datetime.datetime(2023, 7, 26, 16, 24, 16), 2.0, 6.5, 4.0, None, None, None)\n",
      "(574, '26.06.23\\n\\nHow productive have you been?: 3/10\\nHow interesting was the day?: 6/10\\nHow stressful was the day?: 3.5/10', datetime.date(2023, 6, 26), datetime.datetime(2023, 6, 28, 15, 46, 48), datetime.datetime(2023, 7, 26, 13, 41, 31), 3.0, 6.0, 3.5, None, None, None)\n",
      "(577, '27.06.23\\n\\nTerrible Chemistry exam \\n\\nBar, hookah and interesting discussions with university mates \\n\\nHow productive have you been?: 2/10\\nHow interesting was the day?: 7.5/10\\nHow stressful was the day?: 0/10', datetime.date(2023, 6, 27), datetime.datetime(2023, 6, 28, 15, 47, 32), datetime.datetime(2023, 7, 26, 16, 26, 35), 2.0, 7.5, 0.0, None, None, None)\n",
      "(580, '28.06.23\\n\\nHiking with Ann\\n\\nOrder tasty food \\n\\nWatch awesome cartoon with Ann\\n\\nHow productive have you been?: 0/10\\nHow interesting was the day?: 7.5/10\\nHow stressful was the day?: 3/10', datetime.date(2023, 6, 28), datetime.datetime(2023, 6, 28, 15, 49, 1), datetime.datetime(2023, 7, 26, 16, 19, 4), 0.0, 7.5, 3.0, None, None, None)\n",
      "(584, '29.06.23\\n\\nAwesome bike trip! \\n\\nWarm bath \\n\\nLecture about burnout\\n\\nHow productive have you been?: 0/10\\nHow interesting was the day?: 8/10\\nHow stressful was the day?: 3/10', datetime.date(2023, 6, 29), datetime.datetime(2023, 6, 29, 22, 9, 1), datetime.datetime(2023, 7, 26, 16, 18, 1), 0.0, 8.0, 3.0, None, None, None)\n",
      "(588, '30.07.23\\n\\nEat\\n\\nRelax \\n\\nSome work\\n\\nHow productive have you been?: 5/10\\nHow interesting was the day?: 7/10\\nHow stressful was the day?: 0/10', datetime.date(2023, 7, 30), datetime.datetime(2023, 7, 4, 14, 44, 9), datetime.datetime(2023, 7, 26, 16, 16, 58), 5.0, 7.0, 0.0, None, None, None)\n",
      "(591, '01.07.23\\n\\nPassed lab works \\n\\nSpray myself with a paper \\n\\nAwesome but traumatic box training\\n\\nWalk Ann to a train\\n\\nHow productive have you been?: 5/10\\nHow interesting was the day?: 7.5/10\\nHow stressful was the day?: 2/10', datetime.date(2023, 7, 1), datetime.datetime(2023, 7, 4, 14, 46, 6), datetime.datetime(2023, 7, 26, 16, 16, 34), 5.0, 7.5, 2.0, None, None, None)\n",
      "(596, '02.07.23\\n\\nAwesome hiking\\n\\nRandom coffee\\n\\nHow productive have you been?: 0/10\\nHow interesting was the day?: 8.5/10\\nHow stressful was the day?: 0/10', datetime.date(2023, 7, 2), datetime.datetime(2023, 7, 4, 22, 6, 43), datetime.datetime(2023, 7, 12, 8, 32, 55), 0.0, 8.5, 0.0, None, None, None)\n",
      "(600, '03.07.23\\n \\nChilling\\n\\nCooking \\n\\nLazy day\\n\\nNon-existing ozon pickpoint\\n\\nHow productive have you been?: 0/10\\nHow interesting was the day?: 6/10\\nHow stressful was the day?: 0/10', datetime.date(2023, 7, 3), datetime.datetime(2023, 7, 4, 22, 8, 50), datetime.datetime(2023, 7, 12, 8, 36, 44), 0.0, 6.0, 0.0, None, None, None)\n",
      "(604, '04.07.23\\n\\nLaaazy day 2\\n\\nTikTok\\n\\nPlaying mobile games \\n\\nStupid work \\n\\nRandom coffee\\n\\nSell victorinox knife\\n\\nHow productive have you been?: 0/10\\nHow interesting was the day?: 5/10\\nHow stressful was the day?: 0/10', datetime.date(2023, 7, 4), datetime.datetime(2023, 7, 4, 22, 10, 47), datetime.datetime(2023, 7, 12, 8, 37, 3), 0.0, 5.0, 0.0, None, None, None)\n",
      "(612, '05.07.23 \\n\\nAwesome english speaking practice, where we discuss ai technologies and their impact on our life \\n\\nEnglish speaking with chat bot\\n\\nAwesome Gym traning in new gym \\n\\nLate sleep\\n\\nHow productive have you been?: 5/10\\nHow interesting was the day?: 7.5/10\\nHow stressful was the day?: 0/10', datetime.date(2023, 7, 5), datetime.datetime(2023, 7, 11, 14, 6, 26), datetime.datetime(2023, 7, 12, 8, 37, 57), 5.0, 7.5, 0.0, None, None, None)\n",
      "(616, '06.07.23 \\n\\nTinkoff work: make presentation\\n\\nRandom coffee: awesome hiking\\n\\nHow productive have you been?: 2/10\\nHow interesting was the day?: 9/10\\nHow stressful was the day?: 0/10', datetime.date(2023, 7, 6), datetime.datetime(2023, 7, 11, 14, 59, 21), datetime.datetime(2023, 7, 26, 13, 40, 17), 2.0, 9.0, 0.0, None, None, None)\n",
      "(620, '07.07.23\\n\\nPreparation for trip! \\n\\nEvening cycling to grocery\\n\\nMake presentation for tinkoff\\n\\nHow productive have you been?: 2/10\\nHow interesting was the day?: 7/10\\nHow stressful was the day?: 0/10', datetime.date(2023, 7, 7), datetime.datetime(2023, 7, 11, 15, 1, 47), datetime.datetime(2023, 7, 12, 8, 37, 38), 2.0, 7.0, 0.0, None, None, None)\n",
      "(624, '08.07.23 \\n\\nAwesome big hiking \\n\\nPut up a tent\\n\\nCooking on gase grill\\n\\nDrink vodka with Nikita\\n\\nInteresting discussion with Foma\\n\\nHelping people\\n\\nHow productive have you been?: 2/10\\nHow interesting was the day?: 9.5/10\\nHow stressful was the day?: 0/10', datetime.date(2023, 7, 8), datetime.datetime(2023, 7, 11, 15, 5, 17), datetime.datetime(2023, 7, 26, 16, 14, 13), 2.0, 9.5, 0.0, None, None, None)\n",
      "(628, '09.07.23\\n\\nAwesome hiking 2 \\n\\nInteresting discussion with Foma 2\\n\\nDelivery of camping equipment with Diana \\n\\nRest after hiking \\n\\nHow productive have you been?: 2/10\\nHow interesting was the day?: 9/10\\nHow stressful was the day?: 0/10', datetime.date(2023, 7, 9), datetime.datetime(2023, 7, 11, 15, 6, 2), datetime.datetime(2023, 7, 26, 16, 16, 11), 2.0, 9.0, 0.0, None, None, None)\n",
      "(632, '10.07.23\\nMeeting tinkoff\\n\\nWork \\n\\nDiscord with Anna  \\nDiscord with mother \\n\\nCooking\\n\\nHow productive have you been?: 6/10\\nHow interesting was the day?: 6/10\\nHow stressful was the day?: 2/10', datetime.date(2023, 7, 10), datetime.datetime(2023, 7, 11, 15, 9, 19), datetime.datetime(2023, 7, 12, 8, 38, 52), 6.0, 6.0, 2.0, None, None, None)\n",
      "(641, '11.07.23 \\n\\nGym \\n\\nCleaning\\n\\nMy project  \\n\\nEnglish practice\\n\\nHow productive have you been?: 5/10\\nHow interesting was the day?: 6/10\\nHow stressful was the day?: 0/10', datetime.date(2023, 7, 11), datetime.datetime(2023, 7, 15, 10, 33, 11), datetime.datetime(2023, 7, 15, 10, 43, 16), 5.0, 6.0, 0.0, None, None, None)\n",
      "(646, '12.07.23\\n\\nHome cleaning\\n\\nMentor meeting\\n\\nMy project\\n\\nEnglish: series \\n\\nHow productive have you been?: 5.5/10\\nHow interesting was the day?: 6/10\\nHow stressful was the day?: 0/10', datetime.date(2023, 7, 12), datetime.datetime(2023, 7, 15, 10, 34, 50), None, 5.5, 6.0, 0.0, None, None, None)\n",
      "(647, '13.07.23\\n\\nGym\\n\\nCycling in rainy day\\n\\nEnglish speaking lesson\\n\\nMake presentation for Tinkoff\\n\\nLate sleep\\n\\nAvito selling back corrector\\n\\nHow productive have you been?: 5.5/10\\nHow interesting was the day?: 6/10\\nHow stressful was the day?: 0/10', datetime.date(2023, 7, 13), datetime.datetime(2023, 7, 15, 10, 37, 7), datetime.datetime(2023, 7, 15, 10, 52, 17), 5.5, 6.0, 0.0, None, None, None)\n",
      "(650, '14.07.23\\n\\nTinkoff pre-presentation\\n\\nMy project: read some articles and search models\\n\\nLazy day: Phone gaming \\n\\nScooter repairing\\n\\nTrying to sell scooter on avito\\n\\nLate sleep\\n\\nHow productive have you been?: 5/10\\nHow interesting was the day?: 6/10\\nHow stressful was the day?: 0/10', datetime.date(2023, 7, 14), datetime.datetime(2023, 7, 15, 10, 41, 36), datetime.datetime(2023, 7, 26, 16, 10, 52), 5.0, 6.0, 0.0, None, None, None)\n",
      "(656, '15.07.23\\nSend avito order \\n\\nCheck tickets and write second letter\\nPresentation preperation\\n\\nHow productive have you been?: 5/10\\nHow interesting was the day?: 4.5/10\\nHow stressful was the day?: 0/10', datetime.date(2023, 7, 15), datetime.datetime(2023, 7, 20, 9, 38, 50), datetime.datetime(2023, 7, 26, 16, 10, 32), 5.0, 4.5, 0.0, None, None, None)\n",
      "(659, '16.07.23\\n\\nCoffee and Hiking with Nikita \\n\\nRandom coffee cool hiking in big park for bicycle\\n\\nHow productive have you been?: 4/10\\nHow interesting was the day?: 7/10\\nHow stressful was the day?: 0/10', datetime.date(2023, 7, 16), datetime.datetime(2023, 7, 20, 9, 40, 42), datetime.datetime(2023, 7, 26, 16, 8, 17), 4.0, 7.0, 0.0, None, None, None)\n",
      "(663, '17.07.23\\n\\nQuick things packing and household chores\\n\\nTrain trip to St. Petersburg\\n\\nInteresting lecture that make me think about myself stupid \\n\\nEvening with Ann\\n\\nHow productive have you been?: 3/10\\nHow interesting was the day?: 7/10\\nHow stressful was the day?: 0/10', datetime.date(2023, 7, 17), datetime.datetime(2023, 7, 20, 9, 42, 14), datetime.datetime(2023, 7, 26, 16, 9, 42), 3.0, 7.0, 0.0, None, None, None)\n",
      "(671, '18.07.23\\n\\n* Tinkoff work: make presentation + make a report \\n\\n* Gym\\n\\n* My project\\n\\n* Tinkoff meeting\\n\\nHow productive have you been?: 5/10\\nHow interesting was the day?: 6/10\\nHow stressful was the day?: 0/10', datetime.date(2023, 7, 18), datetime.datetime(2023, 7, 20, 9, 44, 49), datetime.datetime(2023, 7, 26, 13, 36, 42), 5.0, 6.0, 0.0, None, None, None)\n",
      "(675, '19.07.23\\n\\nTinkoff final presentation\\n\\nLittle walk in park \\n\\nPizza with Anna \\n\\nGym\\n\\nMovie time: black mirror\\n\\nHow productive have you been?: 5.5/10\\nHow interesting was the day?: 7/10\\nHow stressful was the day?: 0/10', datetime.date(2023, 7, 19), datetime.datetime(2023, 7, 20, 9, 51, 7), datetime.datetime(2023, 7, 26, 13, 35, 49), 5.5, 7.0, 0.0, None, None, None)\n",
      "(702, '20.07.23\\n\\nMy project\\n\\nHousehold stuff\\n\\nMovies time: spider man awesome cartoon!\\n\\nHow productive have you been?: 5/10\\nHow interesting was the day?: 6/10\\nHow stressful was the day?: 0/10', datetime.date(2023, 7, 20), datetime.datetime(2023, 7, 26, 11, 7, 52), datetime.datetime(2023, 7, 26, 13, 35, 1), 5.0, 6.0, 0.0, None, None, None)\n",
      "(705, '21.07.23\\n\\nWorking on my project\\n\\nCooking \\n\\nEvening with Anna family \\n\\nHow productive have you been?: 4/10\\nHow interesting was the day?: 6/10\\nHow stressful was the day?: 0/10', datetime.date(2023, 7, 21), datetime.datetime(2023, 7, 26, 11, 10, 37), datetime.datetime(2023, 7, 26, 16, 5, 34), 4.0, 6.0, 0.0, None, None, None)\n",
      "(709, '22.07.23\\n\\nWork on my project\\n\\nLazy day \\n\\nHow productive have you been?: 5/10\\nHow interesting was the day?: 3/10\\nHow stressful was the day?: 0/10', datetime.date(2023, 7, 22), datetime.datetime(2023, 7, 26, 13, 28, 22), datetime.datetime(2023, 7, 26, 16, 4, 59), 5.0, 3.0, 0.0, None, None, None)\n",
      "(712, '23.07.23\\n\\nMoving to new flat  \\n\\nWorking on my project\\n\\nHow productive have you been?: 5/10\\nHow interesting was the day?: 5/10\\nHow stressful was the day?: 2/10', datetime.date(2023, 7, 23), datetime.datetime(2023, 7, 26, 13, 29, 37), datetime.datetime(2023, 7, 26, 16, 4, 37), 5.0, 5.0, 2.0, None, None, None)\n",
      "(715, '24.07.23\\n\\nGym: good traning \\n\\nMy project for portfolio: do some things  \\n\\nInteresting history lecture  \\n\\nHow productive have you been?: 4.5/10\\nHow interesting was the day?: 5/10\\nHow stressful was the day?: 0/10', datetime.date(2023, 7, 24), datetime.datetime(2023, 7, 26, 13, 31, 56), datetime.datetime(2023, 7, 26, 16, 2, 48), 4.5, 5.0, 0.0, None, None, None)\n",
      "(718, '25.07.23\\n\\nAwesome cycling with Anna and her brother \\n\\nLazy work on my project\\n\\nInteresting mathematics lecture before sleep\\n\\nHow productive have you been?: 3.5/10\\nHow interesting was the day?: 6/10\\nHow stressful was the day?: 2/10', datetime.date(2023, 7, 25), datetime.datetime(2023, 7, 26, 13, 32, 45), datetime.datetime(2023, 7, 26, 16, 2, 57), 3.5, 6.0, 2.0, None, None, None)\n",
      "(721, '26.07.23\\n\\nsakisaki Hiking with Ann\\n\\nWorking on my project\\n\\n* Gym \\n\\n* Interesting history lecture \\n\\nHow productive have you been?: 4.5/10\\nHow interesting was the day?: 6/10\\nHow stressful was the day?: 1/10', datetime.date(2023, 7, 26), datetime.datetime(2023, 7, 26, 16, 28, 42), datetime.datetime(2023, 7, 28, 12, 50, 10), 4.5, 6.0, 1.0, None, None, None)\n"
     ]
    }
   ],
   "source": [
    "db_execute_query('SELECT * FROM posts')"
   ]
  },
  {
   "cell_type": "code",
   "execution_count": 29,
   "id": "065dd23e",
   "metadata": {},
   "outputs": [
    {
     "name": "stdout",
     "output_type": "stream",
     "text": [
      "(244, 422, 'Write people about specialization', None, 'social_&_friends', None, None, None)\n"
     ]
    }
   ],
   "source": [
    "db_execute_query('SELECT * FROM activities WHERE activity_name LIKE \\'Write people about specialization\\'')"
   ]
  },
  {
   "cell_type": "code",
   "execution_count": null,
   "id": "5fd96d2e",
   "metadata": {},
   "outputs": [],
   "source": [
    "update_activity(244, {'activity_name': 'Hiking with Ann'})"
   ]
  },
  {
   "cell_type": "code",
   "execution_count": 74,
   "id": "c2368dfb",
   "metadata": {},
   "outputs": [
    {
     "data": {
      "text/plain": [
       "2026"
      ]
     },
     "execution_count": 74,
     "metadata": {},
     "output_type": "execute_result"
    }
   ],
   "source": [
    "import datetime\n",
    "\n",
    "datetime.date(2026, 7, 23).year"
   ]
  },
  {
   "cell_type": "code",
   "execution_count": 15,
   "id": "09774ed7",
   "metadata": {},
   "outputs": [],
   "source": [
    "a = {'sex':2, 'me': 5} "
   ]
  },
  {
   "cell_type": "code",
   "execution_count": 19,
   "id": "09c133aa",
   "metadata": {},
   "outputs": [
    {
     "data": {
      "text/plain": [
       "dict_items([('sex', 2), ('me', 5)])"
      ]
     },
     "execution_count": 19,
     "metadata": {},
     "output_type": "execute_result"
    }
   ],
   "source": [
    "a.items()"
   ]
  },
  {
   "cell_type": "code",
   "execution_count": null,
   "id": "d1c0f851",
   "metadata": {},
   "outputs": [],
   "source": []
  },
  {
   "cell_type": "code",
   "execution_count": null,
   "id": "11d43044",
   "metadata": {},
   "outputs": [],
   "source": []
  },
  {
   "cell_type": "code",
   "execution_count": null,
   "id": "ad4cd672",
   "metadata": {},
   "outputs": [],
   "source": []
  },
  {
   "cell_type": "markdown",
   "id": "98d5df24",
   "metadata": {},
   "source": [
    "# Main"
   ]
  },
  {
   "cell_type": "code",
   "execution_count": 13,
   "id": "692be850",
   "metadata": {},
   "outputs": [],
   "source": [
    "def check_post(post):\n",
    "    \n",
    "    date = post.get('upload_date', None)\n",
    "    \n",
    "    if post.get('text', None) is None:\n",
    "        print(f'I dont see any text, can you add it to post uploaded at {date}?')\n",
    "        return False\n",
    "    \n",
    "    text = post.get('text', None)\n",
    "    \n",
    "    if post.get('parsed_date', None) is None:\n",
    "        print(f'I dont see date, can you add it to post uploaded at {date} with text:{text}?')\n",
    "        return False\n",
    "\n",
    "    if post.get('productivity_score', None) is None:\n",
    "        print(f'I dont see productivity_score, can you add it to post uploaded at {date} with text: {text}?')\n",
    "        return False\n",
    "        \n",
    "    if post.get('interest_score', None) is None:\n",
    "        print(f'I dont see interest_score, can you add it to post uploaded at {date} with text: {text}?')\n",
    "        return False\n",
    "        \n",
    "    if post.get('productivity_score', None) is None:\n",
    "        print(f'I dont see productivity_score, can you add it to post uploaded at {date} with text: {text}?')\n",
    "        return False\n",
    "        \n",
    "    if post.get('stress_score', None) is None:\n",
    "        print(f'I dont see stress_score, can you add it to post uploaded at {date} with text: {text}?')\n",
    "        return False\n",
    "    return True\n",
    "\n",
    "def check_activities(post):\n",
    "    \n",
    "    date = post.get('upload_date', None)\n",
    "    \n",
    "    \n",
    "    if post.get('parsed_activities', None) is None or len(post.get('parsed_activities', None)) < 0:\n",
    "        print(f'I dont see activities, can you add some to post uploaded at {date}?')\n",
    "        return False\n",
    "    return True\n"
   ]
  },
  {
   "cell_type": "code",
   "execution_count": 162,
   "id": "6f3e22e1",
   "metadata": {},
   "outputs": [],
   "source": [
    "\n",
    "\n",
    "posts = get_posts(num_posts = 1000)\n",
    "\n",
    "for post in posts:\n",
    "    post = parse_text(post)\n",
    "    post = parse_activities(post)\n",
    "    if check_post(post):\n",
    "        upload_post(post, overwrite = False)\n",
    "        if check_activities(post):\n",
    "            upload_activities(post, overwrite = False)"
   ]
  },
  {
   "cell_type": "code",
   "execution_count": 161,
   "id": "d454c2bd",
   "metadata": {},
   "outputs": [
    {
     "name": "stdout",
     "output_type": "stream",
     "text": [
      "fg\n"
     ]
    }
   ],
   "source": [
    "print('fg')"
   ]
  },
  {
   "cell_type": "markdown",
   "id": "862769c7",
   "metadata": {},
   "source": [
    "# Data markup"
   ]
  },
  {
   "cell_type": "code",
   "execution_count": 14,
   "id": "ffeaaf59",
   "metadata": {},
   "outputs": [],
   "source": [
    "from IPython.display import clear_output\n",
    "\n",
    "def markup_activities_type(activity_types):\n",
    "    try:\n",
    "        with connect(host=db_host, user=db_user, password=db_password,) as connection:\n",
    "            use_db_query = f\"USE {db_name};\"\n",
    "            \n",
    "            get_activities = '''SELECT * FROM activities WHERE activity_type is NULL'''    \n",
    "            \n",
    "            with connection.cursor() as cursor:\n",
    "                cursor.execute(use_db_query)\n",
    "                cursor.execute(get_activities)\n",
    "                for el in cursor:\n",
    "                    activity_id = el[0]\n",
    "                    activity_name = el[2]\n",
    "                    print('==============================================================================')\n",
    "                    print(f'ACTIVITY NAME: {activity_name}')\n",
    "                    #print('What type of activity this is?')\n",
    "                    print('\\n'.join([str(i) + ' - ' + activity_types[i-1] for i in range(1, len(activity_types) + 1)]))\n",
    "                    type_num = input('SELECT ACTIVITY TYPE:')\n",
    "                    \n",
    "                    try:\n",
    "                        activity_type = activity_types[int(type_num) - 1]\n",
    "                        update_activity(activity_id, {'activity_type':activity_type})\n",
    "                        clear_output(wait=False)\n",
    "                    except Error as e:\n",
    "                        print(f'ERROR: {e}')\n",
    "\n",
    "    except Error as e:\n",
    "        print(e)\n",
    "        \n",
    "        \n",
    "def markup_activities_sentiment(activity_emotions):\n",
    "    try:\n",
    "        with connect(host=db_host, user=db_user, password=db_password,) as connection:\n",
    "            use_db_query = f\"USE {db_name};\"\n",
    "            get_activities = '''SELECT * FROM activities WHERE activity_emotion is NULL'''    \n",
    "            \n",
    "            with connection.cursor() as cursor:\n",
    "                cursor.execute(use_db_query)\n",
    "                cursor.execute(get_activities)\n",
    "                for el in cursor:\n",
    "                    activity_id = el[0]\n",
    "                    activity_name = el[2]\n",
    "                    print('==============================================================================')\n",
    "                    print(f'ACTIVITY NAME: {activity_name}')\n",
    "                    #print('What type of activity this is?')\n",
    "                    print('\\n'.join([str(i) + ' - ' + activity_emotions[i-1] for i in range(1, len(activity_emotions) + 1)]))\n",
    "                    emotion_num = input('SELECT ACTIVITY SENTIMENT:')\n",
    "                    \n",
    "                    try:\n",
    "                        activity_emotion = activity_emotions[int(emotion_num) - 1]\n",
    "                        update_activity(activity_id, {'activity_emotion':activity_emotion})\n",
    "                        clear_output(wait=False)\n",
    "                    except Error as e:\n",
    "                        print(f'ERROR: {e}')\n",
    "\n",
    "    except Error as e:\n",
    "        print(e)"
   ]
  },
  {
   "cell_type": "code",
   "execution_count": 226,
   "id": "126e77c3",
   "metadata": {},
   "outputs": [],
   "source": [
    "activity_types = ['self_development', 'university', 'work', 'relax_&_rest', 'chill', 'sport_&_health', 'family', 'social_&_friends', 'travel_&_adventure', 'chore', 'other']\n",
    "encode_activity_type_dict = {activity_types[i]:i for i in range(len(activity_types))}"
   ]
  },
  {
   "cell_type": "code",
   "execution_count": null,
   "id": "d710e1e3",
   "metadata": {},
   "outputs": [],
   "source": [
    "markup_activities_type(activity_types)"
   ]
  },
  {
   "cell_type": "code",
   "execution_count": 123,
   "id": "ddee4e42",
   "metadata": {},
   "outputs": [],
   "source": [
    "activity_emotions = ['Positive', 'Negative', 'Neutral']\n",
    "encode_emotion_dict = {activity_emotions[i]:i+1 for i in range(len(activity_emotions))}"
   ]
  },
  {
   "cell_type": "code",
   "execution_count": 114,
   "id": "bf4a440e",
   "metadata": {},
   "outputs": [],
   "source": [
    "markup_activities_sentiment(activity_emotions)"
   ]
  },
  {
   "cell_type": "markdown",
   "id": "b8ed120c",
   "metadata": {},
   "source": [
    "# SQL to Pandas "
   ]
  },
  {
   "cell_type": "code",
   "execution_count": 74,
   "id": "d991473a",
   "metadata": {},
   "outputs": [],
   "source": [
    "import pandas as pd\n",
    "\n",
    "def sql_to_df(table_name):\n",
    "    try:\n",
    "        with connect(host=db_host, user=db_user, password=db_password,) as connection:\n",
    "            use_db_query = f\"USE {db_name};\"\n",
    "            show_activities = f\"SELECT * FROM {table_name};\"\n",
    "            with connection.cursor() as cursor:\n",
    "                cursor.execute(use_db_query)\n",
    "                df = pd.read_sql(show_activities, connection)\n",
    "            return df         \n",
    "    except Error as e:\n",
    "        print(e)\n",
    "        return None"
   ]
  },
  {
   "cell_type": "code",
   "execution_count": 227,
   "id": "44e6048f",
   "metadata": {},
   "outputs": [
    {
     "data": {
      "text/html": [
       "<div>\n",
       "<style scoped>\n",
       "    .dataframe tbody tr th:only-of-type {\n",
       "        vertical-align: middle;\n",
       "    }\n",
       "\n",
       "    .dataframe tbody tr th {\n",
       "        vertical-align: top;\n",
       "    }\n",
       "\n",
       "    .dataframe thead th {\n",
       "        text-align: right;\n",
       "    }\n",
       "</style>\n",
       "<table border=\"1\" class=\"dataframe\">\n",
       "  <thead>\n",
       "    <tr style=\"text-align: right;\">\n",
       "      <th></th>\n",
       "      <th>activity_id</th>\n",
       "      <th>post_id</th>\n",
       "      <th>activity_name</th>\n",
       "      <th>activity_emoji</th>\n",
       "      <th>activity_type</th>\n",
       "      <th>activity_emotion</th>\n",
       "      <th>predicted_activity_type</th>\n",
       "      <th>predicted_activity_emotion</th>\n",
       "    </tr>\n",
       "  </thead>\n",
       "  <tbody>\n",
       "    <tr>\n",
       "      <th>0</th>\n",
       "      <td>9</td>\n",
       "      <td>721</td>\n",
       "      <td>Hiking with Ann</td>\n",
       "      <td>None</td>\n",
       "      <td>family</td>\n",
       "      <td>Neutral</td>\n",
       "      <td>None</td>\n",
       "      <td>None</td>\n",
       "    </tr>\n",
       "    <tr>\n",
       "      <th>1</th>\n",
       "      <td>10</td>\n",
       "      <td>721</td>\n",
       "      <td>Working on my project</td>\n",
       "      <td>None</td>\n",
       "      <td>self_development</td>\n",
       "      <td>Neutral</td>\n",
       "      <td>None</td>\n",
       "      <td>None</td>\n",
       "    </tr>\n",
       "    <tr>\n",
       "      <th>2</th>\n",
       "      <td>11</td>\n",
       "      <td>721</td>\n",
       "      <td>Gym</td>\n",
       "      <td>*</td>\n",
       "      <td>sport_&amp;_health</td>\n",
       "      <td>Neutral</td>\n",
       "      <td>None</td>\n",
       "      <td>None</td>\n",
       "    </tr>\n",
       "    <tr>\n",
       "      <th>3</th>\n",
       "      <td>12</td>\n",
       "      <td>721</td>\n",
       "      <td>Interesting history lecture</td>\n",
       "      <td>*</td>\n",
       "      <td>relax_&amp;_rest</td>\n",
       "      <td>Positive</td>\n",
       "      <td>None</td>\n",
       "      <td>None</td>\n",
       "    </tr>\n",
       "    <tr>\n",
       "      <th>4</th>\n",
       "      <td>13</td>\n",
       "      <td>718</td>\n",
       "      <td>Awesome cycling with Anna and her brother</td>\n",
       "      <td>None</td>\n",
       "      <td>family</td>\n",
       "      <td>Positive</td>\n",
       "      <td>None</td>\n",
       "      <td>None</td>\n",
       "    </tr>\n",
       "  </tbody>\n",
       "</table>\n",
       "</div>"
      ],
      "text/plain": [
       "   activity_id  post_id                              activity_name  \\\n",
       "0            9      721                            Hiking with Ann   \n",
       "1           10      721                      Working on my project   \n",
       "2           11      721                                        Gym   \n",
       "3           12      721                Interesting history lecture   \n",
       "4           13      718  Awesome cycling with Anna and her brother   \n",
       "\n",
       "  activity_emoji     activity_type activity_emotion predicted_activity_type  \\\n",
       "0           None            family          Neutral                    None   \n",
       "1           None  self_development          Neutral                    None   \n",
       "2              *    sport_&_health          Neutral                    None   \n",
       "3              *      relax_&_rest         Positive                    None   \n",
       "4           None            family         Positive                    None   \n",
       "\n",
       "  predicted_activity_emotion  \n",
       "0                       None  \n",
       "1                       None  \n",
       "2                       None  \n",
       "3                       None  \n",
       "4                       None  "
      ]
     },
     "execution_count": 227,
     "metadata": {},
     "output_type": "execute_result"
    }
   ],
   "source": [
    "activities_df = sql_to_df('activities')\n",
    "activities_df.head(5)"
   ]
  },
  {
   "cell_type": "code",
   "execution_count": 228,
   "id": "791970b1",
   "metadata": {},
   "outputs": [
    {
     "data": {
      "text/plain": [
       "<AxesSubplot:xlabel='activity_type'>"
      ]
     },
     "execution_count": 228,
     "metadata": {},
     "output_type": "execute_result"
    },
    {
     "data": {
      "image/png": "[encoded data removed]",
      "text/plain": [
       "<Figure size 432x288 with 1 Axes>"
      ]
     },
     "metadata": {
      "needs_background": "light"
     },
     "output_type": "display_data"
    }
   ],
   "source": [
    "activities_df.groupby(by = ['activity_type']).activity_id.count().plot.bar()"
   ]
  },
  {
   "cell_type": "code",
   "execution_count": 80,
   "id": "13c5f3af",
   "metadata": {},
   "outputs": [
    {
     "data": {
      "text/html": [
       "<div>\n",
       "<style scoped>\n",
       "    .dataframe tbody tr th:only-of-type {\n",
       "        vertical-align: middle;\n",
       "    }\n",
       "\n",
       "    .dataframe tbody tr th {\n",
       "        vertical-align: top;\n",
       "    }\n",
       "\n",
       "    .dataframe thead th {\n",
       "        text-align: right;\n",
       "    }\n",
       "</style>\n",
       "<table border=\"1\" class=\"dataframe\">\n",
       "  <thead>\n",
       "    <tr style=\"text-align: right;\">\n",
       "      <th></th>\n",
       "      <th>post_id</th>\n",
       "      <th>text</th>\n",
       "      <th>parsed_date</th>\n",
       "      <th>upload_date</th>\n",
       "      <th>edit_date</th>\n",
       "      <th>productivity_score</th>\n",
       "      <th>interest_score</th>\n",
       "      <th>stress_score</th>\n",
       "      <th>predicted_productivity_score</th>\n",
       "      <th>predicted_interest_score</th>\n",
       "      <th>predicted_stress_score</th>\n",
       "    </tr>\n",
       "  </thead>\n",
       "  <tbody>\n",
       "    <tr>\n",
       "      <th>0</th>\n",
       "      <td>125</td>\n",
       "      <td>27.01.23\\n❌ Statistics HM\\n✅ Tinkoff HM (first...</td>\n",
       "      <td>2023-01-27</td>\n",
       "      <td>2023-01-27 08:45:32</td>\n",
       "      <td>2023-07-26 15:44:40</td>\n",
       "      <td>6.0</td>\n",
       "      <td>6.0</td>\n",
       "      <td>1.0</td>\n",
       "      <td>None</td>\n",
       "      <td>None</td>\n",
       "      <td>None</td>\n",
       "    </tr>\n",
       "    <tr>\n",
       "      <th>1</th>\n",
       "      <td>126</td>\n",
       "      <td>28.01.23\\nSlept for 6 hours, in the morning i ...</td>\n",
       "      <td>2023-01-28</td>\n",
       "      <td>2023-01-28 19:24:38</td>\n",
       "      <td>2023-07-26 15:44:31</td>\n",
       "      <td>4.0</td>\n",
       "      <td>4.0</td>\n",
       "      <td>3.0</td>\n",
       "      <td>None</td>\n",
       "      <td>None</td>\n",
       "      <td>None</td>\n",
       "    </tr>\n",
       "    <tr>\n",
       "      <th>2</th>\n",
       "      <td>127</td>\n",
       "      <td>29.01.23 \\n\\n✅ Statistics: seminar \\n✅ TInkoff...</td>\n",
       "      <td>2023-01-29</td>\n",
       "      <td>2023-01-28 20:57:43</td>\n",
       "      <td>2023-07-26 15:44:17</td>\n",
       "      <td>5.0</td>\n",
       "      <td>5.0</td>\n",
       "      <td>2.0</td>\n",
       "      <td>None</td>\n",
       "      <td>None</td>\n",
       "      <td>None</td>\n",
       "    </tr>\n",
       "    <tr>\n",
       "      <th>3</th>\n",
       "      <td>128</td>\n",
       "      <td>30.01.23\\n\\n❌ Wiping with cold water\\n✅ Sport:...</td>\n",
       "      <td>2023-01-30</td>\n",
       "      <td>2023-01-29 20:41:27</td>\n",
       "      <td>2023-07-26 15:43:52</td>\n",
       "      <td>7.0</td>\n",
       "      <td>7.0</td>\n",
       "      <td>1.0</td>\n",
       "      <td>None</td>\n",
       "      <td>None</td>\n",
       "      <td>None</td>\n",
       "    </tr>\n",
       "    <tr>\n",
       "      <th>4</th>\n",
       "      <td>129</td>\n",
       "      <td>31.01.23\\n\\n✅ Wiping with cold water\\n✅ Sport:...</td>\n",
       "      <td>2023-01-31</td>\n",
       "      <td>2023-01-30 21:44:57</td>\n",
       "      <td>2023-07-26 15:43:42</td>\n",
       "      <td>7.0</td>\n",
       "      <td>7.0</td>\n",
       "      <td>1.0</td>\n",
       "      <td>None</td>\n",
       "      <td>None</td>\n",
       "      <td>None</td>\n",
       "    </tr>\n",
       "  </tbody>\n",
       "</table>\n",
       "</div>"
      ],
      "text/plain": [
       "   post_id                                               text parsed_date  \\\n",
       "0      125  27.01.23\\n❌ Statistics HM\\n✅ Tinkoff HM (first...  2023-01-27   \n",
       "1      126  28.01.23\\nSlept for 6 hours, in the morning i ...  2023-01-28   \n",
       "2      127  29.01.23 \\n\\n✅ Statistics: seminar \\n✅ TInkoff...  2023-01-29   \n",
       "3      128  30.01.23\\n\\n❌ Wiping with cold water\\n✅ Sport:...  2023-01-30   \n",
       "4      129  31.01.23\\n\\n✅ Wiping with cold water\\n✅ Sport:...  2023-01-31   \n",
       "\n",
       "          upload_date           edit_date  productivity_score  interest_score  \\\n",
       "0 2023-01-27 08:45:32 2023-07-26 15:44:40                 6.0             6.0   \n",
       "1 2023-01-28 19:24:38 2023-07-26 15:44:31                 4.0             4.0   \n",
       "2 2023-01-28 20:57:43 2023-07-26 15:44:17                 5.0             5.0   \n",
       "3 2023-01-29 20:41:27 2023-07-26 15:43:52                 7.0             7.0   \n",
       "4 2023-01-30 21:44:57 2023-07-26 15:43:42                 7.0             7.0   \n",
       "\n",
       "   stress_score predicted_productivity_score predicted_interest_score  \\\n",
       "0           1.0                         None                     None   \n",
       "1           3.0                         None                     None   \n",
       "2           2.0                         None                     None   \n",
       "3           1.0                         None                     None   \n",
       "4           1.0                         None                     None   \n",
       "\n",
       "  predicted_stress_score  \n",
       "0                   None  \n",
       "1                   None  \n",
       "2                   None  \n",
       "3                   None  \n",
       "4                   None  "
      ]
     },
     "execution_count": 80,
     "metadata": {},
     "output_type": "execute_result"
    }
   ],
   "source": [
    "posts_df = sql_to_df('posts')\n",
    "posts_df.head(5)"
   ]
  },
  {
   "cell_type": "markdown",
   "id": "647be5d7",
   "metadata": {},
   "source": [
    "# Activity classification: fine-tune DistilBERT/RoBERTa base"
   ]
  },
  {
   "cell_type": "code",
   "execution_count": 229,
   "id": "87f3ba79",
   "metadata": {},
   "outputs": [],
   "source": [
    "activity_types = ['self_development', 'university', 'work', 'relax_&_rest', 'chill', 'sport_&_health', 'family', 'social_&_friends', 'travel_&_adventure', 'chore', 'other']"
   ]
  },
  {
   "cell_type": "code",
   "execution_count": 230,
   "id": "5d6d2c19",
   "metadata": {},
   "outputs": [
    {
     "data": {
      "text/plain": [
       "{'self_development': 0,\n",
       " 'university': 1,\n",
       " 'work': 2,\n",
       " 'relax_&_rest': 3,\n",
       " 'chill': 4,\n",
       " 'sport_&_health': 5,\n",
       " 'family': 6,\n",
       " 'social_&_friends': 7,\n",
       " 'travel_&_adventure': 8,\n",
       " 'chore': 9,\n",
       " 'other': 10}"
      ]
     },
     "execution_count": 230,
     "metadata": {},
     "output_type": "execute_result"
    }
   ],
   "source": [
    "encode_activity_type_dict"
   ]
  },
  {
   "cell_type": "code",
   "execution_count": 231,
   "id": "4211216b",
   "metadata": {},
   "outputs": [
    {
     "name": "stderr",
     "output_type": "stream",
     "text": [
      "<ipython-input-231-cf4deccc98b3>:5: SettingWithCopyWarning: \n",
      "A value is trying to be set on a copy of a slice from a DataFrame.\n",
      "Try using .loc[row_indexer,col_indexer] = value instead\n",
      "\n",
      "See the caveats in the documentation: https://pandas.pydata.org/pandas-docs/stable/user_guide/indexing.html#returning-a-view-versus-a-copy\n",
      "  df['encoded_activity_type'] = df['activity_type'].apply(lambda x: encode_type(x))\n"
     ]
    }
   ],
   "source": [
    "\n",
    "df = activities_df[['activity_name','activity_type']]\n",
    "def encode_type(x):\n",
    "    return encode_activity_type_dict[x]\n",
    "\n",
    "df['encoded_activity_type'] = df['activity_type'].apply(lambda x: encode_type(x))"
   ]
  },
  {
   "cell_type": "code",
   "execution_count": 232,
   "id": "4974b899",
   "metadata": {},
   "outputs": [
    {
     "data": {
      "text/html": [
       "<div>\n",
       "<style scoped>\n",
       "    .dataframe tbody tr th:only-of-type {\n",
       "        vertical-align: middle;\n",
       "    }\n",
       "\n",
       "    .dataframe tbody tr th {\n",
       "        vertical-align: top;\n",
       "    }\n",
       "\n",
       "    .dataframe thead th {\n",
       "        text-align: right;\n",
       "    }\n",
       "</style>\n",
       "<table border=\"1\" class=\"dataframe\">\n",
       "  <thead>\n",
       "    <tr style=\"text-align: right;\">\n",
       "      <th></th>\n",
       "      <th>activity_name</th>\n",
       "      <th>activity_type</th>\n",
       "      <th>encoded_activity_type</th>\n",
       "    </tr>\n",
       "  </thead>\n",
       "  <tbody>\n",
       "    <tr>\n",
       "      <th>0</th>\n",
       "      <td>Hiking with Ann</td>\n",
       "      <td>family</td>\n",
       "      <td>6</td>\n",
       "    </tr>\n",
       "    <tr>\n",
       "      <th>1</th>\n",
       "      <td>Working on my project</td>\n",
       "      <td>self_development</td>\n",
       "      <td>0</td>\n",
       "    </tr>\n",
       "    <tr>\n",
       "      <th>2</th>\n",
       "      <td>Gym</td>\n",
       "      <td>sport_&amp;_health</td>\n",
       "      <td>5</td>\n",
       "    </tr>\n",
       "    <tr>\n",
       "      <th>3</th>\n",
       "      <td>Interesting history lecture</td>\n",
       "      <td>relax_&amp;_rest</td>\n",
       "      <td>3</td>\n",
       "    </tr>\n",
       "    <tr>\n",
       "      <th>4</th>\n",
       "      <td>Awesome cycling with Anna and her brother</td>\n",
       "      <td>family</td>\n",
       "      <td>6</td>\n",
       "    </tr>\n",
       "    <tr>\n",
       "      <th>...</th>\n",
       "      <td>...</td>\n",
       "      <td>...</td>\n",
       "      <td>...</td>\n",
       "    </tr>\n",
       "    <tr>\n",
       "      <th>631</th>\n",
       "      <td>still recovering from lack of sleep</td>\n",
       "      <td>relax_&amp;_rest</td>\n",
       "      <td>3</td>\n",
       "    </tr>\n",
       "    <tr>\n",
       "      <th>632</th>\n",
       "      <td>Slept for 6 hours in the morning i have visite...</td>\n",
       "      <td>other</td>\n",
       "      <td>10</td>\n",
       "    </tr>\n",
       "    <tr>\n",
       "      <th>633</th>\n",
       "      <td>Statistics HM</td>\n",
       "      <td>self_development</td>\n",
       "      <td>0</td>\n",
       "    </tr>\n",
       "    <tr>\n",
       "      <th>634</th>\n",
       "      <td>Tinkoff HM first two tasks</td>\n",
       "      <td>self_development</td>\n",
       "      <td>0</td>\n",
       "    </tr>\n",
       "    <tr>\n",
       "      <th>635</th>\n",
       "      <td>Send a request for mentoring programm</td>\n",
       "      <td>self_development</td>\n",
       "      <td>0</td>\n",
       "    </tr>\n",
       "  </tbody>\n",
       "</table>\n",
       "<p>636 rows × 3 columns</p>\n",
       "</div>"
      ],
      "text/plain": [
       "                                         activity_name     activity_type  \\\n",
       "0                                      Hiking with Ann            family   \n",
       "1                                Working on my project  self_development   \n",
       "2                                                  Gym    sport_&_health   \n",
       "3                          Interesting history lecture      relax_&_rest   \n",
       "4            Awesome cycling with Anna and her brother            family   \n",
       "..                                                 ...               ...   \n",
       "631                still recovering from lack of sleep      relax_&_rest   \n",
       "632  Slept for 6 hours in the morning i have visite...             other   \n",
       "633                                      Statistics HM  self_development   \n",
       "634                         Tinkoff HM first two tasks  self_development   \n",
       "635              Send a request for mentoring programm  self_development   \n",
       "\n",
       "     encoded_activity_type  \n",
       "0                        6  \n",
       "1                        0  \n",
       "2                        5  \n",
       "3                        3  \n",
       "4                        6  \n",
       "..                     ...  \n",
       "631                      3  \n",
       "632                     10  \n",
       "633                      0  \n",
       "634                      0  \n",
       "635                      0  \n",
       "\n",
       "[636 rows x 3 columns]"
      ]
     },
     "execution_count": 232,
     "metadata": {},
     "output_type": "execute_result"
    }
   ],
   "source": [
    "df"
   ]
  },
  {
   "cell_type": "code",
   "execution_count": null,
   "id": "3c3695ff",
   "metadata": {},
   "outputs": [],
   "source": []
  },
  {
   "cell_type": "code",
   "execution_count": 233,
   "id": "5d441c33",
   "metadata": {},
   "outputs": [],
   "source": [
    "random_state = 1337\n",
    "\n",
    "\n",
    "def set_seed(seed=random_state):\n",
    "    random.seed(seed)\n",
    "    np.random.seed(seed)\n",
    "    torch.manual_seed(seed)\n",
    "    tf.random.set_seed(seed)\n",
    "    if torch.cuda.is_available():\n",
    "        torch.cuda.manual_seed(seed)\n",
    "        torch.cuda.manual_seed_all(seed)\n",
    "        torch.backends.cudnn.deterministic = True\n",
    "        torch.backends.cudnn.benchmark = False\n",
    "    os.environ[\"PYTHONHASHSEED\"] = str(seed)\n"
   ]
  },
  {
   "cell_type": "code",
   "execution_count": null,
   "id": "901ce58c",
   "metadata": {},
   "outputs": [],
   "source": []
  },
  {
   "cell_type": "code",
   "execution_count": 234,
   "id": "6622f227",
   "metadata": {},
   "outputs": [],
   "source": [
    "import datetime\n",
    "import time\n",
    "import random\n",
    "import os\n",
    "import argparse\n",
    "\n",
    "import pandas as pd\n",
    "import numpy as np\n",
    "import torch\n",
    "\n",
    "from transformers import DistilBertModel, DistilBertTokenizer, get_linear_schedule_with_warmup\n",
    "from torch.utils.data import Dataset, DataLoader\n",
    "from torch import nn\n",
    "from torch.cuda.amp import GradScaler, autocast"
   ]
  },
  {
   "cell_type": "code",
   "execution_count": 235,
   "id": "4da07ec2",
   "metadata": {},
   "outputs": [],
   "source": [
    "TRAIN_BATCH_SIZE = 16\n",
    "VALID_BATCH_SIZE = 16\n",
    "EPOCHS = 2\n",
    "LEARNING_RATE = 2e-05\n",
    "EPS =  1e-8\n",
    "NUM_CLASSES = len(activity_types)\n",
    "\n",
    "distilbert_path = '/media/tonyalpha/HDD/distilbert-base-uncased'\n",
    "\n",
    "tokenizer = DistilBertTokenizer.from_pretrained(distilbert_path)"
   ]
  },
  {
   "cell_type": "code",
   "execution_count": 236,
   "id": "a77392af",
   "metadata": {},
   "outputs": [
    {
     "name": "stdout",
     "output_type": "stream",
     "text": [
      "No GPU available, using the CPU instead.\n"
     ]
    }
   ],
   "source": [
    "import torch\n",
    "\n",
    "if torch.cuda.is_available():    \n",
    "  \n",
    "    device = torch.device(\"cuda\")\n",
    "\n",
    "    print('There are %d GPU(s) available.' % torch.cuda.device_count())\n",
    "    print('We will use the GPU:', torch.cuda.get_device_name(0))\n",
    "\n",
    "else:\n",
    "    print('No GPU available, using the CPU instead.')\n",
    "    device = torch.device(\"cpu\")\n"
   ]
  },
  {
   "cell_type": "code",
   "execution_count": 237,
   "id": "9214438a",
   "metadata": {},
   "outputs": [],
   "source": [
    "from torch.utils.data import Dataset, DataLoader\n",
    "\n",
    "class dataset(Dataset):\n",
    "    def __init__(self, dataframe, tokenizer, max_len):\n",
    "        self.len = len(dataframe)\n",
    "        self.data = dataframe\n",
    "        self.tokenizer = tokenizer\n",
    "        self.max_len = max_len\n",
    "        \n",
    "    def __getitem__(self, index):\n",
    "        title = str(self.data.activity_type[index])\n",
    "        inputs = self.tokenizer.encode_plus(\n",
    "            title,\n",
    "            None,\n",
    "            add_special_tokens=True,\n",
    "            max_length=self.max_len,\n",
    "            pad_to_max_length=True,\n",
    "            return_token_type_ids=True,\n",
    "            truncation=True\n",
    "        )\n",
    "        ids = inputs['input_ids']\n",
    "        mask = inputs['attention_mask']\n",
    "\n",
    "        return {\n",
    "            'input_ids': torch.tensor(ids, dtype=torch.long),\n",
    "            'attention_mask': torch.tensor(mask, dtype=torch.long),\n",
    "            'targets': torch.tensor(self.data.encoded_activity_type[index], dtype=torch.long)\n",
    "        } \n",
    "    \n",
    "    def __len__(self):\n",
    "        return self.len"
   ]
  },
  {
   "cell_type": "code",
   "execution_count": 238,
   "id": "9ab68ff4",
   "metadata": {},
   "outputs": [
    {
     "name": "stdout",
     "output_type": "stream",
     "text": [
      "Max sentence length:  36\n"
     ]
    }
   ],
   "source": [
    "#let's define max sentence len \n",
    "\n",
    "max_len = 0\n",
    "\n",
    "for sent in df.activity_name:\n",
    "    input_ids = tokenizer.encode(sent, add_special_tokens=True)\n",
    "    max_len = max(max_len, len(input_ids))\n",
    "\n",
    "print('Max sentence length: ', max_len)"
   ]
  },
  {
   "cell_type": "code",
   "execution_count": 239,
   "id": "7fd2fb5a",
   "metadata": {},
   "outputs": [],
   "source": [
    "MAX_LEN = 64"
   ]
  },
  {
   "cell_type": "code",
   "execution_count": 240,
   "id": "f03c0db0",
   "metadata": {},
   "outputs": [
    {
     "name": "stdout",
     "output_type": "stream",
     "text": [
      "FULL Dataset: (636, 3)\n",
      "TRAIN Dataset: (509, 3)\n",
      "TEST Dataset: (127, 3)\n"
     ]
    }
   ],
   "source": [
    "set_seed()\n",
    "\n",
    "train_size = 0.8\n",
    "train_dataset=df.sample(frac=train_size,random_state=random_state)\n",
    "test_dataset=df.drop(train_dataset.index).reset_index(drop=True)\n",
    "train_dataset = train_dataset.reset_index(drop=True)\n",
    "\n",
    "\n",
    "print(\"FULL Dataset: {}\".format(df.shape))\n",
    "print(\"TRAIN Dataset: {}\".format(train_dataset.shape))\n",
    "print(\"TEST Dataset: {}\".format(test_dataset.shape))\n",
    "\n",
    "training_set = dataset(train_dataset, tokenizer, MAX_LEN)\n",
    "testing_set = dataset(test_dataset, tokenizer, MAX_LEN)"
   ]
  },
  {
   "cell_type": "code",
   "execution_count": 241,
   "id": "419d8154",
   "metadata": {},
   "outputs": [],
   "source": [
    "set_seed()\n",
    "\n",
    "train_params = {'batch_size': TRAIN_BATCH_SIZE,\n",
    "                'shuffle': True,\n",
    "                'num_workers': 0\n",
    "                }\n",
    "\n",
    "test_params = {'batch_size': VALID_BATCH_SIZE,\n",
    "                'shuffle': True,\n",
    "                'num_workers': 0\n",
    "                }\n",
    "\n",
    "train_loader = DataLoader(training_set, **train_params)\n",
    "test_loader = DataLoader(testing_set, **test_params)"
   ]
  },
  {
   "cell_type": "code",
   "execution_count": 242,
   "id": "d7a484fa",
   "metadata": {},
   "outputs": [],
   "source": [
    "class DistillBERT_classifier(torch.nn.Module):\n",
    "    def __init__(self):\n",
    "        super(DistillBERT_classifier, self).__init__()\n",
    "        self.l1 = DistilBertModel.from_pretrained(distilbert_path)\n",
    "        self.pre_classifier = torch.nn.Linear(768, 768)\n",
    "        self.dropout = torch.nn.Dropout(0.3)\n",
    "        self.classifier = torch.nn.Linear(768, NUM_CLASSES)\n",
    "\n",
    "    def forward(self, input_ids, attention_mask):\n",
    "        output_1 = self.l1(input_ids=input_ids, attention_mask=attention_mask)\n",
    "        hidden_state = output_1[0]\n",
    "        pooler = hidden_state[:, 0]\n",
    "        pooler = self.pre_classifier(pooler)\n",
    "        pooler = torch.nn.ReLU()(pooler)\n",
    "        pooler = self.dropout(pooler)\n",
    "        output = self.classifier(pooler)\n",
    "        return output"
   ]
  },
  {
   "cell_type": "code",
   "execution_count": 261,
   "id": "8f7bc301",
   "metadata": {},
   "outputs": [],
   "source": [
    "def plot_losses(train_losses, train_metrics, val_losses, val_metrics):\n",
    "    '''\n",
    "    Plot losses and metrics while training\n",
    "      - train_losses: sequence of train losses\n",
    "      - train_metrics: sequence of train MSE values\n",
    "      - val_losses: sequence of validation losses\n",
    "      - val_metrics: sequence of validation MSE values\n",
    "    '''\n",
    "    clear_output()\n",
    "    fig, axs = plt.subplots(1, 2, figsize=(15, 5))\n",
    "    axs[0].plot(range(1, len(train_losses) + 1), train_losses, label='train')\n",
    "    axs[0].plot(range(1, len(val_losses) + 1), val_losses, label='val')\n",
    "    axs[1].plot(range(1, len(train_metrics) + 1), train_metrics, label='train')\n",
    "    axs[1].plot(range(1, len(val_metrics) + 1), val_metrics, label='val')\n",
    "\n",
    "    # if max(train_losses) / min(train_losses) > 10:\n",
    "    #    axs[0].set_yscale('log')\n",
    "    #\n",
    "    # if max(train_metrics) / min(train_metrics) > 10:\n",
    "    #    axs[0].set_yscale('log')\n",
    "\n",
    "    for ax in axs:\n",
    "        ax.set_xlabel('epoch')\n",
    "        ax.legend()\n",
    "\n",
    "    axs[0].set_ylabel('loss')\n",
    "    axs[1].set_ylabel('metric')\n",
    "    plt.show()\n",
    "\n",
    "\n",
    "import torch\n",
    "from tqdm.auto import tqdm\n",
    "\n",
    "\n",
    "def train_and_validate(device, model, optimizer, criterion, metric, train_loader, val_loader,\n",
    "                       num_epochs, verbose=True):\n",
    "    '''\n",
    "    Train and validate neural network\n",
    "      - model: neural network to train\n",
    "      - optimizer: optimizer chained to a model\n",
    "      - criterion: loss function class\n",
    "      - metric: function to measure MSE taking neural networks predictions\n",
    "                 and ground truth labels\n",
    "      - train_loader: DataLoader with train set\n",
    "      - val_loader: DataLoader with validation set\n",
    "      - num_epochs: number of epochs to train\n",
    "      - verbose: whether to plot metrics during training\n",
    "      - device: device to use for training and inference, e.g. 'cpu', 'cuda'\n",
    "    Returns:\n",
    "      - train_mse: training MSE over the last epoch\n",
    "      - val_mse: validation MSE after the last epoch\n",
    "    '''\n",
    "\n",
    "    train_losses, val_losses = [], []\n",
    "    train_metrics, val_metrics = [], []\n",
    "    \n",
    "    \n",
    "    scaler = GradScaler()\n",
    "    \n",
    "    total_steps = len(train_loader) * num_epochs\n",
    "    \n",
    "    scheduler = get_linear_schedule_with_warmup(optimizer=optimizer, \n",
    "                                                num_warmup_steps=0,\n",
    "                                                num_training_steps=total_steps)\n",
    "    \n",
    "\n",
    "    for epoch in range(1, num_epochs + 1):\n",
    "        \n",
    "        model.train()\n",
    "        running_loss, running_metric = 0, 0\n",
    "        \n",
    "        pbar = tqdm(train_loader, desc=f'Training {epoch}/{num_epochs}') \\\n",
    "        if verbose else train_loader\n",
    "\n",
    "        for i, batch in enumerate(pbar, 1):\n",
    "            \n",
    "            ids = batch['input_ids'].to(device)\n",
    "            mask = batch['attention_mask'].to(device)\n",
    "            targets = batch['targets'].to(device)\n",
    "\n",
    "            optimizer.zero_grad()\n",
    "            \n",
    "            with autocast():\n",
    "                logits = model(ids, mask)               \n",
    "                print(logits)\n",
    "                loss = loss_function(logits, targets)\n",
    "            \n",
    "            \n",
    "#             logits = logits.detach().cpu().numpy()\n",
    "#             targets = targets.to('cpu').numpy()\n",
    "            \n",
    "            with torch.no_grad():\n",
    "                big_val, big_idx = torch.max(logits.data, 1)\n",
    "                \n",
    "                metric_value = metric(big_idx, targets)\n",
    "                if type(metric_value) == torch.Tensor:\n",
    "                    metric_value = metric_value.item()\n",
    "\n",
    "                running_loss += loss.item() \n",
    "                running_metric += metric_value\n",
    "                \n",
    "                \n",
    "            \n",
    "                \n",
    "            scaler.scale(loss).backward()\n",
    "            scaler.step(optimizer)\n",
    "            scaler.update()\n",
    "            \n",
    "            scheduler.step()\n",
    "           \n",
    "\n",
    "            if verbose and i % 100 == 0:\n",
    "                pbar.set_postfix({'loss': loss.item(), 'MSE': metric_value})\n",
    "\n",
    "        train_losses += [running_loss / len(train_loader)]\n",
    "        train_metrics += [running_metric / len(train_loader)]\n",
    "        \n",
    "        \n",
    "        model.eval()\n",
    "        running_loss, running_metric = 0, 0\n",
    "        \n",
    "        pbar = tqdm(val_loader, desc=f'Validating {epoch}/{num_epochs}') \\\n",
    "            if verbose else val_loader\n",
    "        \n",
    "        \n",
    "        for i, batch in enumerate(pbar, 1):\n",
    "            \n",
    "            ids = batch['input_ids'].to(device)\n",
    "            mask = batch['attention_mask'].to(device)\n",
    "            targets = batch['targets'].to(device)\n",
    "\n",
    "            with torch.no_grad():\n",
    "                logits = model(ids, mask)\n",
    "                loss = loss_function(logits.data, targets)\n",
    "                \n",
    "                logits = logits.detach().cpu().numpy()\n",
    "                targets = targets.to('cpu').numpy()\n",
    "                \n",
    "                big_val, big_idx = torch.max(logits, 1)\n",
    "                \n",
    "                metric_value = metric(big_idx, targets)\n",
    "                \n",
    "                if type(metric_value) == torch.Tensor:\n",
    "                    metric_value = metric_value.item()\n",
    "                    \n",
    "                running_loss += loss.item() \n",
    "                running_metric += metric_value\n",
    "\n",
    "            if verbose and i % 100 == 0:\n",
    "                pbar.set_postfix({'loss': loss.item(), 'MSE': metric_value})\n",
    "\n",
    "                \n",
    "        val_losses += [running_loss / len(val_loader)]\n",
    "        val_metrics += [running_metric / len(val_loader)]\n",
    "\n",
    "        if verbose:\n",
    "            plot_losses(train_losses, train_metrics, val_losses, val_metrics)\n",
    "\n",
    "    if verbose:\n",
    "        print(f'Validation metric: {val_metrics[-1]:.3f}')\n",
    "\n",
    "    return train_metrics[-1], val_metrics[-1]\n",
    "\n"
   ]
  },
  {
   "cell_type": "code",
   "execution_count": null,
   "id": "be3a5aaa",
   "metadata": {},
   "outputs": [],
   "source": []
  },
  {
   "cell_type": "code",
   "execution_count": null,
   "id": "29ee8ed2",
   "metadata": {},
   "outputs": [],
   "source": []
  },
  {
   "cell_type": "code",
   "execution_count": null,
   "id": "2ce873f6",
   "metadata": {},
   "outputs": [],
   "source": []
  },
  {
   "cell_type": "code",
   "execution_count": 262,
   "id": "2e3423e4",
   "metadata": {},
   "outputs": [
    {
     "name": "stderr",
     "output_type": "stream",
     "text": [
      "Some weights of the model checkpoint at /media/tonyalpha/HDD/distilbert-base-uncased were not used when initializing DistilBertModel: ['vocab_layer_norm.bias', 'vocab_layer_norm.weight', 'vocab_projector.bias', 'vocab_transform.weight', 'vocab_projector.weight', 'vocab_transform.bias']\n",
      "- This IS expected if you are initializing DistilBertModel from the checkpoint of a model trained on another task or with another architecture (e.g. initializing a BertForSequenceClassification model from a BertForPreTraining model).\n",
      "- This IS NOT expected if you are initializing DistilBertModel from the checkpoint of a model that you expect to be exactly identical (initializing a BertForSequenceClassification model from a BertForSequenceClassification model).\n"
     ]
    }
   ],
   "source": [
    "model = DistillBERT_classifier()\n",
    "model.to(device)\n",
    "\n",
    "loss_function = torch.nn.CrossEntropyLoss()\n",
    "optimizer = torch.optim.AdamW(model.parameters(), lr = LEARNING_RATE, eps = EPS)"
   ]
  },
  {
   "cell_type": "code",
   "execution_count": 263,
   "id": "c772c900",
   "metadata": {},
   "outputs": [],
   "source": [
    "# def accuracy(preds, labels):\n",
    "#     pred_flat = np.argmax(preds, axis=1).flatten()\n",
    "#     labels_flat = labels.flatten()\n",
    "#     return np.sum(pred_flat == labels_flat) / len(labels_flat)\n",
    "\n",
    "\n",
    "def accuracy(big_idx, targets):\n",
    "    n_correct = (big_idx==targets).sum().item()\n",
    "    return n_correct"
   ]
  },
  {
   "cell_type": "code",
   "execution_count": null,
   "id": "0803afb0",
   "metadata": {},
   "outputs": [
    {
     "data": {
      "application/vnd.jupyter.widget-view+json": {
       "model_id": "cb1bbebda4354e6595dadbb7af8ab050",
       "version_major": 2,
       "version_minor": 0
      },
      "text/plain": [
       "Training 1/2:   0%|          | 0/32 [00:00<?, ?it/s]"
      ]
     },
     "metadata": {},
     "output_type": "display_data"
    },
    {
     "name": "stdout",
     "output_type": "stream",
     "text": [
      "tensor([[ 3.0060e-02,  2.2380e-01,  4.0729e-02, -3.3752e-02, -2.5865e-03,\n",
      "          3.0194e-02,  2.4208e-01,  9.1844e-02,  1.3597e-01, -1.0335e-01,\n",
      "         -3.9551e-02],\n",
      "        [-6.3711e-02,  2.2819e-01, -1.4094e-01,  3.3548e-04, -1.0972e-01,\n",
      "         -4.3385e-02,  8.6269e-02,  6.3497e-02,  3.5810e-02, -1.6480e-01,\n",
      "          6.3041e-02],\n",
      "        [ 2.7301e-02,  1.5747e-01, -1.3525e-01, -6.1496e-02, -1.0205e-01,\n",
      "          7.6435e-02,  1.8177e-01,  6.1840e-02,  7.3966e-02, -2.6113e-01,\n",
      "          2.1672e-02],\n",
      "        [-1.0958e-01,  3.4734e-02, -1.5247e-01, -4.5077e-02,  4.0620e-02,\n",
      "          3.6160e-02,  2.2490e-01, -1.1527e-02,  5.4076e-02, -1.8551e-01,\n",
      "         -2.9914e-02],\n",
      "        [-4.9113e-02,  2.4366e-01,  5.5673e-02, -2.1513e-02, -1.5648e-01,\n",
      "          1.1012e-01,  1.8508e-01,  7.7540e-02,  1.7434e-02, -1.6668e-01,\n",
      "         -3.5956e-02],\n",
      "        [-9.0619e-02,  1.8842e-01, -1.7960e-04, -2.3264e-02, -7.8657e-02,\n",
      "          5.3965e-02,  5.3099e-02,  1.7005e-01,  2.4123e-02, -1.4468e-01,\n",
      "         -2.5824e-02],\n",
      "        [-3.5734e-02,  1.5415e-01,  6.1654e-04,  4.1342e-02, -1.2212e-01,\n",
      "          1.0225e-01,  8.7791e-02,  2.5547e-01, -3.0201e-02, -1.8317e-01,\n",
      "          1.0105e-02],\n",
      "        [ 5.7844e-02,  9.8785e-02, -2.8576e-02, -9.2422e-02, -1.1328e-01,\n",
      "          1.5043e-01,  1.0160e-01,  3.1841e-02,  1.2695e-01, -1.4819e-01,\n",
      "          5.5842e-02],\n",
      "        [-9.6861e-02,  1.2871e-01,  1.9322e-02, -2.2407e-02, -2.4488e-02,\n",
      "          3.8185e-02,  2.0277e-01,  1.8273e-01,  1.3965e-02, -1.5309e-02,\n",
      "          1.4802e-02],\n",
      "        [-1.3205e-02,  1.1132e-01,  8.3657e-02, -9.0444e-02, -1.0277e-01,\n",
      "          1.6281e-01,  2.4037e-01,  1.8782e-01,  1.1510e-01, -1.6863e-01,\n",
      "         -1.2097e-02],\n",
      "        [-1.2902e-02,  5.2224e-02,  7.5898e-03, -4.0677e-02,  3.6123e-02,\n",
      "         -2.1570e-02,  1.6811e-01,  1.7600e-01,  6.3442e-02,  6.7215e-02,\n",
      "         -7.8844e-03],\n",
      "        [-3.7243e-02,  6.7879e-02, -1.0712e-01, -4.5430e-02, -3.0039e-02,\n",
      "          1.0142e-02,  1.6063e-01,  1.1185e-01,  1.6115e-01, -1.4817e-01,\n",
      "          6.2419e-02],\n",
      "        [-4.3386e-02,  1.8816e-01,  2.4336e-02, -9.4337e-02, -5.6612e-02,\n",
      "          7.3221e-02,  1.0638e-01,  6.6961e-02,  1.4648e-01, -1.9610e-01,\n",
      "          5.6949e-02],\n",
      "        [-3.6141e-02,  6.8333e-02, -5.6762e-03,  4.8705e-03, -3.1551e-01,\n",
      "          7.4215e-02,  1.0762e-01, -8.5928e-02,  1.2293e-01, -3.0568e-01,\n",
      "          1.1455e-02],\n",
      "        [-1.3139e-01,  1.4975e-01,  2.8065e-02, -6.4319e-03, -8.2231e-02,\n",
      "          1.3510e-01,  4.6239e-02,  1.1132e-01,  7.7791e-02, -2.8536e-01,\n",
      "          1.3089e-01],\n",
      "        [-5.5592e-03,  1.6440e-01, -7.7057e-02,  8.0622e-02, -1.0088e-01,\n",
      "         -3.7907e-02,  5.7998e-02,  1.1857e-01,  1.3220e-01, -5.6370e-03,\n",
      "          7.7871e-02]], grad_fn=<AddmmBackward0>)\n"
     ]
    }
   ],
   "source": [
    "TRAIN_BATCH_SIZE = 16\n",
    "VALID_BATCH_SIZE = 16\n",
    "EPOCHS = 2\n",
    "LEARNING_RATE = 2e-05\n",
    "EPS =  1e-8\n",
    "NUM_CLASSES = len(activity_types)\n",
    "\n",
    "train_and_validate(device, model, optimizer, criterion = loss_function, metric = accuracy, \n",
    "                   train_loader = train_loader, val_loader = test_loader, num_epochs = EPOCHS, verbose=True)"
   ]
  },
  {
   "cell_type": "code",
   "execution_count": null,
   "id": "db2baa04",
   "metadata": {},
   "outputs": [],
   "source": []
  },
  {
   "cell_type": "code",
   "execution_count": null,
   "id": "a6245504",
   "metadata": {},
   "outputs": [],
   "source": []
  },
  {
   "cell_type": "code",
   "execution_count": null,
   "id": "efdeaa3b",
   "metadata": {},
   "outputs": [],
   "source": []
  },
  {
   "cell_type": "code",
   "execution_count": null,
   "id": "56e3028e",
   "metadata": {},
   "outputs": [],
   "source": []
  },
  {
   "cell_type": "code",
   "execution_count": null,
   "id": "857d4d7c",
   "metadata": {},
   "outputs": [],
   "source": []
  },
  {
   "cell_type": "code",
   "execution_count": null,
   "id": "aa49d7bc",
   "metadata": {},
   "outputs": [],
   "source": []
  },
  {
   "cell_type": "code",
   "execution_count": null,
   "id": "21730015",
   "metadata": {},
   "outputs": [],
   "source": []
  },
  {
   "cell_type": "code",
   "execution_count": null,
   "id": "1eb3e0d5",
   "metadata": {},
   "outputs": [],
   "source": [
    "# Function to calcuate the accuracy of the model\n",
    "\n",
    "def calcuate_accu(big_idx, targets):\n",
    "    n_correct = (big_idx==targets).sum().item()\n",
    "    return n_correct"
   ]
  },
  {
   "cell_type": "code",
   "execution_count": null,
   "id": "e73aad96",
   "metadata": {},
   "outputs": [],
   "source": [
    "# Defining the training function on the 80% of the dataset for tuning the distilbert model\n",
    "\n",
    "def train(epoch):\n",
    "    tr_loss = 0\n",
    "    n_correct = 0\n",
    "    nb_tr_steps = 0\n",
    "    nb_tr_examples = 0\n",
    "    model.train()\n",
    "    for _, data in enumerate(training_loader, 0):\n",
    "        ids = data['ids'].to(device, dtype = torch.long)\n",
    "        mask = data['mask'].to(device, dtype = torch.long)\n",
    "        targets = data['targets'].to(device, dtype = torch.long)\n",
    "\n",
    "        outputs = model(ids, mask)\n",
    "        loss = loss_function(outputs, targets)\n",
    "        tr_loss += loss.item()\n",
    "        big_val, big_idx = torch.max(outputs.data, dim=1)\n",
    "        n_correct += calcuate_accu(big_idx, targets)\n",
    "\n",
    "        nb_tr_steps += 1\n",
    "        nb_tr_examples+=targets.size(0)\n",
    "        \n",
    "        if _%5000==0:\n",
    "            loss_step = tr_loss/nb_tr_steps\n",
    "            accu_step = (n_correct*100)/nb_tr_examples \n",
    "            print(f\"Training Loss per 5000 steps: {loss_step}\")\n",
    "            print(f\"Training Accuracy per 5000 steps: {accu_step}\")\n",
    "\n",
    "        optimizer.zero_grad()\n",
    "        loss.backward()\n",
    "        # # When using GPU\n",
    "        optimizer.step()\n",
    "\n",
    "    print(f'The Total Accuracy for Epoch {epoch}: {(n_correct*100)/nb_tr_examples}')\n",
    "    epoch_loss = tr_loss/nb_tr_steps\n",
    "    epoch_accu = (n_correct*100)/nb_tr_examples\n",
    "    print(f\"Training Loss Epoch: {epoch_loss}\")\n",
    "    print(f\"Training Accuracy Epoch: {epoch_accu}\")\n",
    "\n",
    "    return "
   ]
  },
  {
   "cell_type": "code",
   "execution_count": null,
   "id": "760dba62",
   "metadata": {},
   "outputs": [],
   "source": [
    "for epoch in range(EPOCHS):\n",
    "    train(epoch)"
   ]
  },
  {
   "cell_type": "code",
   "execution_count": null,
   "id": "830af1c8",
   "metadata": {},
   "outputs": [],
   "source": []
  },
  {
   "cell_type": "code",
   "execution_count": null,
   "id": "84c5d017",
   "metadata": {},
   "outputs": [],
   "source": []
  },
  {
   "cell_type": "code",
   "execution_count": null,
   "id": "b2f240d0",
   "metadata": {},
   "outputs": [],
   "source": []
  },
  {
   "cell_type": "code",
   "execution_count": null,
   "id": "e2601337",
   "metadata": {},
   "outputs": [],
   "source": []
  },
  {
   "cell_type": "code",
   "execution_count": null,
   "id": "b19fc831",
   "metadata": {},
   "outputs": [],
   "source": [
    "def valid(model, testing_loader):\n",
    "    model.eval()\n",
    "    n_correct = 0; n_wrong = 0; total = 0\n",
    "    with torch.no_grad():\n",
    "        for _, data in enumerate(testing_loader, 0):\n",
    "            ids = data['ids'].to(device, dtype = torch.long)\n",
    "            mask = data['mask'].to(device, dtype = torch.long)\n",
    "            targets = data['targets'].to(device, dtype = torch.long)\n",
    "            outputs = model(ids, mask).squeeze()\n",
    "            loss = loss_function(outputs, targets)\n",
    "            tr_loss += loss.item()\n",
    "            big_val, big_idx = torch.max(outputs.data, dim=1)\n",
    "            n_correct += calcuate_accu(big_idx, targets)\n",
    "\n",
    "            nb_tr_steps += 1\n",
    "            nb_tr_examples+=targets.size(0)\n",
    "            \n",
    "            if _%5000==0:\n",
    "                loss_step = tr_loss/nb_tr_steps\n",
    "                accu_step = (n_correct*100)/nb_tr_examples\n",
    "                print(f\"Validation Loss per 100 steps: {loss_step}\")\n",
    "                print(f\"Validation Accuracy per 100 steps: {accu_step}\")\n",
    "    epoch_loss = tr_loss/nb_tr_steps\n",
    "    epoch_accu = (n_correct*100)/nb_tr_examples\n",
    "    print(f\"Validation Loss Epoch: {epoch_loss}\")\n",
    "    print(f\"Validation Accuracy Epoch: {epoch_accu}\")\n",
    "    \n",
    "    return epoch_accu\n"
   ]
  },
  {
   "cell_type": "code",
   "execution_count": null,
   "id": "0d5c371a",
   "metadata": {},
   "outputs": [],
   "source": [
    "print('This is the validation section to print the accuracy and see how it performs')\n",
    "print('Here we are leveraging on the dataloader crearted for the validation dataset, the approcah is using more of pytorch')\n",
    "\n",
    "acc = valid(model, testing_loader)\n",
    "print(\"Accuracy on test data = %0.2f%%\" % acc)"
   ]
  },
  {
   "cell_type": "code",
   "execution_count": null,
   "id": "0d6969f1",
   "metadata": {},
   "outputs": [],
   "source": [
    "output_model_file = './models/pytorch_distilbert_news.bin'\n",
    "output_vocab_file = './models/vocab_distilbert_news.bin'\n",
    "\n",
    "model_to_save = model\n",
    "torch.save(model_to_save, output_model_file)\n",
    "tokenizer.save_vocabulary(output_vocab_file)\n",
    "\n",
    "print('All files saved')\n",
    "print('This tutorial is completed')"
   ]
  },
  {
   "cell_type": "code",
   "execution_count": null,
   "id": "6448e3c8",
   "metadata": {},
   "outputs": [],
   "source": []
  },
  {
   "cell_type": "code",
   "execution_count": null,
   "id": "9383e673",
   "metadata": {},
   "outputs": [],
   "source": []
  },
  {
   "cell_type": "code",
   "execution_count": null,
   "id": "89f29331",
   "metadata": {},
   "outputs": [],
   "source": []
  },
  {
   "cell_type": "code",
   "execution_count": null,
   "id": "7e10221c",
   "metadata": {},
   "outputs": [],
   "source": []
  },
  {
   "cell_type": "markdown",
   "id": "547e0393",
   "metadata": {},
   "source": [
    "# Sentiment analysis "
   ]
  },
  {
   "cell_type": "code",
   "execution_count": 2,
   "id": "db574105",
   "metadata": {},
   "outputs": [],
   "source": [
    "# it's ok"
   ]
  },
  {
   "cell_type": "code",
   "execution_count": 31,
   "id": "9a4fed0e",
   "metadata": {},
   "outputs": [],
   "source": [
    "from transformers import pipeline\n",
    "\n",
    "bertweet_base_sentiment_analysis = pipeline(\"text-classification\", model=\"/media/tonyalpha/HDD/bertweet-base-sentiment-analysis\")"
   ]
  },
  {
   "cell_type": "code",
   "execution_count": 30,
   "id": "6e54813d",
   "metadata": {},
   "outputs": [
    {
     "data": {
      "text/plain": [
       "[{'label': 'NEG', 'score': 0.8925472497940063},\n",
       " {'label': 'NEU', 'score': 0.0853690579533577},\n",
       " {'label': 'POS', 'score': 0.022083677351474762}]"
      ]
     },
     "execution_count": 30,
     "metadata": {},
     "output_type": "execute_result"
    }
   ],
   "source": [
    "bertweet_base_sentiment_analysis('Sad day', top_k = 3)"
   ]
  },
  {
   "cell_type": "code",
   "execution_count": null,
   "id": "8fb9c01e",
   "metadata": {},
   "outputs": [],
   "source": []
  },
  {
   "cell_type": "code",
   "execution_count": null,
   "id": "b916a97c",
   "metadata": {},
   "outputs": [],
   "source": []
  },
  {
   "cell_type": "code",
   "execution_count": null,
   "id": "65169145",
   "metadata": {},
   "outputs": [],
   "source": []
  },
  {
   "cell_type": "code",
   "execution_count": null,
   "id": "6929d204",
   "metadata": {},
   "outputs": [],
   "source": []
  },
  {
   "cell_type": "code",
   "execution_count": null,
   "id": "1a6bdbec",
   "metadata": {},
   "outputs": [],
   "source": []
  },
  {
   "cell_type": "code",
   "execution_count": null,
   "id": "4962804b",
   "metadata": {},
   "outputs": [],
   "source": []
  },
  {
   "cell_type": "code",
   "execution_count": null,
   "id": "b7a121bc",
   "metadata": {},
   "outputs": [],
   "source": []
  },
  {
   "cell_type": "code",
   "execution_count": null,
   "id": "9ff14c2c",
   "metadata": {},
   "outputs": [],
   "source": []
  },
  {
   "cell_type": "code",
   "execution_count": null,
   "id": "7ea38dbb",
   "metadata": {},
   "outputs": [],
   "source": []
  },
  {
   "cell_type": "code",
   "execution_count": null,
   "id": "f65bb7e9",
   "metadata": {},
   "outputs": [],
   "source": []
  },
  {
   "cell_type": "code",
   "execution_count": null,
   "id": "7316be41",
   "metadata": {},
   "outputs": [],
   "source": []
  },
  {
   "cell_type": "code",
   "execution_count": null,
   "id": "87ca82ca",
   "metadata": {},
   "outputs": [],
   "source": []
  },
  {
   "cell_type": "code",
   "execution_count": null,
   "id": "89939eec",
   "metadata": {},
   "outputs": [],
   "source": []
  },
  {
   "cell_type": "code",
   "execution_count": null,
   "id": "918be550",
   "metadata": {},
   "outputs": [],
   "source": []
  },
  {
   "cell_type": "code",
   "execution_count": null,
   "id": "c30b3878",
   "metadata": {},
   "outputs": [],
   "source": []
  },
  {
   "cell_type": "code",
   "execution_count": null,
   "id": "99c68292",
   "metadata": {},
   "outputs": [],
   "source": []
  },
  {
   "cell_type": "code",
   "execution_count": null,
   "id": "92cb0a2b",
   "metadata": {},
   "outputs": [],
   "source": []
  },
  {
   "cell_type": "code",
   "execution_count": null,
   "id": "4cc510ff",
   "metadata": {},
   "outputs": [],
   "source": []
  },
  {
   "cell_type": "code",
   "execution_count": null,
   "id": "fb8ec3fb",
   "metadata": {},
   "outputs": [],
   "source": []
  },
  {
   "cell_type": "code",
   "execution_count": null,
   "id": "22723ba7",
   "metadata": {},
   "outputs": [],
   "source": []
  },
  {
   "cell_type": "code",
   "execution_count": null,
   "id": "214ceceb",
   "metadata": {},
   "outputs": [],
   "source": []
  },
  {
   "cell_type": "code",
   "execution_count": null,
   "id": "c5bff5fa",
   "metadata": {},
   "outputs": [],
   "source": []
  },
  {
   "cell_type": "code",
   "execution_count": null,
   "id": "26130f9a",
   "metadata": {},
   "outputs": [],
   "source": []
  },
  {
   "cell_type": "code",
   "execution_count": null,
   "id": "bf34739d",
   "metadata": {},
   "outputs": [],
   "source": []
  },
  {
   "cell_type": "code",
   "execution_count": null,
   "id": "066fcafa",
   "metadata": {},
   "outputs": [],
   "source": []
  },
  {
   "cell_type": "markdown",
   "id": "680dcf6e",
   "metadata": {},
   "source": [
    "# Sync with DB"
   ]
  },
  {
   "cell_type": "code",
   "execution_count": null,
   "id": "0f446fcd",
   "metadata": {},
   "outputs": [],
   "source": []
  },
  {
   "cell_type": "code",
   "execution_count": null,
   "id": "ddd14f35",
   "metadata": {},
   "outputs": [],
   "source": []
  },
  {
   "cell_type": "code",
   "execution_count": null,
   "id": "e3d36f02",
   "metadata": {},
   "outputs": [],
   "source": []
  },
  {
   "cell_type": "code",
   "execution_count": null,
   "id": "f5100314",
   "metadata": {},
   "outputs": [],
   "source": []
  },
  {
   "cell_type": "code",
   "execution_count": null,
   "id": "c47ab28e",
   "metadata": {},
   "outputs": [],
   "source": []
  },
  {
   "cell_type": "code",
   "execution_count": null,
   "id": "623ff798",
   "metadata": {},
   "outputs": [],
   "source": []
  },
  {
   "cell_type": "markdown",
   "id": "479c46f5",
   "metadata": {},
   "source": [
    "# Etc "
   ]
  },
  {
   "cell_type": "code",
   "execution_count": null,
   "id": "564ce7de",
   "metadata": {},
   "outputs": [],
   "source": []
  }
 ],
 "metadata": {
  "kernelspec": {
   "display_name": "Python 3",
   "language": "python",
   "name": "python3"
  },
  "language_info": {
   "codemirror_mode": {
    "name": "ipython",
    "version": 3
   },
   "file_extension": ".py",
   "mimetype": "text/x-python",
   "name": "python",
   "nbconvert_exporter": "python",
   "pygments_lexer": "ipython3",
   "version": "3.8.10"
  }
 },
 "nbformat": 4,
 "nbformat_minor": 5
}
