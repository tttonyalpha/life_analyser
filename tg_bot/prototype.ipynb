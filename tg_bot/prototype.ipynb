{
 "cells": [
  {
   "cell_type": "code",
   "execution_count": 1,
   "id": "07e4a9e8",
   "metadata": {},
   "outputs": [
    {
     "name": "stderr",
     "output_type": "stream",
     "text": [
      "2023-07-21 13:10:36,369 - apscheduler.scheduler - INFO - Scheduler started\n",
      "2023-07-21 13:10:56,730 - telegram.ext.dispatcher - ERROR - No error handlers are registered, logging exception.\n",
      "Traceback (most recent call last):\n",
      "  File \"/home/tonyalpha/.local/lib/python3.8/site-packages/telegram/ext/dispatcher.py\", line 557, in process_update\n",
      "    handler.handle_update(update, self, check, context)\n",
      "  File \"/home/tonyalpha/.local/lib/python3.8/site-packages/telegram/ext/handler.py\", line 199, in handle_update\n",
      "    return self.callback(update, context)\n",
      "  File \"<ipython-input-1-971e397ffdcf>\", line 22, in send_new_channel_messages\n",
      "    channel_updates = bot.get_chat_updates(channel_id)\n",
      "AttributeError: 'Bot' object has no attribute 'get_chat_updates'\n",
      "2023-07-21 13:11:06,016 - telegram.ext.updater - INFO - Received signal 2 (SIGINT), stopping...\n",
      "2023-07-21 13:11:06,019 - apscheduler.scheduler - INFO - Scheduler has been shut down\n"
     ]
    }
   ],
   "source": [
    "\n",
    "import logging\n",
    "from telegram import Update, Bot\n",
    "from telegram.ext import Updater, CommandHandler, MessageHandler, Filters, CallbackContext\n",
    "\n",
    "# Replace 'YOUR_BOT_TOKEN' with the token you got from the BotFather\n",
    "bot = Bot(token=API_TOKEN)\n",
    "updater = Updater(token=API_TOKEN, use_context=True)\n",
    "dispatcher = updater.dispatcher\n",
    "\n",
    "# Enable logging\n",
    "logging.basicConfig(format='%(asctime)s - %(name)s - %(levelname)s - %(message)s',\n",
    "                     level=logging.INFO)\n",
    "\n",
    "\n",
    "def send_new_channel_messages(update: Update, context: CallbackContext):\n",
    "    # Replace 'YOUR_CHANNEL_ID' with the ID of the channel from which you want to read messages\n",
    "    channel_id = 'my life'\n",
    "\n",
    "    # Get the list of all updates in the channel\n",
    "    channel_updates = bot.get_chat_updates(channel_id)\n",
    "\n",
    "    # Get the user ID to send messages\n",
    "    user_id = update.message.from_user.id\n",
    "\n",
    "    # Iterate through all the updates and send new messages to the user\n",
    "    for update in channel_updates:\n",
    "        if update.message:\n",
    "            bot.forward_message(chat_id=user_id, from_chat_id=channel_id, message_id=update.message.message_id)\n",
    "\n",
    "\n",
    "def start(update: Update, context: CallbackContext):\n",
    "    user_id = update.message.from_user.id\n",
    "    update.message.reply_text(f\"Hello! I will send you new messages from the channel.\")\n",
    "\n",
    "\n",
    "def main():\n",
    "    # Add a handler for new messages in the channel\n",
    "    dispatcher.add_handler(MessageHandler(Filters.chat_type.channel, send_new_channel_messages))\n",
    "    # Add a handler for the /start command\n",
    "    dispatcher.add_handler(CommandHandler(\"start\", start))\n",
    "\n",
    "    updater.start_polling()\n",
    "    updater.idle()\n",
    "\n",
    "\n",
    "if __name__ == '__main__':\n",
    "    main()"
   ]
  },
  {
   "cell_type": "code",
   "execution_count": null,
   "id": "568fd029",
   "metadata": {},
   "outputs": [],
   "source": []
  },
  {
   "cell_type": "code",
   "execution_count": 192,
   "id": "263f9a03",
   "metadata": {},
   "outputs": [
    {
     "ename": "SyntaxError",
     "evalue": "invalid syntax (<ipython-input-192-20c5fbbb96dc>, line 1)",
     "output_type": "error",
     "traceback": [
      "\u001b[0;36m  File \u001b[0;32m\"<ipython-input-192-20c5fbbb96dc>\"\u001b[0;36m, line \u001b[0;32m1\u001b[0m\n\u001b[0;31m    a[2]['text'].\u001b[0m\n\u001b[0m                 ^\u001b[0m\n\u001b[0;31mSyntaxError\u001b[0m\u001b[0;31m:\u001b[0m invalid syntax\n"
     ]
    }
   ],
   "source": [
    "a[2]['text']."
   ]
  },
  {
   "cell_type": "markdown",
   "id": "cea63a39",
   "metadata": {},
   "source": [
    "# Config upload"
   ]
  },
  {
   "cell_type": "code",
   "execution_count": 9,
   "id": "aa2beedb",
   "metadata": {},
   "outputs": [],
   "source": [
    "import configparser\n",
    "import json\n",
    "\n",
    "from telethon import TelegramClient\n",
    "from telethon.errors import SessionPasswordNeededError"
   ]
  },
  {
   "cell_type": "code",
   "execution_count": 82,
   "id": "a29769ac",
   "metadata": {},
   "outputs": [],
   "source": [
    "# Reading Configs\n",
    "config = configparser.ConfigParser()\n",
    "config.read(\"config.ini\")\n",
    "\n",
    "# Setting configuration values\n",
    "api_id = config['Telegram']['api_id']\n",
    "api_hash = config['Telegram']['api_hash']\n",
    "api_token = config['Telegram']['api_token']\n",
    "\n",
    "api_hash = str(api_hash)\n",
    "\n",
    "phone = config['Telegram']['phone']\n",
    "username = config['Telegram']['username']\n",
    "channel_link = config['Telegram']['channel_link'] \n",
    "\n",
    "db_name = config['database']['db_name']\n",
    "db_user = config['database']['db_user']\n",
    "db_password = config['database']['db_password'] \n",
    "db_host = config['database']['db_host'] \n"
   ]
  },
  {
   "cell_type": "code",
   "execution_count": null,
   "id": "cafb4366",
   "metadata": {},
   "outputs": [],
   "source": []
  },
  {
   "cell_type": "code",
   "execution_count": 258,
   "id": "f40f9c3b",
   "metadata": {},
   "outputs": [
    {
     "name": "stdout",
     "output_type": "stream",
     "text": [
      "<coroutine object UserMethods.get_me at 0x7f86fd106540>\n"
     ]
    },
    {
     "name": "stderr",
     "output_type": "stream",
     "text": [
      "<ipython-input-258-bc2b6df2013c>:1: RuntimeWarning: coroutine 'UserMethods.is_user_authorized' was never awaited\n",
      "  if not client.is_user_authorized():\n",
      "RuntimeWarning: Enable tracemalloc to get the object allocation traceback\n",
      "<ipython-input-258-bc2b6df2013c>:8: RuntimeWarning: coroutine 'UserMethods.get_me' was never awaited\n",
      "  me = client.get_me()\n",
      "RuntimeWarning: Enable tracemalloc to get the object allocation traceback\n"
     ]
    }
   ],
   "source": [
    "if not client.is_user_authorized():\n",
    "    client.send_code_request(phone)\n",
    "    try:\n",
    "        client.sign_in(phone, input('Enter the code: '))\n",
    "    except SessionPasswordNeededError:\n",
    "        client.sign_in(password=input('Password: '))\n",
    "\n",
    "me = client.get_me()\n",
    "print(me)"
   ]
  },
  {
   "cell_type": "code",
   "execution_count": null,
   "id": "bde64d42",
   "metadata": {},
   "outputs": [],
   "source": []
  },
  {
   "cell_type": "code",
   "execution_count": 3,
   "id": "9929341a",
   "metadata": {},
   "outputs": [
    {
     "name": "stderr",
     "output_type": "stream",
     "text": [
      "<ipython-input-3-adc2bb114a1f>:11: RuntimeWarning: coroutine 'TelegramBaseClient.connect' was never awaited\n",
      "  assert client.connect()\n",
      "RuntimeWarning: Enable tracemalloc to get the object allocation traceback\n",
      "<ipython-input-3-adc2bb114a1f>:12: RuntimeWarning: coroutine 'UserMethods.is_user_authorized' was never awaited\n",
      "  if not client.is_user_authorized():\n",
      "RuntimeWarning: Enable tracemalloc to get the object allocation traceback\n"
     ]
    }
   ],
   "source": [
    "chat_id = 'my life'\n",
    "\n",
    "from telethon import TelegramClient\n",
    "from telethon.tl.functions.messages import GetHistoryRequest\n",
    "import telethon.sync\n",
    "\n",
    "client = TelegramClient(None,\n",
    "                    api_id,\n",
    "                    api_hash)\n",
    "\n",
    "assert client.connect()\n",
    "if not client.is_user_authorized():\n",
    "    client.send_code_request(phone_number)\n",
    "    me = client.sign_in(phone_number, input('Enter code: '))\n",
    "\n",
    "channel_username='my life' # your channel\n",
    "channel_entity=client.get_entity(channel_username)\n",
    "posts = client(GetHistoryRequest(\n",
    "    peer=channel_entity,\n",
    "    limit=100,\n",
    "    offset_date=None,\n",
    "    offset_id=0,\n",
    "    max_id=0,\n",
    "    min_id=0,\n",
    "    add_offset=0,\n",
    "    hash=0))\n",
    "# messages stored in `posts.messages`"
   ]
  },
  {
   "cell_type": "code",
   "execution_count": 21,
   "id": "85b7a7ba",
   "metadata": {},
   "outputs": [
    {
     "name": "stderr",
     "output_type": "stream",
     "text": [
      "<ipython-input-21-e72b7ee019a6>:4: RuntimeWarning: coroutine 'AuthMethods._start' was never awaited\n",
      "  client.start()\n",
      "RuntimeWarning: Enable tracemalloc to get the object allocation traceback\n",
      "<ipython-input-21-e72b7ee019a6>:6: RuntimeWarning: coroutine 'MessageMethods.get_messages' was never awaited\n",
      "  for message in client.get_messages(channel_username, limit=10):\n",
      "RuntimeWarning: Enable tracemalloc to get the object allocation traceback\n"
     ]
    },
    {
     "ename": "TypeError",
     "evalue": "'coroutine' object is not iterable",
     "output_type": "error",
     "traceback": [
      "\u001b[0;31m---------------------------------------------------------------------------\u001b[0m",
      "\u001b[0;31mTypeError\u001b[0m                                 Traceback (most recent call last)",
      "\u001b[0;32m<ipython-input-21-e72b7ee019a6>\u001b[0m in \u001b[0;36m<module>\u001b[0;34m\u001b[0m\n\u001b[1;32m      4\u001b[0m \u001b[0mclient\u001b[0m\u001b[0;34m.\u001b[0m\u001b[0mstart\u001b[0m\u001b[0;34m(\u001b[0m\u001b[0;34m)\u001b[0m\u001b[0;34m\u001b[0m\u001b[0;34m\u001b[0m\u001b[0m\n\u001b[1;32m      5\u001b[0m \u001b[0mchannel_username\u001b[0m \u001b[0;34m=\u001b[0m \u001b[0;34m'my life'\u001b[0m\u001b[0;34m\u001b[0m\u001b[0;34m\u001b[0m\u001b[0m\n\u001b[0;32m----> 6\u001b[0;31m \u001b[0;32mfor\u001b[0m \u001b[0mmessage\u001b[0m \u001b[0;32min\u001b[0m \u001b[0mclient\u001b[0m\u001b[0;34m.\u001b[0m\u001b[0mget_messages\u001b[0m\u001b[0;34m(\u001b[0m\u001b[0mchannel_username\u001b[0m\u001b[0;34m,\u001b[0m \u001b[0mlimit\u001b[0m\u001b[0;34m=\u001b[0m\u001b[0;36m10\u001b[0m\u001b[0;34m)\u001b[0m\u001b[0;34m:\u001b[0m\u001b[0;34m\u001b[0m\u001b[0;34m\u001b[0m\u001b[0m\n\u001b[0m\u001b[1;32m      7\u001b[0m     \u001b[0mprint\u001b[0m\u001b[0;34m(\u001b[0m\u001b[0mmessage\u001b[0m\u001b[0;34m.\u001b[0m\u001b[0mmessage\u001b[0m\u001b[0;34m)\u001b[0m\u001b[0;34m\u001b[0m\u001b[0;34m\u001b[0m\u001b[0m\n",
      "\u001b[0;31mTypeError\u001b[0m: 'coroutine' object is not iterable"
     ]
    }
   ],
   "source": [
    "from telethon import TelegramClient, events, sync\n",
    "\n",
    "client = TelegramClient(None, api_id, api_hash)\n",
    "client.start()\n",
    "channel_username = 'my life'\n",
    "for message in client.get_messages(channel_username, limit=10):\n",
    "    print(message.message)"
   ]
  },
  {
   "cell_type": "code",
   "execution_count": null,
   "id": "151f830f",
   "metadata": {},
   "outputs": [],
   "source": []
  },
  {
   "cell_type": "code",
   "execution_count": 24,
   "id": "30c92eb5",
   "metadata": {},
   "outputs": [],
   "source": [
    "from telethon.sync import TelegramClient\n",
    "\n",
    "\n",
    "\n",
    "# We have to manually call \"start\" if we want an explicit bot token\n",
    "bot = TelegramClient('bot', api_id, api_hash).start(bot_token=api_token)\n",
    "\n",
    "# But then we can use the client instance as usual"
   ]
  },
  {
   "cell_type": "code",
   "execution_count": 25,
   "id": "4b25d6ae",
   "metadata": {},
   "outputs": [],
   "source": [
    "from telethon.tl.functions.channels import GetParticipantsRequest\n",
    "from telethon.tl.types import ChannelParticipantsSearch\n",
    "from telethon.tl.types import (\n",
    "PeerChannel\n",
    ")"
   ]
  },
  {
   "cell_type": "code",
   "execution_count": 26,
   "id": "6c9cdc0e",
   "metadata": {},
   "outputs": [
    {
     "name": "stdout",
     "output_type": "stream",
     "text": [
      "enter entity(telegram URL or entity id):https://web.telegram.org/k/#-1810810362\n"
     ]
    }
   ],
   "source": [
    "\n",
    "user_input_channel = input(\"enter entity(telegram URL or entity id):\")\n",
    "\n",
    "if user_input_channel.isdigit():\n",
    "    entity = PeerChannel(int(user_input_channel))\n",
    "else:\n",
    "    entity = user_input_channel\n",
    "\n",
    "my_channel = client.get_entity(entity)"
   ]
  },
  {
   "cell_type": "code",
   "execution_count": 28,
   "id": "e15ad850",
   "metadata": {},
   "outputs": [
    {
     "ename": "AttributeError",
     "evalue": "'coroutine' object has no attribute 'users'",
     "output_type": "error",
     "traceback": [
      "\u001b[0;31m---------------------------------------------------------------------------\u001b[0m",
      "\u001b[0;31mAttributeError\u001b[0m                            Traceback (most recent call last)",
      "\u001b[0;32m<ipython-input-28-260026df92e7>\u001b[0m in \u001b[0;36m<module>\u001b[0;34m\u001b[0m\n\u001b[1;32m      8\u001b[0m         \u001b[0mhash\u001b[0m\u001b[0;34m=\u001b[0m\u001b[0;36m0\u001b[0m\u001b[0;34m\u001b[0m\u001b[0;34m\u001b[0m\u001b[0m\n\u001b[1;32m      9\u001b[0m     ))\n\u001b[0;32m---> 10\u001b[0;31m     \u001b[0;32mif\u001b[0m \u001b[0;32mnot\u001b[0m \u001b[0mparticipants\u001b[0m\u001b[0;34m.\u001b[0m\u001b[0musers\u001b[0m\u001b[0;34m:\u001b[0m\u001b[0;34m\u001b[0m\u001b[0;34m\u001b[0m\u001b[0m\n\u001b[0m\u001b[1;32m     11\u001b[0m         \u001b[0;32mbreak\u001b[0m\u001b[0;34m\u001b[0m\u001b[0;34m\u001b[0m\u001b[0m\n\u001b[1;32m     12\u001b[0m     \u001b[0mall_participants\u001b[0m\u001b[0;34m.\u001b[0m\u001b[0mextend\u001b[0m\u001b[0;34m(\u001b[0m\u001b[0mparticipants\u001b[0m\u001b[0;34m.\u001b[0m\u001b[0musers\u001b[0m\u001b[0;34m)\u001b[0m\u001b[0;34m\u001b[0m\u001b[0;34m\u001b[0m\u001b[0m\n",
      "\u001b[0;31mAttributeError\u001b[0m: 'coroutine' object has no attribute 'users'"
     ]
    }
   ],
   "source": [
    "\n",
    "offset = 0\n",
    "limit = 100\n",
    "all_participants = []\n",
    "\n",
    "while True:\n",
    "    participants = client(GetParticipantsRequest(\n",
    "        my_channel, ChannelParticipantsSearch(''), offset, limit,\n",
    "        hash=0\n",
    "    ))\n",
    "    if not participants.users:\n",
    "        break\n",
    "    all_participants.extend(participants.users)\n",
    "    offset += len(participants.users)"
   ]
  },
  {
   "cell_type": "code",
   "execution_count": 29,
   "id": "e298317a",
   "metadata": {},
   "outputs": [],
   "source": [
    "from telethon.tl.functions.messages import (GetHistoryRequest)\n",
    "from telethon.tl.types import (\n",
    "PeerChannel\n",
    ")"
   ]
  },
  {
   "cell_type": "code",
   "execution_count": 30,
   "id": "41fad6c2",
   "metadata": {},
   "outputs": [
    {
     "name": "stdout",
     "output_type": "stream",
     "text": [
      "Current Offset ID is: 0 ; Total Messages: 0\n"
     ]
    },
    {
     "ename": "AttributeError",
     "evalue": "'coroutine' object has no attribute 'messages'",
     "output_type": "error",
     "traceback": [
      "\u001b[0;31m---------------------------------------------------------------------------\u001b[0m",
      "\u001b[0;31mAttributeError\u001b[0m                            Traceback (most recent call last)",
      "\u001b[0;32m<ipython-input-30-3a17a70c97d6>\u001b[0m in \u001b[0;36m<module>\u001b[0;34m\u001b[0m\n\u001b[1;32m     17\u001b[0m         \u001b[0mhash\u001b[0m\u001b[0;34m=\u001b[0m\u001b[0;36m0\u001b[0m\u001b[0;34m\u001b[0m\u001b[0;34m\u001b[0m\u001b[0m\n\u001b[1;32m     18\u001b[0m     ))\n\u001b[0;32m---> 19\u001b[0;31m     \u001b[0;32mif\u001b[0m \u001b[0;32mnot\u001b[0m \u001b[0mhistory\u001b[0m\u001b[0;34m.\u001b[0m\u001b[0mmessages\u001b[0m\u001b[0;34m:\u001b[0m\u001b[0;34m\u001b[0m\u001b[0;34m\u001b[0m\u001b[0m\n\u001b[0m\u001b[1;32m     20\u001b[0m         \u001b[0;32mbreak\u001b[0m\u001b[0;34m\u001b[0m\u001b[0;34m\u001b[0m\u001b[0m\n\u001b[1;32m     21\u001b[0m     \u001b[0mmessages\u001b[0m \u001b[0;34m=\u001b[0m \u001b[0mhistory\u001b[0m\u001b[0;34m.\u001b[0m\u001b[0mmessages\u001b[0m\u001b[0;34m\u001b[0m\u001b[0;34m\u001b[0m\u001b[0m\n",
      "\u001b[0;31mAttributeError\u001b[0m: 'coroutine' object has no attribute 'messages'"
     ]
    }
   ],
   "source": [
    "\n",
    "offset_id = 0\n",
    "limit = 100\n",
    "all_messages = []\n",
    "total_messages = 0\n",
    "total_count_limit = 0\n",
    "\n",
    "while True:\n",
    "    print(\"Current Offset ID is:\", offset_id, \"; Total Messages:\", total_messages)\n",
    "    history = client(GetHistoryRequest(\n",
    "        peer=my_channel,\n",
    "        offset_id=offset_id,\n",
    "        offset_date=None,\n",
    "        add_offset=0,\n",
    "        limit=limit,\n",
    "        max_id=0,\n",
    "        min_id=0,\n",
    "        hash=0\n",
    "    ))\n",
    "    if not history.messages:\n",
    "        break\n",
    "    messages = history.messages\n",
    "    for message in messages:\n",
    "        all_messages.append(message.to_dict())\n",
    "    offset_id = messages[len(messages) - 1].id\n",
    "    total_messages = len(all_messages)\n",
    "    if total_count_limit != 0 and total_messages >= total_count_limit:\n",
    "        break"
   ]
  },
  {
   "cell_type": "code",
   "execution_count": 8,
   "id": "c15069d7",
   "metadata": {},
   "outputs": [
    {
     "name": "stderr",
     "output_type": "stream",
     "text": [
      "<ipython-input-8-ac3a12e7944d>:8: RuntimeWarning: coroutine 'AuthMethods._start' was never awaited\n",
      "  bot.start(bot_token=api_token)\n",
      "RuntimeWarning: Enable tracemalloc to get the object allocation traceback\n"
     ]
    },
    {
     "data": {
      "text/plain": [
       "<Future pending cb=[shield.<locals>._outer_done_callback() at /usr/lib/python3.8/asyncio/tasks.py:902]>"
      ]
     },
     "execution_count": 8,
     "metadata": {},
     "output_type": "execute_result"
    }
   ],
   "source": [
    "import asyncio\n",
    "from telethon import TelegramClient\n",
    "from telethon.tl import functions, types\n",
    "\n",
    "\n",
    "\n",
    "bot = TelegramClient(None, api_id, api_hash)\n",
    "bot.start(bot_token=api_token)\n",
    "\n",
    "\n",
    "async def main():\n",
    "    channel = await client.get_entity('my life')\n",
    "    messages = await client.get_messages(channel, limit= None) #pass your own args\n",
    "\n",
    "    #then if you want to get all the messages text\n",
    "    for x in messages:\n",
    "        print(x.text) #return message.text\n",
    "\n",
    "        \n",
    "bot.disconnect()\n"
   ]
  },
  {
   "cell_type": "code",
   "execution_count": 10,
   "id": "8486df39",
   "metadata": {},
   "outputs": [
    {
     "name": "stdout",
     "output_type": "stream",
     "text": [
      "Please enter your phone (or bot token): 6314875092:AAHYBhziZBmRxopu71qTzimeZ1ZfJMJckvc\n"
     ]
    },
    {
     "ename": "NameError",
     "evalue": "name 'chat' is not defined",
     "output_type": "error",
     "traceback": [
      "\u001b[0;31m---------------------------------------------------------------------------\u001b[0m",
      "\u001b[0;31mNameError\u001b[0m                                 Traceback (most recent call last)",
      "\u001b[0;32m<ipython-input-10-9205d694e555>\u001b[0m in \u001b[0;36m<module>\u001b[0;34m\u001b[0m\n\u001b[1;32m      2\u001b[0m \u001b[0;34m\u001b[0m\u001b[0m\n\u001b[1;32m      3\u001b[0m \u001b[0;32masync\u001b[0m \u001b[0;32mwith\u001b[0m \u001b[0mTelegramClient\u001b[0m\u001b[0;34m(\u001b[0m\u001b[0;32mNone\u001b[0m\u001b[0;34m,\u001b[0m \u001b[0mapi_id\u001b[0m\u001b[0;34m,\u001b[0m \u001b[0mapi_hash\u001b[0m\u001b[0;34m)\u001b[0m \u001b[0;32mas\u001b[0m \u001b[0mclient\u001b[0m\u001b[0;34m:\u001b[0m\u001b[0;34m\u001b[0m\u001b[0;34m\u001b[0m\u001b[0m\n\u001b[0;32m----> 4\u001b[0;31m     \u001b[0;32mfor\u001b[0m \u001b[0mmessage\u001b[0m \u001b[0;32min\u001b[0m \u001b[0mclient\u001b[0m\u001b[0;34m.\u001b[0m\u001b[0miter_messages\u001b[0m\u001b[0;34m(\u001b[0m\u001b[0mchat\u001b[0m\u001b[0;34m)\u001b[0m\u001b[0;34m:\u001b[0m\u001b[0;34m\u001b[0m\u001b[0;34m\u001b[0m\u001b[0m\n\u001b[0m\u001b[1;32m      5\u001b[0m         \u001b[0mprint\u001b[0m\u001b[0;34m(\u001b[0m\u001b[0mmessage\u001b[0m\u001b[0;34m.\u001b[0m\u001b[0msender_id\u001b[0m\u001b[0;34m,\u001b[0m \u001b[0;34m':'\u001b[0m\u001b[0;34m,\u001b[0m \u001b[0mmessage\u001b[0m\u001b[0;34m.\u001b[0m\u001b[0mtext\u001b[0m\u001b[0;34m)\u001b[0m\u001b[0;34m\u001b[0m\u001b[0;34m\u001b[0m\u001b[0m\n",
      "\u001b[0;31mNameError\u001b[0m: name 'chat' is not defined"
     ]
    }
   ],
   "source": [
    "from telethon.sync import TelegramClient\n",
    "\n",
    "async with TelegramClient(None, api_id, api_hash) as client:\n",
    "    for message in client.iter_messages(chat):\n",
    "        print(message.sender_id, ':', message.text)"
   ]
  },
  {
   "cell_type": "code",
   "execution_count": 17,
   "id": "54cb87a5",
   "metadata": {},
   "outputs": [],
   "source": [
    "channel_link = 'https://t.me/+VG3vYqh-rMYxZTE6'"
   ]
  },
  {
   "cell_type": "code",
   "execution_count": null,
   "id": "18c31885",
   "metadata": {},
   "outputs": [],
   "source": []
  },
  {
   "cell_type": "code",
   "execution_count": null,
   "id": "d88ae0fa",
   "metadata": {},
   "outputs": [],
   "source": []
  },
  {
   "cell_type": "code",
   "execution_count": 193,
   "id": "4743dd37",
   "metadata": {},
   "outputs": [],
   "source": [
    "from telethon.tl.types import InputMessagesFilterPhotos, InputMessagesFilterDocument, InputMessagesFilterEmpty\n",
    "from telethon import TelegramClient, events\n",
    "\n",
    "import nest_asyncio\n",
    "import sys,datetime\n",
    "\n",
    "nest_asyncio.apply()\n"
   ]
  },
  {
   "cell_type": "code",
   "execution_count": 124,
   "id": "069434ff",
   "metadata": {},
   "outputs": [
    {
     "data": {
      "text/plain": [
       "datetime.date(2023, 7, 20)"
      ]
     },
     "execution_count": 124,
     "metadata": {},
     "output_type": "execute_result"
    }
   ],
   "source": [
    "datetime.date.today() - datetime.timedelta(days=2)"
   ]
  },
  {
   "cell_type": "code",
   "execution_count": 89,
   "id": "54f965f7",
   "metadata": {},
   "outputs": [],
   "source": [
    "from telethon.tl.types import InputMessagesFilterPhotos\n",
    "from telethon import TelegramClient, events\n",
    "import nest_asyncio\n",
    "\n",
    "nest_asyncio.apply()\n",
    "\n"
   ]
  },
  {
   "cell_type": "code",
   "execution_count": 466,
   "id": "88eeb257",
   "metadata": {},
   "outputs": [],
   "source": [
    "import os.path\n",
    "\n",
    "def get_posts(num_posts = 1, download_media = False, only_with_media = True, offset_id = 0, posts_list = []):\n",
    "    client = TelegramClient(username, api_id, api_hash)\n",
    "\n",
    "    async def main(num_posts, download_media, offset_id, posts_list):\n",
    "        \n",
    "        if num_posts < 100:\n",
    "            message_limit = num_posts\n",
    "        else:\n",
    "            message_limit = 100\n",
    "            \n",
    "            \n",
    "        last_post_date = None\n",
    "        post = {}\n",
    "        \n",
    "        await client.start()\n",
    "\n",
    "        try:\n",
    "            entity = await client.get_entity(channel_link)\n",
    "\n",
    "            while True:\n",
    "                messages = await client.get_messages(entity, limit=message_limit, offset_id = offset_id)\n",
    "\n",
    "                for message in messages:\n",
    "                    \n",
    "                    if only_with_media:\n",
    "                        if not message.media:\n",
    "                            continue\n",
    "                    \n",
    "                    if last_post_date == None:\n",
    "                        last_post_date = message.date\n",
    "\n",
    "\n",
    "                    if last_post_date != message.date: \n",
    "                        post['upload_date'] = last_post_date.strftime('%Y-%m-%d %H:%M:%S') if last_post_date else None\n",
    "\n",
    "                        last_post_date = message.date\n",
    "\n",
    "                        posts_list.append(post)\n",
    "                        post = {}\n",
    "\n",
    "\n",
    "                    if len(message.message) > 0:\n",
    "                        post['text'] = post.get('text', '') + message.message \n",
    "                        \n",
    "                        # post_id in messages set will be id of message with text and photo \n",
    "                        post['post_id'] = message.id\n",
    "\n",
    "\n",
    "                    if message.media and download_media:\n",
    "\n",
    "                        photo_id = message.media.photo.id\n",
    "                        filename = f'image_{photo_id}.jpg'\n",
    "                        path = f\"./media/{filename}\"\n",
    "\n",
    "                        # some of this i should drop, but later \n",
    "                        post['photos_id_list'] = post.get('photos_id_list', []) + [photo_id]\n",
    "                        post['photos_names_list'] = post.get('photos_names_list', []) + [filename]\n",
    "\n",
    "                        #if file exist check \n",
    "                        if not os.path.isfile(path) and download_media:\n",
    "                            await client.download_media(message, file=path)\n",
    "\n",
    "                    post['id_list'] = post.get('id_list', []) + [message.id]\n",
    "                    post['edit_date'] = message.edit_date.strftime('%Y-%m-%d %H:%M:%S') if message.edit_date else None\n",
    "\n",
    "\n",
    "                offset_id = messages[len(messages) - 1].id\n",
    "\n",
    "                if len(posts_list) >= num_posts:\n",
    "                    break\n",
    "\n",
    "\n",
    "        except Exception as e:\n",
    "            print(f\"Error: {e}\")\n",
    "\n",
    "        await client.disconnect()\n",
    "        \n",
    "        return posts_list\n",
    "\n",
    "    if __name__ == \"__main__\":\n",
    "        client.loop.run_until_complete(main(num_posts, download_media, offset_id, posts_list))\n",
    "        \n",
    "    return posts_list"
   ]
  },
  {
   "cell_type": "code",
   "execution_count": 404,
   "id": "086c2c80",
   "metadata": {},
   "outputs": [
    {
     "data": {
      "text/plain": [
       "[{'id_list': [697, 696, 695],\n",
       "  'edit_date': '2023-07-23 19:50:27',\n",
       "  'text': 'чпок\\n\\nHow productive have you been?:6.999/10\\nHow interesting was the day?: 6/10\\nHow stressful was the day?: 2/10',\n",
       "  'post_id': 695,\n",
       "  'upload_date': '2023-07-23 16:22:13'},\n",
       " {'text': 'safsdf\\nsdfs',\n",
       "  'post_id': 692,\n",
       "  'id_list': [692, 691, 690],\n",
       "  'edit_date': '2023-07-22 13:17:13',\n",
       "  'upload_date': '2023-07-22 11:07:05'},\n",
       " {'id_list': [677, 676, 675],\n",
       "  'edit_date': '2023-07-22 09:33:17',\n",
       "  'text': '19.07.23\\n\\nTinkoff final presentation\\n\\nLittle walk in park \\n\\nPizza with Anna \\n\\nGym\\n\\nMovie time: black mirror',\n",
       "  'post_id': 675,\n",
       "  'upload_date': '2023-07-20 09:51:07'},\n",
       " {'id_list': [674, 673, 672, 671],\n",
       "  'edit_date': '2023-07-23 12:10:52',\n",
       "  'text': '18.07.23\\n\\n* Tinkoff work: make presentation + make a report \\n\\n* Gym\\n\\n* My project\\n\\n* Tinkoff meeting',\n",
       "  'post_id': 671,\n",
       "  'upload_date': '2023-07-20 09:44:49'},\n",
       " {'id_list': [666, 665, 664, 663],\n",
       "  'edit_date': None,\n",
       "  'text': '17.07.23\\nТык',\n",
       "  'post_id': 663,\n",
       "  'upload_date': '2023-07-20 09:42:14'},\n",
       " {'id_list': [662, 661, 660, 659],\n",
       "  'edit_date': None,\n",
       "  'text': '16.07.23\\n\\nТык',\n",
       "  'post_id': 659,\n",
       "  'upload_date': '2023-07-20 09:40:42'},\n",
       " {'id_list': [658, 657, 656],\n",
       "  'edit_date': '2023-07-20 09:39:12',\n",
       "  'text': '15.07.23\\n\\n* Gym \\n\\n* Send avito order \\n\\n* Check tickets and write second letter\\n\\n* Sell scooter\\n\\n* Presentation preperation\\n\\n* Interesting Lectures \\n\\n* Test for personality\\n\\n* Print some pictures for',\n",
       "  'post_id': 656,\n",
       "  'upload_date': '2023-07-20 09:38:50'},\n",
       " {'id_list': [653, 652, 651, 650],\n",
       "  'edit_date': '2023-07-15 10:53:18',\n",
       "  'text': '14.07.23\\n\\nTinkoff pre-presentation\\n\\nMy project: read some articles and search models\\n\\nLazy day: Phone gaming \\n\\nScooter repairing\\n\\nSelling scooter on avito\\n\\nLate sleep\\n\\nHow productive have you been?: 5/10\\nHow interesting was the day?: 6/10\\nHow stressful was the day?: 0/10',\n",
       "  'post_id': 650,\n",
       "  'upload_date': '2023-07-15 10:41:36'},\n",
       " {'id_list': [649, 648, 647],\n",
       "  'edit_date': '2023-07-15 10:52:17',\n",
       "  'text': '13.07.23\\n\\nGym\\n\\nCycling in rainy day\\n\\nEnglish speaking lesson\\n\\nMake presentation for Tinkoff\\n\\nLate sleep\\n\\nAvito selling back corrector\\n\\nHow productive have you been?: 5.5/10\\nHow interesting was the day?: 6/10\\nHow stressful was the day?: 0/10',\n",
       "  'post_id': 647,\n",
       "  'upload_date': '2023-07-15 10:37:07'},\n",
       " {'text': '12.07.23\\n\\nHome cleaning\\n\\nMentor meeting\\n\\nMy project\\n\\nEnglish: series \\n\\nHow productive have you been?: 5.5/10\\nHow interesting was the day?: 6/10\\nHow stressful was the day?: 0/10',\n",
       "  'post_id': 646,\n",
       "  'id_list': [646, 645, 644],\n",
       "  'edit_date': None,\n",
       "  'upload_date': '2023-07-15 10:34:50'},\n",
       " {'id_list': [643, 642, 641],\n",
       "  'edit_date': '2023-07-15 10:43:16',\n",
       "  'text': '11.07.23 \\n\\nGym \\n\\nCleaning\\n\\nMy project  \\n\\nEnglish practice\\n\\nHow productive have you been?: 5/10\\nHow interesting was the day?: 6/10\\nHow stressful was the day?: 0/10',\n",
       "  'post_id': 641,\n",
       "  'upload_date': '2023-07-15 10:33:11'},\n",
       " {'id_list': [635, 633, 632],\n",
       "  'edit_date': '2023-07-12 08:38:52',\n",
       "  'text': '10.07.23\\nMeeting tinkoff\\n\\nWork \\n\\nDiscord with Anna  \\nDiscord with mother \\n\\nCooking\\n\\nHow productive have you been?: 6/10\\nHow interesting was the day?: 6/10\\nHow stressful was the day?: 2/10',\n",
       "  'post_id': 632,\n",
       "  'upload_date': '2023-07-11 15:09:19'},\n",
       " {'id_list': [631], 'edit_date': None, 'upload_date': '2023-07-11 15:06:02'},\n",
       " {'id_list': [630, 629, 628],\n",
       "  'edit_date': '2023-07-12 08:31:48',\n",
       "  'text': '09.07.23\\nAwesome day 2\\n\\n\\nHow productive have you been?: 0/10\\nHow interesting was the day?: 9/10\\nHow stressful was the day?: 0/10',\n",
       "  'post_id': 628,\n",
       "  'upload_date': '2023-07-11 15:06:01'},\n",
       " {'id_list': [627, 626, 625, 624],\n",
       "  'edit_date': '2023-07-12 08:32:19',\n",
       "  'text': '08.07.23\\nAwesome day!!\\n\\n\\nHow productive have you been?: 0/10\\nHow interesting was the day?: 9.5/10\\nHow stressful was the day?: 0/10',\n",
       "  'post_id': 624,\n",
       "  'upload_date': '2023-07-11 15:05:17'},\n",
       " {'id_list': [623, 622, 621, 620],\n",
       "  'edit_date': '2023-07-12 08:37:38',\n",
       "  'text': '07.07.23\\n\\nPreparation for trip! \\n\\nEvening cycling to grocery\\n\\nMake presentation for tinkoff\\n\\nHow productive have you been?: 2/10\\nHow interesting was the day?: 7/10\\nHow stressful was the day?: 0/10',\n",
       "  'post_id': 620,\n",
       "  'upload_date': '2023-07-11 15:01:47'},\n",
       " {'id_list': [619, 618, 617, 616],\n",
       "  'edit_date': '2023-07-12 08:32:41',\n",
       "  'text': '06.07.23 \\n\\nTinkoff work: make presentation\\n\\nRandom coffee: awesome hiking\\n\\nHow productive have you been?: 0/10\\nHow interesting was the day?: 9/10\\nHow stressful was the day?: 0/10',\n",
       "  'post_id': 616,\n",
       "  'upload_date': '2023-07-11 14:59:21'},\n",
       " {'id_list': [615, 614, 613, 612],\n",
       "  'edit_date': '2023-07-12 08:37:57',\n",
       "  'text': '05.07.23 \\n\\nAwesome english speaking practice, where we discuss ai technologies and their impact on our life \\n\\nEnglish speaking with chat bot\\n\\nAwesome Gym traning in new gym \\n\\nLate sleep\\n\\nHow productive have you been?: 5/10\\nHow interesting was the day?: 7.5/10\\nHow stressful was the day?: 0/10',\n",
       "  'post_id': 612,\n",
       "  'upload_date': '2023-07-11 14:06:26'},\n",
       " {'id_list': [607, 606, 605, 604],\n",
       "  'edit_date': '2023-07-12 08:37:03',\n",
       "  'text': '04.07.23\\n\\nLaaazy day 2\\n\\nTikTok\\n\\nPlaying mobile games \\n\\nStupid work \\n\\nRandom coffee\\n\\nSell victorinox knife\\n\\nHow productive have you been?: 0/10\\nHow interesting was the day?: 5/10\\nHow stressful was the day?: 0/10',\n",
       "  'post_id': 604,\n",
       "  'upload_date': '2023-07-04 22:10:47'},\n",
       " {'id_list': [603, 602, 601, 600],\n",
       "  'edit_date': '2023-07-12 08:36:44',\n",
       "  'text': '03.07.23\\n \\nChilling\\n\\nCooking \\n\\nLazy day\\n\\nNon-existing ozon pickpoint\\n\\nHow productive have you been?: 0/10\\nHow interesting was the day?: 6/10\\nHow stressful was the day?: 0/10',\n",
       "  'post_id': 600,\n",
       "  'upload_date': '2023-07-04 22:08:50'},\n",
       " {'id_list': [599, 598, 597, 596],\n",
       "  'edit_date': '2023-07-12 08:32:55',\n",
       "  'text': '02.07.23\\n\\nAwesome hiking\\n\\nRandom coffee\\n\\nHow productive have you been?: 0/10\\nHow interesting was the day?: 8.5/10\\nHow stressful was the day?: 0/10',\n",
       "  'post_id': 596,\n",
       "  'upload_date': '2023-07-04 22:06:43'},\n",
       " {'id_list': [595, 594, 592, 591],\n",
       "  'edit_date': '2023-07-12 08:36:21',\n",
       "  'text': '01.07.23\\n\\nPassed lab works \\n\\nSpray myself with a paper \\n\\nAwesome but traumatic box training\\n\\nTo walk a girlfriend to a train\\n\\nHow productive have you been?: 5/10\\nHow interesting was the day?: 7.5/10\\nHow stressful was the day?: 2/10',\n",
       "  'post_id': 591,\n",
       "  'upload_date': '2023-07-04 14:46:06'},\n",
       " {'id_list': [590, 589, 588],\n",
       "  'edit_date': '2023-07-12 08:40:02',\n",
       "  'text': '30.07.23\\n\\nEat, relax 2 and do some work\\n\\nHow productive have you been?: 5/10\\nHow interesting was the day?: 7/10\\nHow stressful was the day?: 0/10',\n",
       "  'post_id': 588,\n",
       "  'upload_date': '2023-07-04 14:44:09'},\n",
       " {'id_list': [587, 586, 585, 584],\n",
       "  'edit_date': '2023-07-12 08:40:43',\n",
       "  'text': '29.06.23\\n\\nHow productive have you been?: 0/10\\nHow interesting was the day?: 8/10\\nHow stressful was the day?: 3/10',\n",
       "  'post_id': 584,\n",
       "  'upload_date': '2023-06-29 22:09:01'},\n",
       " {'id_list': [583, 582, 581, 580],\n",
       "  'edit_date': '2023-07-12 08:41:00',\n",
       "  'text': '28.06.23\\n\\nHow productive have you been?: 0/10\\nHow interesting was the day?: 7.5/10\\nHow stressful was the day?: 3/10',\n",
       "  'post_id': 580,\n",
       "  'upload_date': '2023-06-28 15:49:01'},\n",
       " {'id_list': [579, 578, 577],\n",
       "  'edit_date': '2023-07-12 08:41:37',\n",
       "  'text': '27.06.23\\n\\nOptics exam \\n\\nBar with university mates \\n\\nHow productive have you been?: 2/10\\nHow interesting was the day?: 7.5/10\\nHow stressful was the day?: 0/10',\n",
       "  'post_id': 577,\n",
       "  'upload_date': '2023-06-28 15:47:32'},\n",
       " {'id_list': [576], 'edit_date': None, 'upload_date': '2023-06-28 15:46:48'},\n",
       " {'id_list': [575, 574],\n",
       "  'edit_date': None,\n",
       "  'text': '26.06.23',\n",
       "  'post_id': 574,\n",
       "  'upload_date': '2023-06-28 15:46:47'},\n",
       " {'id_list': [573, 572, 571, 569],\n",
       "  'edit_date': '2023-07-12 08:45:13',\n",
       "  'text': '25.06.23\\n\\nHow productive have you been?: 2/10\\nHow interesting was the day?: 6.5/10\\nHow stressful was the day?: 4/10',\n",
       "  'post_id': 569,\n",
       "  'upload_date': '2023-06-28 15:45:35'},\n",
       " {'id_list': [564, 563, 562, 561],\n",
       "  'edit_date': None,\n",
       "  'text': '24.06.23',\n",
       "  'post_id': 561,\n",
       "  'upload_date': '2023-06-28 15:43:13'},\n",
       " {'text': '23.06.23',\n",
       "  'post_id': 560,\n",
       "  'id_list': [560, 559, 558],\n",
       "  'edit_date': None,\n",
       "  'upload_date': '2023-06-28 15:39:11'},\n",
       " {'id_list': [557, 556, 555],\n",
       "  'edit_date': None,\n",
       "  'text': '22.06.23',\n",
       "  'post_id': 555,\n",
       "  'upload_date': '2023-06-28 15:38:05'},\n",
       " {'id_list': [554, 553, 552],\n",
       "  'edit_date': '2023-07-12 08:31:26',\n",
       "  'text': '21.06.23\\n\\n\\nHow productive have you been?: */10\\nHow interesting was the day?: */10\\nHow stressful was the day?: */10',\n",
       "  'post_id': 552,\n",
       "  'upload_date': '2023-06-28 15:36:40'},\n",
       " {'id_list': [551, 550, 549],\n",
       "  'edit_date': '2023-07-12 08:31:14',\n",
       "  'text': '20.06.23\\n\\n* Tinkoff meeting: read article and test assembling methods \\n\\n* Optics: send hm \\n\\n* IAD: send hm\\n\\n* QM: prepare for exam\\n\\n\\nHow productive have you been?: */10\\nHow interesting was the day?: */10\\nHow stressful was the day?: */10',\n",
       "  'post_id': 549,\n",
       "  'upload_date': '2023-06-20 15:08:19'},\n",
       " {'id_list': [548, 547, 546],\n",
       "  'edit_date': '2023-07-12 08:31:09',\n",
       "  'text': '19.06.23\\n\\nHow productive have you been?: */10\\nHow interesting was the day?: */10\\nHow stressful was the day?: */10',\n",
       "  'post_id': 546,\n",
       "  'upload_date': '2023-06-20 15:03:26'},\n",
       " {'id_list': [545, 544, 543],\n",
       "  'edit_date': '2023-06-18 17:13:11',\n",
       "  'text': '18.06.23\\n\\n* Tinkoff meeting \\n\\n* Optics: do hm\\n* Optics: lectures \\n\\n* QM: formulas \\n* QM: send mail  \\n* QM: lecture \\n* QM: prepare notes \\n\\n* Write about math phys control work\\n\\n* Tinkoff generation?\\n\\n* Cartoon!',\n",
       "  'post_id': 543,\n",
       "  'upload_date': '2023-06-18 07:37:43'},\n",
       " {'id_list': [542, 540, 539, 538],\n",
       "  'edit_date': '2023-06-18 07:38:23',\n",
       "  'text': '17.05.23\\n\\n\\nHow productive have you been?: 4/10\\nHow interesting was the day?: 7.5/10\\nHow stressful was the day?: 2/10',\n",
       "  'post_id': 538,\n",
       "  'upload_date': '2023-06-17 20:19:47'},\n",
       " {'id_list': [537, 536, 535, 534],\n",
       "  'edit_date': '2023-06-18 07:38:53',\n",
       "  'text': '16.05.23\\n\\nHow productive have you been?: 5.6/10\\nHow interesting was the day?: 6/10\\nHow stressful was the day?: 3/10',\n",
       "  'post_id': 534,\n",
       "  'upload_date': '2023-06-17 20:17:09'},\n",
       " {'id_list': [533, 532],\n",
       "  'edit_date': None,\n",
       "  'upload_date': '2023-06-16 09:14:34'},\n",
       " {'id_list': [531, 530],\n",
       "  'edit_date': '2023-06-16 10:17:41',\n",
       "  'text': '15.06.23\\n\\n\\nHow productive have you been?: 5/10\\nHow interesting was the day?: 7.5/10\\nHow stressful was the day?: 4/10',\n",
       "  'post_id': 530,\n",
       "  'upload_date': '2023-06-16 09:14:33'},\n",
       " {'id_list': [529, 528, 527, 526],\n",
       "  'edit_date': '2023-06-16 10:18:02',\n",
       "  'text': '14.06.23\\n\\nHow productive have you been?: 2/10\\nHow interesting was the day?: 3/10\\nHow stressful was the day?: 6/10',\n",
       "  'post_id': 526,\n",
       "  'upload_date': '2023-06-15 10:14:49'},\n",
       " {'id_list': [523, 522, 521, 520],\n",
       "  'edit_date': '2023-06-16 10:18:38',\n",
       "  'text': '13.06.23\\n\\nHow productive have you been?: 3/10\\nHow interesting was the day?: 6/10\\nHow stressful was the day?: 5/10',\n",
       "  'post_id': 520,\n",
       "  'upload_date': '2023-06-13 20:42:49'},\n",
       " {'id_list': [519],\n",
       "  'edit_date': '2023-06-13 20:43:59',\n",
       "  'upload_date': '2023-06-12 10:11:00'},\n",
       " {'id_list': [518, 517],\n",
       "  'edit_date': '2023-06-16 10:17:11',\n",
       "  'text': '12.06.23\\n\\n🌋😵 Burnout \\n\\n\\n\\n* Make list with things to-do when you are really tired\\n\\n* Optics: hm\\n* Quantum mechanics: hm\\n* Tinkoff generation: project\\n\\n* Tinkoff work\\n\\nHow productive have you been?: 2/10\\nHow interesting was the day?: 4/10\\nHow stressful was the day?: 6/10',\n",
       "  'post_id': 517,\n",
       "  'upload_date': '2023-06-12 10:10:59'},\n",
       " {'id_list': [516, 515, 514],\n",
       "  'edit_date': '2023-06-12 10:10:15',\n",
       "  'text': '11.06.23\\n\\n📝Optics: finish 1 lab \\n\\n💼👨🏻\\u200d💻Tinkoff work: stack selection methods\\n\\n📦 QM: lecture\\n📦 NLP in practice: code baseline \\n\\nHow productive have you been?: 4.5/10\\nHow interesting was the day?: 4/10\\nHow stressful was the day?: 3/10',\n",
       "  'post_id': 514,\n",
       "  'upload_date': '2023-06-11 09:33:45'},\n",
       " {'id_list': [512, 511, 510],\n",
       "  'edit_date': '2023-06-12 07:33:59',\n",
       "  'text': '10.06.23\\n\\n📝 Optics: test\\n🎒📖 Optics: lectures\\n\\n🙋🏻\\u200d♂️🗣 Meeting with mentor \\n\\n💼👨🏻\\u200d💻 Tinkoff work\\n\\n📦 NLP in practice\\n\\nHow productive have you been?: 5/10\\nHow interesting was the day?: 6/10\\nHow stressful was the day?: 2/10',\n",
       "  'post_id': 510,\n",
       "  'upload_date': '2023-06-09 21:31:28'},\n",
       " {'id_list': [508, 507, 506],\n",
       "  'edit_date': '2023-06-11 09:37:47',\n",
       "  'text': '09.06.23\\n\\n💼💬 Tinkoff meeting\\n\\n🎒📖 Optics lectures \\n\\n📝🙋🏼  Write mentor \\n\\n🧘🏼\\u200d♂️ Meditation \\n \\n👨🏻\\u200d💻🏆 NlP in practice: watch lectures and get info\\n\\n📦 Optics lab work \\n📦 My project: build site \\n\\nHow productive have you been?: 6.5/10\\nHow interesting was the day?: 6/10\\nHow stressful was the day?: 1/10',\n",
       "  'post_id': 506,\n",
       "  'upload_date': '2023-06-09 09:02:07'},\n",
       " {'id_list': [505, 504, 503],\n",
       "  'edit_date': '2023-06-25 17:52:23',\n",
       "  'text': 'SUMMER PLANS :\\n\\n📚👨🏻\\u200d💻  MATH/ML/PROGRAMMING\\n\\n* Watch math for big data course\\n* Watch differential geometry course\\n\\n* Algorithms course \\n* Finish my projects for resume\\n\\n💼 JOB/PROJECTS:\\n\\n* Finish Tinkoff project \\n* Apply for some jobs\\n\\n🇬🇧 ENGLISH: \\n\\n* Find speaking club and visit in regularly \\n* Listen podcasts \\n* Watch films/videos and take notes during it \\n* 1 week only English language\\n* Practice speaking with chat GPT\\n* Practice english in Discord/Penpals/Slack\\n\\n💪🏻 SPORT:\\n\\n* Go fight club Akhmat \\n* Find gym with spa\\n\\n🏕 JOURNEYS:\\n\\n* Сamping trip with tent\\n* Boat trip\\n* Hike with HSE AMI\\n* Visit Saint-Petersburg\\n* Visit Mozdok??\\n\\n🏖 INTERESTING LEISURE :\\n\\n* Watch lectures about China\\n* Watch movie: No Hard Feelings\\n\\n🪂 NEW EXPERIENCE: \\n\\n1 day without phone/laptops etc\\n\\n💵 MONEY\\n* Watch lectures about investment \\n* Make some investments \\n\\n\\nrecipes from TikTok',\n",
       "  'post_id': 503,\n",
       "  'upload_date': '2023-06-08 07:59:24'},\n",
       " {'id_list': [502, 501, 500],\n",
       "  'edit_date': '2023-06-09 21:37:33',\n",
       "  'text': '08.06.23\\n\\n💼👨🏻\\u200d💻 Tinkoff work\\n\\n📝 OAD Deadline\\n\\n📦 My project: sync data \\n📦 NLP in practice: make baseline \\n📦 Optics lectures \\n\\n\\nHow productive have you been?: 4.5/10\\nHow interesting was the day?: 4/10\\nHow stressful was the day?: 2/10',\n",
       "  'post_id': 500,\n",
       "  'upload_date': '2023-06-08 06:35:15'},\n",
       " {'id_list': [499, 498, 497],\n",
       "  'edit_date': '2023-06-09 21:35:02',\n",
       "  'text': '07.06.23 \\n\\n🇬🇧🎙 English podcast \\n\\n💼👨🏻\\u200d💻 Tinkoff work:\\n1) Filter datasets and train models \\n2) Feature filtering + EDA\\n3) Neural network methods\\n\\n\\n📖 Optics lectures \\n👨🏻\\u200d💻🏆 ODS: nlp in practice lectures\\n\\n📚👨🏻\\u200d💻 My project: write django site template \\n\\n📦 Quantum mechanics lectures \\n📦 Boxing?\\n\\nHow productive have you been?: 7.5/10\\nHow interesting was the day?: 7.5/10\\nHow stressful was the day?: 2/10',\n",
       "  'post_id': 497,\n",
       "  'upload_date': '2023-06-06 20:46:15'},\n",
       " {'id_list': [496, 495, 494],\n",
       "  'edit_date': '2023-06-08 06:35:36',\n",
       "  'text': '06.06.23\\n\\n💼👨🏻\\u200d💻 Tinkoff work\\n\\n👨🏻\\u200d💻📚 My project: watches video about docker \\n\\n👨🏻\\u200d💻🏆 ODS: nlp in practice lectures \\n\\n📦 Optics lecture\\n\\nHow productive have you been?: 4.5/10\\nHow interesting was the day?: 4.5/10\\nHow stressful was the day?: 2.5/10',\n",
       "  'post_id': 494,\n",
       "  'upload_date': '2023-06-06 09:54:11'},\n",
       " {'id_list': [493, 492, 491],\n",
       "  'edit_date': '2023-06-08 06:35:45',\n",
       "  'text': '05.06.23 \\n\\n🗃\\U0001faaa Pick up my passport\\n🚴🏼\\u200d♂️🌧 Сycling trip to passport \\n\\n🛁💪🏻 Relax in bath\\n\\n💼👨🏻\\u200d💻 Tinkoff work\\n\\n📝 Optics test  \\n📝 Quantum mechanics hm\\n📝 IAD DEADLINE\\n\\n📚 NLP lecture\\n\\nHow productive have you been?: 5.5/10\\nHow interesting was the day?: 7.5/10\\nHow stressful was the day?: 3.5/10',\n",
       "  'post_id': 491,\n",
       "  'upload_date': '2023-06-05 17:00:31'},\n",
       " {'id_list': [490, 489, 488],\n",
       "  'edit_date': '2023-06-08 06:35:53',\n",
       "  'text': '04.06.23\\n\\n📚 NLP lecture + conspects\\n\\n📄 Register for summer school!!!\\n\\n💼👨🏻\\u200d💻 Tinkoff work\\n\\n📦 OPTICS DEADLINE \\n📦 IAD DEADLINE\\n📦 Quantum mechanics lecture \\n📦 Optics lecture\\n\\nHow productive have you been?: 4.5/10\\nHow interesting was the day?: 5/10\\nHow stressful was the day?: 3.5/10',\n",
       "  'post_id': 488,\n",
       "  'upload_date': '2023-06-03 17:31:20'},\n",
       " {'id_list': [487, 486, 485],\n",
       "  'edit_date': '2023-06-08 06:36:06',\n",
       "  'text': '03.06.23\\n\\n📝 DS: exam\\n\\n🥼 Optics lab\\n\\n🤼🏆 Judo competition\\n\\n📦 Optics/qm lecture\\n📦 NLP lecture+ conspects\\n\\nHow productive have you been?: 5/10\\nHow interesting was the day?: 8/10\\nHow stressful was the day?: 4/10',\n",
       "  'post_id': 485,\n",
       "  'upload_date': '2023-06-03 06:36:22'},\n",
       " {'id_list': [481, 480, 479],\n",
       "  'edit_date': '2023-06-08 06:36:22',\n",
       "  'text': '02.06.23\\n\\n💼👨🏻\\u200d💻 Tinkoff work: variables analysis \\n💼💬 Tinkoff meeting \\n\\n👥💬 ODS: Alfa Bank meetup\\n\\nHow productive have you been?: 4/10\\nHow interesting was the day?: 8/10\\nHow stressful was the day?: 1/10',\n",
       "  'post_id': 479,\n",
       "  'upload_date': '2023-06-02 07:49:59'},\n",
       " {'id_list': [478, 477, 476],\n",
       "  'edit_date': '2023-06-02 07:48:45',\n",
       "  'text': '01.06.23 \\n\\n💼👨🏻\\u200d💻 Tinkoff work: test algorytms woth different parametrs\\n\\n📚 NLP: lecture\\n\\n👮🏼📄 Docs for international passport \\n\\n📦 IAD: HM\\n📦 Optics: lectures',\n",
       "  'post_id': 476,\n",
       "  'upload_date': '2023-06-01 09:26:04'},\n",
       " {'id_list': [473, 472, 471],\n",
       "  'edit_date': '2023-06-02 07:49:13',\n",
       "  'text': '31.05.23\\n\\n* IAD: HM\\n\\n🧾 Optics: end hm \\n📦 Optics: lectures \\n\\nTinkoff work: \\n💼👨🏻\\u200d💻 1) find hyperparametrs for stepwise \\n2) write program to find best hyperparametrs fastly \\n3) add ideas from boruta to stepwise\\n\\n🥊 Box training\\n\\n💼💬 Tinkoff meeting',\n",
       "  'post_id': 471,\n",
       "  'upload_date': '2023-05-30 19:24:36'},\n",
       " {'id_list': [467, 466, 465],\n",
       "  'edit_date': '2023-06-02 07:44:32',\n",
       "  'text': '30.05.23\\n\\n📊 Plan my university study \\n🧾 Optics write first words\\n\\n📚 Optics lectures \\n\\n* Tinkoff work  \\n\\n👤 Write mentor about project',\n",
       "  'post_id': 465,\n",
       "  'upload_date': '2023-05-30 12:33:00'},\n",
       " {'id_list': [464], 'edit_date': None, 'upload_date': '2023-05-30 12:30:15'},\n",
       " {'id_list': [463, 462],\n",
       "  'edit_date': None,\n",
       "  'text': '29.05.23',\n",
       "  'post_id': 462,\n",
       "  'upload_date': '2023-05-30 12:30:14'},\n",
       " {'id_list': [461, 460, 459],\n",
       "  'edit_date': None,\n",
       "  'text': '28.05.23',\n",
       "  'post_id': 459,\n",
       "  'upload_date': '2023-05-30 12:24:36'},\n",
       " {'id_list': [458, 457, 456],\n",
       "  'edit_date': None,\n",
       "  'text': '27.05.23',\n",
       "  'post_id': 456,\n",
       "  'upload_date': '2023-05-30 12:23:41'},\n",
       " {'id_list': [455, 454],\n",
       "  'edit_date': None,\n",
       "  'text': '26.05.23',\n",
       "  'post_id': 454,\n",
       "  'upload_date': '2023-05-30 12:22:41'},\n",
       " {'id_list': [453, 452, 451],\n",
       "  'edit_date': None,\n",
       "  'text': '25.05.23',\n",
       "  'post_id': 451,\n",
       "  'upload_date': '2023-05-30 12:21:41'},\n",
       " {'id_list': [448, 447, 446],\n",
       "  'edit_date': '2023-06-05 17:08:31',\n",
       "  'text': '24.05.23\\n\\n* IAD: control work \\n\\n* My project for resume \\n* My project: life analyze\\n\\n* English speaking club \\n\\n* Optics: think about future....\\n\\nHow productive have you been?: */10\\nHow interesting was the day?: */10\\nHow stressful was the day?: */10\\nPAI: *',\n",
       "  'post_id': 446,\n",
       "  'upload_date': '2023-05-25 15:33:22'},\n",
       " {'id_list': [443, 442],\n",
       "  'edit_date': '2023-05-24 04:45:29',\n",
       "  'text': '23.05.23\\n\\n💼👨🏻\\u200d💻 Tinkoff work \\n\\n* Done my projects\\n* Send job application\\n\\n* Start my day analyze project\\n\\nHow productive have you been?: 5.8/10\\nHow interesting was the day?: 5/10\\nHow stressful was the day?: 3/10\\nPAI: 115 (+1)',\n",
       "  'post_id': 442,\n",
       "  'upload_date': '2023-05-23 06:42:10'},\n",
       " {'id_list': [441, 440],\n",
       "  'edit_date': '2023-05-24 04:45:36',\n",
       "  'text': '22.05.23\\n\\n* End resume project \\n💼👨🏻\\u200d💻 Tinkoff: work\\n\\nHow productive have you been?: 5.5/10\\nHow interesting was the day?: 5/10\\nHow stressful was the day?: 3/10\\nPAI: 147 (+1)',\n",
       "  'post_id': 440,\n",
       "  'upload_date': '2023-05-23 06:41:13'},\n",
       " {'id_list': [439, 438],\n",
       "  'edit_date': '2023-05-24 04:45:45',\n",
       "  'text': '21.05.23\\n\\n* End resume project \\n💼👨🏻\\u200d💻 Tinkoff: work\\nBoxing\\n\\nHow productive have you been?: 4.5/10\\nHow interesting was the day?: 4.5/10\\nHow stressful was the day?: 4/10\\nPAI: 147 (+36)',\n",
       "  'post_id': 438,\n",
       "  'upload_date': '2023-05-21 12:52:58'},\n",
       " {'id_list': [437, 436, 435],\n",
       "  'edit_date': '2023-05-23 06:40:42',\n",
       "  'text': '20.05.23\\n\\nHow productive have you been?: 3/10\\nHow interesting was the day?: 7.5/10\\nHow stressful was the day?: 2/10\\nPAI: 117 (+3)',\n",
       "  'post_id': 435,\n",
       "  'upload_date': '2023-05-21 12:52:28'},\n",
       " {'id_list': [428, 427],\n",
       "  'edit_date': None,\n",
       "  'text': '19.05.23',\n",
       "  'post_id': 427,\n",
       "  'upload_date': '2023-05-21 12:49:00'},\n",
       " {'id_list': [426, 425],\n",
       "  'edit_date': None,\n",
       "  'text': '18.05.24',\n",
       "  'post_id': 425,\n",
       "  'upload_date': '2023-05-21 12:48:38'},\n",
       " {'id_list': [423, 422],\n",
       "  'edit_date': '2023-05-21 12:46:19',\n",
       "  'text': '16.05.23\\n\\n🥊 Sport: little workout + box traning \\n\\nTinkoff work\\nTinkoff generation: hm\\n\\nNLP: hm\\n\\nMeeting with mentor \\nODS meeting\\n\\nWrite people about specialization \\nWrite mother \\n\\nRegister on data fest\\n\\nHow productive have you been?: */10\\nHow interesting was the day?: */10\\nHow stressful was the day?: */10\\nPAI: 177 (+11)',\n",
       "  'post_id': 422,\n",
       "  'upload_date': '2023-05-16 20:49:12'},\n",
       " {'id_list': [421, 420],\n",
       "  'edit_date': '2023-05-16 20:48:15',\n",
       "  'text': '16.05.23 TUESDAY\\n\\n🥊 Boxing \\n\\n🗓Planning\\n\\n💼👨🏻\\u200d💻Tinkoff work\\n💼💬 Tinkoff lab meeting \\n\\n📝👨🏻\\u200d💻 IAD \\n\\n📦 ODS meeting\\n📦 NLP ?\\n📦 Tinkoww generation: hm?\\n\\nHow productive have you been?: 6/10\\nHow interesting was the day?: 6/10\\nHow stressful was the day?: 2/10\\nPAI: 169(+22)',\n",
       "  'post_id': 420,\n",
       "  'upload_date': '2023-05-16 10:30:39'},\n",
       " {'id_list': [419, 418],\n",
       "  'edit_date': '2023-05-16 10:56:23',\n",
       "  'text': '15.05.23 MONDAY\\n\\n📝👨🏻\\u200d🏫 Teaching specialization exam\\n\\n💻🙋🏼🙋🏻\\u200d♂️🙋\\u200d♀️ Yandex meeting: I won prizes!\\n\\n📝👨🏻\\u200d💻 IAD hm\\n\\n🚴🏼🎧 Cycling and podcast\\n\\nHow productive have you been?: 5/10\\nHow interesting was the day?: 7.5/10\\nHow stressful was the day?: 2/10\\nPAI: 140',\n",
       "  'post_id': 418,\n",
       "  'upload_date': '2023-05-16 10:27:00'},\n",
       " {'id_list': [415, 414],\n",
       "  'edit_date': '2023-05-16 10:40:00',\n",
       "  'text': '14.05.23 SUNDAY\\n\\n💼👨🏻\\u200d💻Tinkoff work\\n📝👨🏻\\u200d💻IAD (paaarly)\\n\\n🍺🤕Drinking cidre\\n\\nHow productive have you been?: 4.5/10\\nHow interesting was the day?: 4.5/10\\nHow stressful was the day?: 4/10',\n",
       "  'post_id': 414,\n",
       "  'upload_date': '2023-05-16 10:24:54'},\n",
       " {'id_list': [412, 411],\n",
       "  'edit_date': '2023-05-16 10:38:36',\n",
       "  'text': '13.05.23 SATURDAY\\n\\n📚 NLP hm (paaaartly)\\n📚 DL seminar\\n\\n🤮 OAD: hm\\n🤕 IAD: hm\\n\\n📦 Tinkoff work\\n📦 QM: hm\\n📦 Ask people about specialization\\n\\nHow productive have you been?: 4.5/10\\nHow interesting was the day?: 5/10\\nHow stressful was the day?: 4/10',\n",
       "  'post_id': 411,\n",
       "  'upload_date': '2023-05-12 21:23:27'},\n",
       " {'id_list': [410, 409, 408],\n",
       "  'edit_date': '2023-05-16 10:37:56',\n",
       "  'text': '12.05.25 FRIDAY\\n\\n💼👨🏻\\u200d💻 Tinkoff work\\n💼💬 Tinkoff lab meeting 🤕\\n\\n📝🙋🏼Write to mentors \\n\\n📦 NLP\\n📦 hm OAD\\n\\nHow productive have you been?: 5.5/10\\nHow interesting was the day?: 7/10\\nHow stressful was the day?: 6/10',\n",
       "  'post_id': 408,\n",
       "  'upload_date': '2023-05-11 21:40:53'},\n",
       " {'id_list': [407, 406],\n",
       "  'edit_date': '2023-05-12 13:58:11',\n",
       "  'text': '11.05.23 THURSDAY\\n\\n💼👨🏻\\u200d💻 Tinkoff work \\n\\n🎞 Make holidays recap \\n\\n🔍📑Find mentors and make bio\\n\\n🥊  Box\\n \\n📦 NLP seminar\\n📦 ODS?\\n📦Optics\\n\\nHow productive have you been?: 5/10\\nHow interesting was the day?: 7/10',\n",
       "  'post_id': 406,\n",
       "  'upload_date': '2023-05-10 21:49:47'},\n",
       " {'id_list': [405, 404, 403],\n",
       "  'edit_date': '2023-05-11 21:36:34',\n",
       "  'text': '10.05.23 WEDNESDAY\\n\\n💼🗒 Apply for job\\n\\n📚 NLP lecture/seminar/hm/project\\n📚 NLP seminar\\n\\n🇬🇧🎙English podcasts\\n🇬🇧🗣English lesson \\n\\n🥊 Boxing \\n\\n📦 Optics: lecture \\n📦 History: lecture\\n📦 Tinkoff lab: work\\n\\nHow productive have you been?: 6/10\\nHow interesting was the day?: 7.3/10',\n",
       "  'post_id': 403,\n",
       "  'upload_date': '2023-05-10 20:06:30'},\n",
       " {'id_list': [400, 399],\n",
       "  'edit_date': '2023-05-10 07:46:47',\n",
       "  'text': '09.05.23\\n\\n📚 NLP: seminar \\n\\n💼👨🏻\\u200d💻 Tinkoff work\\n\\n\\U0001fa9b\\U0001fa9b Repair everything \\n\\n📦 My project\\n📦 NLP: lecture \\n📦 Optics\\n\\nHow productive have you been?: 5.5/10\\nHow interesting was the day?: 6/10',\n",
       "  'post_id': 399,\n",
       "  'upload_date': '2023-05-08 21:09:20'},\n",
       " {'id_list': [398, 397],\n",
       "  'edit_date': '2023-05-09 21:20:34',\n",
       "  'text': '08.05.23 MONDAY\\n\\n📚 NLP: lecture\\n📚 NLP: seminar (partly)\\n\\n🚲\\U0001fa9bBike repair\\n🛒 Go ozon\\n\\n💼👨🏻\\u200d💻Tinkoff lab: work (partly)\\n\\n💪🏻 Sport: pull ups\\n\\n📦 Algoritms \\n\\nHow productive have you been?: 4.5/10\\nHow interesting was the day?: 5.3/10',\n",
       "  'post_id': 397,\n",
       "  'upload_date': '2023-05-07 21:27:24'},\n",
       " {'id_list': [396, 395],\n",
       "  'edit_date': '2023-05-07 21:33:09',\n",
       "  'text': '07.05.23 SUNDAY\\n\\n🥊 Boxing \\n\\n📚 NLP: seminar\\n📚 NLP: lecture\\n\\n💼👨🏻\\u200d💻Tinkoff lab work \\n\\n📝 Some math tasks \\n\\n📦 History lectures\\n\\nHow productive have you been?: 7.5/10\\nHow interesting was the day?: 7/10',\n",
       "  'post_id': 395,\n",
       "  'upload_date': '2023-05-06 21:27:08'},\n",
       " {'id_list': [393, 392],\n",
       "  'edit_date': '2023-05-08 05:29:57',\n",
       "  'text': '06.05.23 SATURDAY\\n\\n📚 NLP: lecture (partly)\\n📚 NLP: seminar (partly)\\n\\n📺 Cinema\\n\\n📦 Swimming\\n📦 ML 2: sharp values lecture\\n\\nHow productive have you been?: 4/10\\nHow interesting was the day?: 5/10',\n",
       "  'post_id': 392,\n",
       "  'upload_date': '2023-05-05 14:43:23'},\n",
       " {'text': '[MONTH PLANS]\\n\\n*Tinkoff generation: do hm\\n\\n* Think about work: find some vacancies \\n* Start to solve algorithms tasks \\n\\n* Find boxing club \\n\\n* Hiking with hse club\\n\\nMonth rate: \\n\\n[MAY HOLIDAYS PLANS]\\n\\nRegister on hackaton!\\n\\n* NLP course: watch 3 lecture + do hm + understand transformers\\n* ML 2: lectures + hm \\n* Stanford ml lectures \\n* Andrey korpatiy tutorial on youtube \\n\\n* English speaking club\\n\\n* University study: plans preparation for exams \\n\\n🏕🍖 Picnic\\n🥊 Sport: box training  \\n📺 Yandex dacha: go for some activities \\n\\nHolidays rate:',\n",
       "  'post_id': 389,\n",
       "  'id_list': [389],\n",
       "  'edit_date': '2023-05-11 06:56:15',\n",
       "  'upload_date': '2023-05-05 12:48:06'},\n",
       " {'id_list': [388, 387],\n",
       "  'edit_date': '2023-05-06 21:29:24',\n",
       "  'text': '05.05.23 FRIDAY\\n💼👨🏻\\u200d💻 Tinkoff lab: working\\n💼💬 Tinkoff lab meeting\\n\\n📚 NLP: notes + lecture\\n\\n🗓Planning\\n\\n📦 My pet project: make dashboards for day monitoring  \\n📦 History lecture \\n\\nHow productive have you been?: 6/10\\nHow interesting was the day?: 6/10',\n",
       "  'post_id': 387,\n",
       "  'upload_date': '2023-05-05 08:04:12'},\n",
       " {'id_list': [380, 379, 378, 377],\n",
       "  'edit_date': '2023-05-05 12:55:31',\n",
       "  'text': '04.05.23 \\n\\n🍽🏕🥩Picnic in the country\\n\\n📚NLP: reading notes \\n\\n📺🧑\\u200d🏫 Interesting history lecture\\n\\nDay rate: 7/10',\n",
       "  'post_id': 377,\n",
       "  'upload_date': '2023-05-04 19:59:33'},\n",
       " {'id_list': [372, 370, 369],\n",
       "  'edit_date': '2023-05-04 21:17:26',\n",
       "  'text': '03.05.23\\n\\nTinkoff work\\nDL: lecture (partly)',\n",
       "  'post_id': 369,\n",
       "  'upload_date': '2023-05-04 19:44:38'},\n",
       " {'id_list': [368, 367],\n",
       "  'edit_date': '2023-05-04 21:17:54',\n",
       "  'text': '02.05.23\\n \\nTinkoff lab: work \\nTinkoff lab: meeting \\n\\nInteresting history lecture',\n",
       "  'post_id': 367,\n",
       "  'upload_date': '2023-05-04 19:43:36'},\n",
       " {'id_list': [365, 364, 363],\n",
       "  'edit_date': '2023-05-04 21:15:11',\n",
       "  'text': '01.05.23\\n\\nVisited Moscow zoo\\nCycling\\nDl: lecture partly',\n",
       "  'post_id': 363,\n",
       "  'upload_date': '2023-05-04 19:39:09'},\n",
       " {'id_list': [351, 350],\n",
       "  'edit_date': '2023-04-30 11:21:09',\n",
       "  'text': '30.04.23\\n\\nCycling\\n\\nTinkoff lab work: \\n\\nDL Adrey Korpaty video:\\nML competitional course',\n",
       "  'post_id': 350,\n",
       "  'upload_date': '2023-04-30 10:50:34'},\n",
       " {'id_list': [349],\n",
       "  'edit_date': '2023-04-30 10:57:22',\n",
       "  'upload_date': '2023-04-30 10:48:48'},\n",
       " {'text': '29.04.23',\n",
       "  'post_id': 348,\n",
       "  'id_list': [348],\n",
       "  'edit_date': '2023-04-30 10:59:43',\n",
       "  'upload_date': '2023-04-30 10:48:47'},\n",
       " {'id_list': [347], 'edit_date': None, 'upload_date': '2023-04-30 10:48:34'},\n",
       " {'text': '28.04.23',\n",
       "  'post_id': 346,\n",
       "  'id_list': [346],\n",
       "  'edit_date': '2023-04-30 10:58:31',\n",
       "  'upload_date': '2023-04-30 10:48:33'},\n",
       " {'id_list': [345],\n",
       "  'edit_date': '2023-04-30 11:02:07',\n",
       "  'upload_date': '2023-04-30 10:48:03'},\n",
       " {'text': '27.04.23',\n",
       "  'post_id': 344,\n",
       "  'id_list': [344],\n",
       "  'edit_date': '2023-04-30 10:58:39',\n",
       "  'upload_date': '2023-04-30 10:48:02'},\n",
       " {'id_list': [343], 'edit_date': None, 'upload_date': '2023-04-26 10:01:33'},\n",
       " {'id_list': [342],\n",
       "  'edit_date': '2023-04-30 11:01:38',\n",
       "  'upload_date': '2023-04-26 09:59:27'},\n",
       " {'text': '26.04.23\\n\\nRandom coffee ODS: meeting \\n\\n* Recsys: send solutions \\n* Tinkoff lab: work\\n* DL: lecture \\n\\n* Podcast \\n* Swimming',\n",
       "  'post_id': 341,\n",
       "  'id_list': [341],\n",
       "  'edit_date': '2023-04-30 10:47:24',\n",
       "  'upload_date': '2023-04-26 09:59:26'},\n",
       " {'id_list': [340, 339],\n",
       "  'edit_date': '2023-04-26 09:58:37',\n",
       "  'text': '25.04.23\\n\\n💼👨🏻\\u200d💻 Tinkoff lab: working\\n💼💬 Tinkoff lab meeting\\n\\nDay rate: 7/10',\n",
       "  'post_id': 339,\n",
       "  'upload_date': '2023-04-26 09:54:54'},\n",
       " {'id_list': [337, 336],\n",
       "  'edit_date': '2023-04-26 09:57:25',\n",
       "  'text': '24.04.23\\n\\n📨 Send documents to mother\\n💼👨🏻\\u200d💻Tinkoff lab: work \\n\\n📝Quantum mechanics: hm\\n\\n📦Rec sys: lectures\\n\\n\\nDay rate: 6.5/10',\n",
       "  'post_id': 336,\n",
       "  'upload_date': '2023-04-24 05:35:25'},\n",
       " {'id_list': [335, 334],\n",
       "  'edit_date': '2023-04-26 09:58:32',\n",
       "  'text': '23.04.23\\n\\n📚 Rec sys: seminar \\n💼👨🏻\\u200d💻 Tinkoff lab: work \\n\\nDay rate: 7/10',\n",
       "  'post_id': 334,\n",
       "  'upload_date': '2023-04-23 10:05:24'},\n",
       " {'id_list': [333], 'edit_date': None, 'upload_date': '2023-04-22 18:49:56'},\n",
       " {'id_list': [332, 331],\n",
       "  'edit_date': '2023-04-23 10:04:53',\n",
       "  'text': '22.04.23\\n\\n📚 Rec sys: seminar \\n📦 Tinkoff lab: work \\n\\n👨🏻\\u200d💻🥋 Data dojo\\n\\nDay rate: 7.5/10',\n",
       "  'post_id': 331,\n",
       "  'upload_date': '2023-04-22 05:39:02'},\n",
       " {'id_list': [330, 329],\n",
       "  'edit_date': '2023-04-23 10:02:57',\n",
       "  'text': '21.04.23\\n\\n📝 Matphys: control work\\n\\n📚 Recsys: lecture \\n\\n📦 Tinkoff work\\n\\nDay rate: 7/10',\n",
       "  'post_id': 329,\n",
       "  'upload_date': '2023-04-21 18:16:17'},\n",
       " {'id_list': [327, 326],\n",
       "  'edit_date': '2023-04-24 05:33:16',\n",
       "  'text': '20.04.23\\n\\n💼👨🏻\\u200d💻 Tinkoff lab: working\\n💼💬 Tinkoff lab meeting\\n\\n📝Mathematical physics: preparation for \\n📝OAD: pass hm \\n\\n📦Rec sys: lectures\\n\\nDay rate: 4.8/10',\n",
       "  'post_id': 326,\n",
       "  'upload_date': '2023-04-20 06:39:12'},\n",
       " {'id_list': [325, 324],\n",
       "  'edit_date': '2023-04-20 07:54:04',\n",
       "  'text': '19.04.23\\n\\nRec sys: lecture \\n\\nMathematical physics: prepare for test\\n\\nIAD + OAD: deadlines \\n\\nTinkoff lab: work\\n\\nDay rate: 6/10',\n",
       "  'post_id': 324,\n",
       "  'upload_date': '2023-04-19 08:06:45'},\n",
       " {'id_list': [323, 322],\n",
       "  'edit_date': '2023-04-20 06:35:16',\n",
       "  'text': '18.04.23\\n\\n💼👨🏻\\u200d💻Tinkoff work\\n💼💬 Tinkoff lab: meeting \\n\\n🧑🏼\\u200d⚕️Psycholigost \\n\\n☕️🍰 Tea with neighbor \\n\\nDay rate: 5.5/10',\n",
       "  'post_id': 322,\n",
       "  'upload_date': '2023-04-19 07:49:14'},\n",
       " {'id_list': [321, 320],\n",
       "  'edit_date': '2023-04-19 08:04:14',\n",
       "  'text': '17.04.23\\n\\n📝 Quantum mechanics: lecture + hm\\n\\n🏥 Hospital check\\n\\n💼👨🏻\\u200d💻Tinkoff work\\n\\n📦 DL: seminar\\n📦 DL: homework  \\nDay rate: 5/10',\n",
       "  'post_id': 320,\n",
       "  'upload_date': '2023-04-17 09:06:42'},\n",
       " {'id_list': [319, 318],\n",
       "  'edit_date': '2023-04-17 09:07:28',\n",
       "  'text': '16.04.23\\n\\n📝 Optics: lab passing \\n\\n📚 DL: hm \\n📚 Tinkoff hm\\n\\n 💼👨🏻\\u200d💻 Tinkoff work \\n\\n\\n📦 Reading: Harry Potter and methods of rationality',\n",
       "  'post_id': 318,\n",
       "  'upload_date': '2023-04-16 08:16:01'},\n",
       " {'id_list': [317, 316],\n",
       "  'edit_date': '2023-04-16 08:22:16',\n",
       "  'text': '15.04.24\\n\\n💪🏻🥊 Sport: martial art\\n\\n📚 DL lecture\\n📚DL: hm\\n\\n👩\\u200d👦💬 Talk with mother \\n\\n\\n📦 Optics: lecture \\n📦 Tinkoff hm\\n📦 Tinkoff work \\n📦 Reading: Harry Potter and methods of rationality\\n\\nDay rate: 6/10',\n",
       "  'post_id': 316,\n",
       "  'upload_date': '2023-04-15 14:06:38'},\n",
       " {'id_list': [315, 314],\n",
       "  'edit_date': '2023-04-15 15:10:47',\n",
       "  'text': '14.04.23\\n\\n\\n\\n📝 IAD + Tinkoff: finish homework \\n\\n📚DL: Lecture\\n\\n📦 Sport: martial art\\n📦DL: hm\\n📦 Optics: prepare laboratory work notes\\n📦 Cartoon\\n\\nDay rate: 5.5/10',\n",
       "  'post_id': 314,\n",
       "  'upload_date': '2023-04-14 09:39:05'},\n",
       " {'id_list': [313, 312],\n",
       "  'edit_date': '2023-04-14 09:42:22',\n",
       "  'text': '13.04.23\\n\\n💼👨🏻\\u200d💻 Tinkoff lab: fix stepwise selection and code backward and forward \\n\\n💼💬 Tinkoff lab: meeting \\n\\n📝IAD + Tinkoff generation: HM\\n\\n\\n🧑🏻\\u200d🏫📖 Mathematical physics: seminar\\n\\n📦 Yandex coderun: solve one task\\n📦 DL: seminar\\n📦 DL: hm\\n\\n\\n\\nDay rate: 6/10',\n",
       "  'post_id': 312,\n",
       "  'upload_date': '2023-04-12 21:11:49'},\n",
       " {'id_list': [311, 310],\n",
       "  'edit_date': '2023-04-14 09:58:43',\n",
       "  'text': '12.03.23\\n\\n💼👨🏻\\u200d💻 Tinkoff lab: coding stepwise selection \\n\\n🧑🏻\\u200d💻Yandex intern week: one task  \\n\\n💪🏻🥊Sport: martial art\\n\\nDay rate: 6/10',\n",
       "  'post_id': 310,\n",
       "  'upload_date': '2023-04-12 21:05:13'},\n",
       " {'id_list': [309, 308],\n",
       "  'edit_date': '2023-04-12 21:07:49',\n",
       "  'text': '11.04.23\\n\\n💼👨🏻\\u200d💻Tinkoff ml lab: write two algorithms\\n\\n📚 DL: cs224n lecture on RNN  \\n DL: IAD lecture\\n DL homework \\n\\nMathematical physics: seminar\\n\\n🇬🇧 English: read article + watched interview\\n\\n💪🏻🏃🏻 Sport: running 5 km\\n\\nDay rate: 6.5/10',\n",
       "  'post_id': 308,\n",
       "  'upload_date': '2023-04-11 07:19:06'},\n",
       " {'id_list': [295],\n",
       "  'edit_date': '2023-04-11 12:12:07',\n",
       "  'upload_date': '2023-04-09 21:22:00'},\n",
       " {'text': '10.03.23\\n\\n📚 DL: seminar (partly)\\n📚 DL: IAD lecture batchnorm\\n\\n🧑🏻\\u200d💻Yandex intern week: two tasks \\n💼💬 Tinkoff lab: meeting + work + NDA making \\n\\n🧹 🏠 Cleaning the room \\n\\nDay rate: 6/10',\n",
       "  'post_id': 294,\n",
       "  'id_list': [294],\n",
       "  'edit_date': '2023-04-11 12:12:40',\n",
       "  'upload_date': '2023-04-09 21:21:59'},\n",
       " {'id_list': [293, 292],\n",
       "  'edit_date': '2023-04-09 19:34:05',\n",
       "  'text': '09.04.23\\n\\n📚 DL: RNN lecture \\n\\n🇬🇧English: read short article from ODS\\n\\nYandex intern meetup: do tasks \\n\\nUpgrade my pet project, using  neural networks/logistic regression\\n\\nDifferential geometry: lecture\\n\\nWork: code 1 algorytm\\n\\nYandex coderun: 1 task\\n\\nOptics: lecture\\n\\n\\nEnglish: ask about study',\n",
       "  'post_id': 292,\n",
       "  'upload_date': '2023-04-09 09:14:11'},\n",
       " {'id_list': [291, 290],\n",
       "  'edit_date': '2023-04-09 09:13:02',\n",
       "  'text': '08.04.23\\n\\n🤕 Physics Optics Lab (we have done work only at 3 p.m. it was really stupid and boring things)\\n\\n📚DL: watched some lectures \\n\\nDay rate: 5/10',\n",
       "  'post_id': 290,\n",
       "  'upload_date': '2023-04-09 09:09:09'},\n",
       " {'id_list': [289], 'edit_date': None, 'upload_date': '2023-04-09 09:07:27'},\n",
       " {'text': '07.04.23\\n\\n👨🏻\\u200d💻💬 Metting with Anastasia\\n💼 Tinkoff lab: do some work \\n\\n📚 DL: lecture\\n\\nDay rate: 6/10',\n",
       "  'post_id': 288,\n",
       "  'id_list': [288],\n",
       "  'edit_date': '2023-04-09 09:11:11',\n",
       "  'upload_date': '2023-04-09 09:07:26'},\n",
       " {'id_list': [287, 286],\n",
       "  'edit_date': '2023-04-09 08:53:21',\n",
       "  'text': '06.04.23\\n\\n👨🏻\\u200d💻💬 Tinkoff lab team meeting \\n\\n📚 Dl: homework\\n📚 DL: lecture\\n\\n💪🏻🏃🏻\\u200d♂️Sport: running\\n\\nDay rate: 6.5/10',\n",
       "  'post_id': 286,\n",
       "  'upload_date': '2023-04-06 10:40:17'},\n",
       " {'id_list': [285, 284],\n",
       "  'edit_date': '2023-04-06 10:42:12',\n",
       "  'text': '05.04.23\\n\\n👨\\u200d👨\\u200d👦\\u200d👦 🤦🏼 Did not find team for HSE hackaton\\n💁🏼\\u200d♂️💬 ODS random coffee with Roman\\n📚 DL: semianr\\n\\nDay rate: 5.5/10',\n",
       "  'post_id': 284,\n",
       "  'upload_date': '2023-04-04 20:51:38'}]"
      ]
     },
     "execution_count": 404,
     "metadata": {},
     "output_type": "execute_result"
    }
   ],
   "source": [
    "a"
   ]
  },
  {
   "cell_type": "code",
   "execution_count": 403,
   "id": "c3a5b276",
   "metadata": {},
   "outputs": [],
   "source": [
    "a = get_posts(num_posts = 80)"
   ]
  },
  {
   "cell_type": "code",
   "execution_count": 316,
   "id": "89d2cb1d",
   "metadata": {},
   "outputs": [
    {
     "data": {
      "text/plain": [
       "'11.05.23 THURSDAY\\n\\n💼👨🏻\\u200d💻 Tinkoff work \\n\\n🎞 Make holidays recap \\n\\n🔍📑Find mentors and make bio\\n\\n🥊  Box\\n \\n📦 NLP seminar\\n📦 ODS?\\n📦Optics\\n\\nHow productive have you been?: 5/10\\nHow interesting was the day?: 7/10'"
      ]
     },
     "execution_count": 316,
     "metadata": {},
     "output_type": "execute_result"
    }
   ],
   "source": [
    "a[-1]['text']"
   ]
  },
  {
   "cell_type": "code",
   "execution_count": 306,
   "id": "22493eed",
   "metadata": {},
   "outputs": [
    {
     "data": {
      "text/plain": [
       "'2023-07-23 16:22:13'"
      ]
     },
     "execution_count": 306,
     "metadata": {},
     "output_type": "execute_result"
    }
   ],
   "source": [
    "a[0]['upload_date'].strftime('%Y-%m-%d %H:%M:%S')"
   ]
  },
  {
   "cell_type": "code",
   "execution_count": 308,
   "id": "b6b25056",
   "metadata": {},
   "outputs": [
    {
     "data": {
      "text/plain": [
       "['чпок',\n",
       " '',\n",
       " 'How productive have you been?:6.999/10',\n",
       " 'How interesting was the day?: 6/10',\n",
       " 'How stressful was the day?: 2/10']"
      ]
     },
     "execution_count": 308,
     "metadata": {},
     "output_type": "execute_result"
    }
   ],
   "source": [
    " a[0]['text'].split('\\n')"
   ]
  },
  {
   "cell_type": "code",
   "execution_count": 292,
   "id": "b67b4ff6",
   "metadata": {},
   "outputs": [
    {
     "data": {
      "text/plain": [
       "'19.07.23'"
      ]
     },
     "execution_count": 292,
     "metadata": {},
     "output_type": "execute_result"
    }
   ],
   "source": [
    "parse_date_from_string(a[2]['text'])"
   ]
  },
  {
   "cell_type": "code",
   "execution_count": 293,
   "id": "dd9df79a",
   "metadata": {},
   "outputs": [
    {
     "data": {
      "text/plain": [
       "'12.07.23\\n\\nHome cleaning\\n\\nMentor meeting\\n\\nMy project\\n\\nEnglish: series \\n\\nHow productive have you been?: 5.5/10\\nHow interesting was the day?: 6/10\\nHow stressful was the day?: 0/10'"
      ]
     },
     "execution_count": 293,
     "metadata": {},
     "output_type": "execute_result"
    }
   ],
   "source": [
    "a[9]['text']"
   ]
  },
  {
   "cell_type": "code",
   "execution_count": 312,
   "id": "fc6244fa",
   "metadata": {},
   "outputs": [
    {
     "name": "stdout",
     "output_type": "stream",
     "text": [
      "2.0\n"
     ]
    }
   ],
   "source": [
    "print(extract_stress_score(a[0]['text']))"
   ]
  },
  {
   "cell_type": "code",
   "execution_count": 310,
   "id": "8cc9d310",
   "metadata": {},
   "outputs": [
    {
     "name": "stdout",
     "output_type": "stream",
     "text": [
      "None\n"
     ]
    }
   ],
   "source": [
    "print(extract_date(a[0]['text']))"
   ]
  },
  {
   "cell_type": "code",
   "execution_count": 338,
   "id": "a5ce0c62",
   "metadata": {},
   "outputs": [
    {
     "data": {
      "text/plain": [
       "'чпок\\n\\nHow productive have you been?:6.999/10\\nHow interesting was the day?: 6/10\\nHow stressful was the day?: 2/10'"
      ]
     },
     "execution_count": 338,
     "metadata": {},
     "output_type": "execute_result"
    }
   ],
   "source": [
    "a[0]['text']"
   ]
  },
  {
   "cell_type": "code",
   "execution_count": 501,
   "id": "c46993cb",
   "metadata": {},
   "outputs": [],
   "source": [
    "def parse_text(dct):\n",
    "    \n",
    "    input_string = dct['text']\n",
    "    print(input_string)\n",
    "    \n",
    "    regex_1 = r'\\d{2}\\.\\d{2}\\.\\d{2}'\n",
    "    match_1 = re.search(regex_1, input_string)\n",
    "    \n",
    "    parsed_date = match_1.group() if match_1 else None\n",
    "    dct['parsed_date'] = parsed_date\n",
    "    \n",
    "    input_string = input_string.replace(match_1.group(), \"\") if parsed_date else input_string\n",
    "    \n",
    "    \n",
    "    regex_list = [r'How productive have you been\\?:\\s*(\\d+\\.?\\d*)/10', r'How interesting was the day\\?:\\s*(\\d+\\.?\\d*)/10', r'How stressful was the day\\?:\\s*(\\d+\\.?\\d*)/10']\n",
    "    names_list = ['productivity_score', 'interest_score', 'stress_score']\n",
    "    \n",
    "    \n",
    "    for regex, name in zip(regex_list, names_list):\n",
    "        match = re.search(regex, input_string)\n",
    "        parsed_score = float(match.group(1)) if match else None\n",
    "        \n",
    "        dct[name] = parsed_score\n",
    "\n",
    "        input_string = input_string.replace(match.group(), \"\") if parsed_score else input_string\n",
    "        \n",
    "    \n",
    "    dct['parsed_text'] = input_string.split('\\n')\n",
    "    \n",
    "    return dct\n",
    "    \n",
    "    \n",
    "    "
   ]
  },
  {
   "cell_type": "code",
   "execution_count": 502,
   "id": "d5a85daf",
   "metadata": {},
   "outputs": [
    {
     "data": {
      "text/plain": [
       "[{'id_list': [697, 696, 695],\n",
       "  'edit_date': '2023-07-23 19:50:27',\n",
       "  'text': 'чпок\\n\\nHow productive have you been?:6.999/10\\nHow interesting was the day?: 6/10\\nHow stressful was the day?: 2/10',\n",
       "  'post_id': 695,\n",
       "  'upload_date': '2023-07-23 16:22:13',\n",
       "  'parsed_date': None,\n",
       "  'productivity_score': 6.999,\n",
       "  'interest_score': 6.0,\n",
       "  'stress_score': 2.0,\n",
       "  'parsed_text': ['', '', '', '']}]"
      ]
     },
     "execution_count": 502,
     "metadata": {},
     "output_type": "execute_result"
    }
   ],
   "source": [
    "posts"
   ]
  },
  {
   "cell_type": "code",
   "execution_count": 423,
   "id": "8ba0bd73",
   "metadata": {},
   "outputs": [
    {
     "name": "stdout",
     "output_type": "stream",
     "text": [
      "08.05.23 MONDAY\n",
      "\n",
      "📚 NLP: lecture\n",
      "📚 NLP: seminar (partly)\n",
      "\n",
      "🚲🪛Bike repair\n",
      "🛒 Go ozon\n",
      "\n",
      "💼👨🏻‍💻Tinkoff lab: work (partly)\n",
      "\n",
      "💪🏻 Sport: pull ups\n",
      "\n",
      "📦 Algoritms \n",
      "\n",
      "How productive have you been?: 4.5/10\n",
      "How interesting was the day?: 5.3/10\n"
     ]
    },
    {
     "data": {
      "text/plain": [
       "{'id_list': [398, 397],\n",
       " 'edit_date': '2023-05-09 21:20:34',\n",
       " 'text': '08.05.23 MONDAY\\n\\n📚 NLP: lecture\\n📚 NLP: seminar (partly)\\n\\n🚲\\U0001fa9bBike repair\\n🛒 Go ozon\\n\\n💼👨🏻\\u200d💻Tinkoff lab: work (partly)\\n\\n💪🏻 Sport: pull ups\\n\\n📦 Algoritms \\n\\nHow productive have you been?: 4.5/10\\nHow interesting was the day?: 5.3/10',\n",
       " 'post_id': 397,\n",
       " 'upload_date': '2023-05-07 21:27:24',\n",
       " 'parsed_date': '08.05.23',\n",
       " 'productivity_score': 4.5,\n",
       " 'parsed_text': ['',\n",
       "  '📚 NLP: lecture',\n",
       "  '📚 NLP: seminar (partly)',\n",
       "  '',\n",
       "  '🚲\\U0001fa9bBike repair',\n",
       "  '🛒 Go ozon',\n",
       "  '',\n",
       "  '💼👨🏻\\u200d💻Tinkoff lab: work (partly)',\n",
       "  '',\n",
       "  '💪🏻 Sport: pull ups',\n",
       "  '',\n",
       "  '📦 Algoritms ',\n",
       "  '',\n",
       "  '',\n",
       "  ''],\n",
       " 'interest_score': 5.3,\n",
       " 'stress_score': None}"
      ]
     },
     "execution_count": 423,
     "metadata": {},
     "output_type": "execute_result"
    }
   ],
   "source": [
    "extract_activities(a[80])"
   ]
  },
  {
   "cell_type": "code",
   "execution_count": 383,
   "id": "3489f252",
   "metadata": {},
   "outputs": [
    {
     "data": {
      "text/plain": [
       "'24.05.23\\n\\n* IAD: control work \\n\\n* My project for resume \\n* My project: life analyze\\n\\n* English speaking club \\n\\n* Optics: think about future....\\n\\nHow productive have you been?: */10\\nHow interesting was the day?: */10\\nHow stressful was the day?: */10\\nPAI: *'"
      ]
     },
     "execution_count": 383,
     "metadata": {},
     "output_type": "execute_result"
    }
   ],
   "source": [
    "a[79]['text']"
   ]
  },
  {
   "cell_type": "code",
   "execution_count": null,
   "id": "ecb4824b",
   "metadata": {},
   "outputs": [],
   "source": []
  },
  {
   "cell_type": "markdown",
   "id": "89d7b462",
   "metadata": {},
   "source": [
    "# Data parsing"
   ]
  },
  {
   "cell_type": "code",
   "execution_count": 349,
   "id": "33bf49b1",
   "metadata": {},
   "outputs": [],
   "source": [
    "import re\n",
    "\n",
    "def parse_post(dct):\n",
    "    \n",
    "    dct['parsed_date'] = parse_date_from_string(dct['text'])\n",
    "    \n",
    "def extract_productivity_score(input_string):\n",
    "    regex = r\"How productive have you been\\?:\\s*(\\d+\\.?\\d*)/10\"\n",
    "    match = re.search(regex, input_string)\n",
    "    if match is not None:\n",
    "        productivity_score = float(match.group(1))\n",
    "        if productivity_score >= 0 and productivity_score <= 10:\n",
    "            return productivity_score\n",
    "    return None\n",
    "\n",
    "def extract_interest_score(input_string):\n",
    "    regex = r\"How interesting was the day\\?:\\s*(\\d+\\.?\\d*)/10\"\n",
    "    match = re.search(regex, input_string)\n",
    "    if match is not None:\n",
    "        productivity_score = float(match.group(1))\n",
    "        if productivity_score >= 0 and productivity_score <= 10:\n",
    "            return productivity_score\n",
    "    return None\n",
    "\n",
    "def extract_stress_score(input_string):\n",
    "    regex = r\"How stressful was the day\\?:\\s*(\\d+\\.?\\d*)/10\"\n",
    "    match = re.search(regex, input_string)\n",
    "    if match is not None:\n",
    "        productivity_score = float(match.group(1))\n",
    "        if productivity_score >= 0 and productivity_score <= 10:\n",
    "            return productivity_score\n",
    "    return None\n",
    "    \n",
    "def extract_date(input_string):\n",
    "    date_pattern = r'\\d{2}\\.\\d{2}\\.\\d{2}'\n",
    "    match = re.search(date_pattern, input_string)\n",
    "    if match:\n",
    "        return match.group()\n",
    "    else:\n",
    "        return None"
   ]
  },
  {
   "cell_type": "code",
   "execution_count": null,
   "id": "de7a970c",
   "metadata": {},
   "outputs": [],
   "source": []
  },
  {
   "cell_type": "code",
   "execution_count": null,
   "id": "34756273",
   "metadata": {},
   "outputs": [],
   "source": []
  },
  {
   "cell_type": "code",
   "execution_count": null,
   "id": "350a2c43",
   "metadata": {},
   "outputs": [],
   "source": []
  },
  {
   "cell_type": "code",
   "execution_count": null,
   "id": "c5f12115",
   "metadata": {},
   "outputs": [],
   "source": []
  },
  {
   "cell_type": "code",
   "execution_count": null,
   "id": "a5fc3368",
   "metadata": {},
   "outputs": [],
   "source": []
  },
  {
   "cell_type": "code",
   "execution_count": 241,
   "id": "f2295f35",
   "metadata": {},
   "outputs": [
    {
     "name": "stdout",
     "output_type": "stream",
     "text": [
      "12.01.23\n",
      "16.02.23\n"
     ]
    }
   ],
   "source": []
  },
  {
   "cell_type": "code",
   "execution_count": null,
   "id": "14c2573a",
   "metadata": {},
   "outputs": [],
   "source": []
  },
  {
   "cell_type": "markdown",
   "id": "fec0c4a9",
   "metadata": {},
   "source": [
    "# Upload to DB "
   ]
  },
  {
   "cell_type": "code",
   "execution_count": null,
   "id": "400474db",
   "metadata": {},
   "outputs": [],
   "source": []
  },
  {
   "cell_type": "code",
   "execution_count": null,
   "id": "44c4eea4",
   "metadata": {},
   "outputs": [],
   "source": []
  },
  {
   "cell_type": "code",
   "execution_count": 42,
   "id": "8f0d147b",
   "metadata": {},
   "outputs": [
    {
     "name": "stdout",
     "output_type": "stream",
     "text": [
      "Connected to database successfully\n"
     ]
    }
   ],
   "source": []
  },
  {
   "cell_type": "code",
   "execution_count": 43,
   "id": "9e937569",
   "metadata": {},
   "outputs": [],
   "source": []
  },
  {
   "cell_type": "code",
   "execution_count": 44,
   "id": "cb6921cb",
   "metadata": {},
   "outputs": [],
   "source": [
    "# Получаем список всех пользователей\n",
    "cursor.execute(\"SELECT * FROM pg_catalog.pg_tables\")"
   ]
  },
  {
   "cell_type": "code",
   "execution_count": null,
   "id": "f4f63f4d",
   "metadata": {},
   "outputs": [],
   "source": []
  },
  {
   "cell_type": "code",
   "execution_count": null,
   "id": "b1a5863b",
   "metadata": {},
   "outputs": [],
   "source": []
  },
  {
   "cell_type": "code",
   "execution_count": 590,
   "id": "a8bc4cbc",
   "metadata": {},
   "outputs": [],
   "source": [
    "import mysql.connector\n",
    "\n",
    "from getpass import getpass\n",
    "from mysql.connector import connect, Error\n",
    "\n",
    "\n",
    "def db_connect():\n",
    "    try:\n",
    "        with connect(host=db_host, user=db_user, password=db_password,) as connection:\n",
    "            use_db_query = f\"USE {db_name};\"\n",
    "            create_posts_table_query = \"\"\"\n",
    "            CREATE TABLE IF NOT EXISTS posts(\n",
    "                post_id INT PRIMARY KEY,\n",
    "                text TEXT,\n",
    "                parsed_date DATE,\n",
    "                upload_date DATETIME,\n",
    "                edit_date DATETIME, \n",
    "                productivity_score FLOAT,\n",
    "                interest_score FLOAT,\n",
    "                stress_score FLOAT\n",
    "            );\n",
    "            \"\"\"\n",
    "            \n",
    "            create_posts_table_activities = \"\"\"\n",
    "            CREATE TABLE IF NOT EXISTS activities(\n",
    "                activity_id INT AUTO_INCREMENT,\n",
    "                post_id INT FOREIGN KEY REFERENCES posts(post_id)\n",
    "                activity_name TEXT,\n",
    "                activity_emoji TEXT,\n",
    "                activity_type TEXT,\n",
    "                activity_emotion TEXT,\n",
    "            );\n",
    "            \"\"\"\n",
    "            \n",
    "            \n",
    "            with connection.cursor() as cursor:\n",
    "                cursor.execute(use_db_query)\n",
    "                cursor.execute(create_posts_table_query)\n",
    "                cursor.execute(create_posts_table_activities)\n",
    "                connection.commit()\n",
    "    except Error as e:\n",
    "        print(e)\n",
    "        \n",
    "def upload_post(dct):\n",
    "    try:\n",
    "        with connect(host=db_host, user=db_user, password=db_password,) as connection:\n",
    "            use_db_query = f\"USE {db_name};\"\n",
    "            check_if_exist = \"\"\"SELECT EXISTS(SELECT 1 FROM posts WHERE post_id = %s LIMIT 1)\"\"\"\n",
    "            \n",
    "            upload_posts_table_query = f\"\"\"\n",
    "            INSERT INTO posts (post_id, text, parsed_date, upload_date, \n",
    "            edit_date,productivity_score, interest_score, stress_score) \n",
    "            VALUES(%s, %s, %s, %s, %s, %s, %s, %s)\n",
    "            \"\"\"\n",
    "            \n",
    "            post_id = (dct.get('post_id', None),)\n",
    "            \n",
    "            insert_data = (dct.get('post_id', None), dct.get('text', None), \n",
    "                    dct.get('parsed_date', None), dct.get('upload_date', None), \n",
    "                    dct.get('edit_date', None),dct.get('productivity_score', None),\n",
    "                    dct.get('interest_score', None),dct.get('stress_score', None))\n",
    "            \n",
    "            with connection.cursor() as cursor:\n",
    "                cursor.execute(use_db_query)\n",
    "                cursor.execute(check_if_exist, post_id)\n",
    "                for el in cursor:\n",
    "                    exist = el[0]\n",
    "                \n",
    "                if not exist:\n",
    "                    cursor.execute(upload_posts_table_query, insert_data)\n",
    "                    connection.commit()\n",
    "                else:\n",
    "                    print('ERROR: post already uploaded, if you need update it use update_post()')\n",
    "    except Error as e:\n",
    "        print(e)\n",
    "        \n",
    "        \n",
    "def update_post(dct):\n",
    "    try:\n",
    "        with connect(host=db_host, user=db_user, password=db_password,) as connection:\n",
    "            use_db_query = f\"USE {db_name};\"\n",
    "            update_posts_table_query = \"\"\"\n",
    "            UPDATE posts SET text = %s, parsed_date = %s,  \n",
    "            upload_date = %s, edit_date = %s, productivity_score = %s,\n",
    "            interest_score = %s, stress_score = %s WHERE post_id = %s\n",
    "            \"\"\"\n",
    "            \n",
    "            data = (dct.get('text', None), \n",
    "                    dct.get('parsed_date', None), dct.get('upload_date', None), \n",
    "                    dct.get('edit_date', None),dct.get('productivity_score', None),\n",
    "                    dct.get('interest_score', None),dct.get('stress_score', None),\n",
    "                   dct.get('post_id', None))\n",
    "\n",
    "            with connection.cursor() as cursor:\n",
    "                cursor.execute(use_db_query)\n",
    "                cursor.execute(update_posts_table_query, data)\n",
    "                connection.commit()\n",
    "    except Error as e:\n",
    "        print(e)\n",
    "\n",
    "def db_show_tables():\n",
    "    try:\n",
    "        with connect(host=db_host, user=db_user, password=db_password,) as connection:\n",
    "            use_db_query = f\"USE {db_name};\"\n",
    "            show_tables = \"SHOW TABLES;\"\n",
    "            with connection.cursor() as cursor:\n",
    "                cursor.execute(use_db_query)\n",
    "                cursor.execute(show_tables)\n",
    "                for el in cursor.fetchall():\n",
    "                    print(el)\n",
    "    except Error as e:\n",
    "        print(e)\n",
    "        \n",
    "def db_execute_query(query):\n",
    "    try:\n",
    "        with connect(host=db_host, user=db_user, password=db_password,) as connection:\n",
    "            use_db_query = f\"USE {db_name};\"\n",
    "            with connection.cursor() as cursor:\n",
    "                cursor.execute(use_db_query)\n",
    "                cursor.execute(query)\n",
    "                for el in cursor:\n",
    "                    print(el)\n",
    "    except Error as e:\n",
    "        print(e)"
   ]
  },
  {
   "cell_type": "code",
   "execution_count": 591,
   "id": "b50f9beb",
   "metadata": {},
   "outputs": [],
   "source": [
    "db_connect()"
   ]
  },
  {
   "cell_type": "code",
   "execution_count": null,
   "id": "85e04610",
   "metadata": {},
   "outputs": [],
   "source": []
  },
  {
   "cell_type": "code",
   "execution_count": 592,
   "id": "72665a7a",
   "metadata": {},
   "outputs": [
    {
     "name": "stdout",
     "output_type": "stream",
     "text": [
      "ERROR: post already uploaded, if you need update it use update_post()\n"
     ]
    }
   ],
   "source": [
    "upload_post(a[80])"
   ]
  },
  {
   "cell_type": "code",
   "execution_count": 70,
   "id": "5720ffcb",
   "metadata": {},
   "outputs": [],
   "source": [
    "db_connect()"
   ]
  },
  {
   "cell_type": "code",
   "execution_count": 459,
   "id": "f52134f4",
   "metadata": {},
   "outputs": [
    {
     "name": "stdout",
     "output_type": "stream",
     "text": [
      "('posts',)\n"
     ]
    }
   ],
   "source": [
    "db_show_tables()"
   ]
  },
  {
   "cell_type": "code",
   "execution_count": 551,
   "id": "8ebba799",
   "metadata": {},
   "outputs": [
    {
     "name": "stdout",
     "output_type": "stream",
     "text": [
      "(0,)\n"
     ]
    }
   ],
   "source": [
    "db_execute_query('SELECT EXISTS(SELECT * FROM posts WHERE post_id = 9 LIMIT 1)')"
   ]
  },
  {
   "cell_type": "code",
   "execution_count": 589,
   "id": "4324178e",
   "metadata": {},
   "outputs": [
    {
     "name": "stdout",
     "output_type": "stream",
     "text": [
      "(1, 'asdasd', None, None, None, None, None, None)\n",
      "(397, '08.05.23 MONDAY\\n\\n📚 NLP: lecture\\n📚 NLP: seminar (partly)\\n\\n🚲\\U0001fa9bBike repair\\n🛒 Go ozon\\n\\n💼👨🏻\\u200d💻Tinkoff lab: work (partly)\\n\\n💪🏻 Sport: pull ups\\n\\n📦 Algoritms \\n\\nHow productive have you been?: 4.5/10\\nHow interesting was the day?: 5.3/10', datetime.date(2008, 5, 23), datetime.datetime(2023, 5, 7, 21, 27, 24), datetime.datetime(2023, 5, 9, 21, 20, 34), 4.5, 5.3, None)\n",
      "(632, '10.07.23\\nMeeting tinkoff\\n\\nWork \\n\\nDiscord with Anna  \\nDiscord with mother \\n\\nCooking\\n\\nHow productive have you been?: 6/10\\nHow interesting was the day?: 6/10\\nHow stressful was the day?: 2/10', datetime.date(2010, 7, 23), datetime.datetime(2023, 7, 11, 15, 9, 19), datetime.datetime(2023, 7, 12, 8, 38, 52), 6.0, 6.0, 2.0)\n",
      "(641, '11.07.23 \\n\\nGym \\n\\nCleaning\\n\\nMy project  \\n\\nEnglish practice\\n\\nHow productive have you been?: 5/10\\nHow interesting was the day?: 6/10\\nHow stressful was the day?: 0/10', datetime.date(2011, 7, 23), datetime.datetime(2023, 7, 15, 10, 33, 11), datetime.datetime(2023, 7, 15, 10, 43, 16), 5.0, 6.0, 0.0)\n",
      "(646, '12.07.23\\n\\nHome cleaning\\n\\nMentor meeting\\n\\nMy project\\n\\nEnglish: series \\n\\nHow productive have you been?: 5.5/10\\nHow interesting was the day?: 6/10\\nHow stressful was the day?: 0/10', datetime.date(2012, 7, 23), datetime.datetime(2023, 7, 15, 10, 34, 50), None, 5.5, 6.0, 0.0)\n",
      "(647, '13.07.23\\n\\nGym\\n\\nCycling in rainy day\\n\\nEnglish speaking lesson\\n\\nMake presentation for Tinkoff\\n\\nLate sleep\\n\\nAvito selling back corrector\\n\\nHow productive have you been?: 5.5/10\\nHow interesting was the day?: 6/10\\nHow stressful was the day?: 0/10', datetime.date(2013, 7, 23), datetime.datetime(2023, 7, 15, 10, 37, 7), datetime.datetime(2023, 7, 15, 10, 52, 17), 5.5, 6.0, 0.0)\n",
      "(650, '14.07.23\\n\\nTinkoff pre-presentation\\n\\nMy project: read some articles and search models\\n\\nLazy day: Phone gaming \\n\\nScooter repairing\\n\\nSelling scooter on avito\\n\\nLate sleep\\n\\nHow productive have you been?: 5/10\\nHow interesting was the day?: 6/10\\nHow stressful was the day?: 0/10', datetime.date(2014, 7, 23), datetime.datetime(2023, 7, 15, 10, 41, 36), datetime.datetime(2023, 7, 15, 10, 53, 18), 5.0, 6.0, 0.0)\n",
      "(656, '15.07.23\\n\\n* Gym \\n\\n* Send avito order \\n\\n* Check tickets and write second letter\\n\\n* Sell scooter\\n\\n* Presentation preperation\\n\\n* Interesting Lectures \\n\\n* Test for personality\\n\\n* Print some pictures for', datetime.date(2015, 7, 23), datetime.datetime(2023, 7, 20, 9, 38, 50), datetime.datetime(2023, 7, 20, 9, 39, 12), None, None, None)\n",
      "(659, '16.07.23\\n\\nТык', datetime.date(2016, 7, 23), datetime.datetime(2023, 7, 20, 9, 40, 42), None, None, None, None)\n",
      "(663, '17.07.23\\nТык', datetime.date(2017, 7, 23), datetime.datetime(2023, 7, 20, 9, 42, 14), None, None, None, None)\n",
      "(671, '18.07.23\\n\\n* Tinkoff work: make presentation + make a report \\n\\n* Gym\\n\\n* My project\\n\\n* Tinkoff meeting', datetime.date(2018, 7, 23), datetime.datetime(2023, 7, 20, 9, 44, 49), datetime.datetime(2023, 7, 23, 12, 10, 52), None, None, None)\n",
      "(675, '19.07.23\\n\\nTinkoff final presentation\\n\\nLittle walk in park \\n\\nPizza with Anna \\n\\nGym\\n\\nMovie time: black mirror', datetime.date(2019, 7, 23), datetime.datetime(2023, 7, 20, 9, 51, 7), datetime.datetime(2023, 7, 22, 9, 33, 17), None, None, None)\n",
      "(692, 'safsdf\\nsdfs', None, datetime.datetime(2023, 7, 22, 11, 7, 5), datetime.datetime(2023, 7, 22, 13, 17, 13), None, None, None)\n",
      "(695, 'чпок\\n\\nHow productive have you been?:6.999/10\\nHow interesting was the day?: 6/10\\nHow stressful was the day?: 2/10', None, datetime.datetime(2023, 7, 23, 16, 22, 13), datetime.datetime(2023, 7, 23, 19, 50, 27), 6.999, 6.0, 2.0)\n"
     ]
    }
   ],
   "source": [
    "db_execute_query('SELECT * FROM posts;')"
   ]
  },
  {
   "cell_type": "code",
   "execution_count": null,
   "id": "16f90ae1",
   "metadata": {},
   "outputs": [],
   "source": []
  },
  {
   "cell_type": "code",
   "execution_count": null,
   "id": "0d839c50",
   "metadata": {},
   "outputs": [],
   "source": []
  },
  {
   "cell_type": "code",
   "execution_count": null,
   "id": "aaad48d9",
   "metadata": {},
   "outputs": [],
   "source": []
  },
  {
   "cell_type": "code",
   "execution_count": null,
   "id": "6581de9d",
   "metadata": {},
   "outputs": [],
   "source": []
  },
  {
   "cell_type": "code",
   "execution_count": null,
   "id": "242d9740",
   "metadata": {},
   "outputs": [],
   "source": []
  },
  {
   "cell_type": "code",
   "execution_count": null,
   "id": "38d142b3",
   "metadata": {},
   "outputs": [],
   "source": []
  },
  {
   "cell_type": "markdown",
   "id": "7b581173",
   "metadata": {},
   "source": [
    "# Main"
   ]
  },
  {
   "cell_type": "code",
   "execution_count": 509,
   "id": "54e67d0c",
   "metadata": {},
   "outputs": [
    {
     "name": "stdout",
     "output_type": "stream",
     "text": [
      "чпок\n",
      "\n",
      "How productive have you been?:6.999/10\n",
      "How interesting was the day?: 6/10\n",
      "How stressful was the day?: 2/10\n",
      "Could not process parameters: int(695), it must be of type list, tuple or dict\n"
     ]
    }
   ],
   "source": [
    "posts = get_posts(num_posts = 1)\n",
    "\n",
    "for post in posts:\n",
    "    post = parse_text(post)\n",
    "    upload_post(post)"
   ]
  },
  {
   "cell_type": "code",
   "execution_count": 506,
   "id": "665cf4a9",
   "metadata": {},
   "outputs": [
    {
     "data": {
      "text/plain": [
       "[{'id_list': [697, 696, 695],\n",
       "  'edit_date': '2023-07-23 19:50:27',\n",
       "  'text': 'чпок\\n\\nHow productive have you been?:6.999/10\\nHow interesting was the day?: 6/10\\nHow stressful was the day?: 2/10',\n",
       "  'post_id': 695,\n",
       "  'upload_date': '2023-07-23 16:22:13',\n",
       "  'parsed_date': None,\n",
       "  'productivity_score': 6.999,\n",
       "  'interest_score': 6.0,\n",
       "  'stress_score': 2.0,\n",
       "  'parsed_text': ['чпок', '', '', '', '']}]"
      ]
     },
     "execution_count": 506,
     "metadata": {},
     "output_type": "execute_result"
    }
   ],
   "source": [
    "posts"
   ]
  },
  {
   "cell_type": "code",
   "execution_count": null,
   "id": "bcd3f123",
   "metadata": {},
   "outputs": [],
   "source": []
  },
  {
   "cell_type": "code",
   "execution_count": null,
   "id": "82e18f00",
   "metadata": {},
   "outputs": [],
   "source": []
  },
  {
   "cell_type": "markdown",
   "id": "2f31c238",
   "metadata": {},
   "source": [
    "# Sync with DB"
   ]
  },
  {
   "cell_type": "code",
   "execution_count": null,
   "id": "c7d6b7b0",
   "metadata": {},
   "outputs": [],
   "source": []
  },
  {
   "cell_type": "code",
   "execution_count": null,
   "id": "f6b8bf6a",
   "metadata": {},
   "outputs": [],
   "source": []
  },
  {
   "cell_type": "code",
   "execution_count": null,
   "id": "d633151f",
   "metadata": {},
   "outputs": [],
   "source": []
  },
  {
   "cell_type": "code",
   "execution_count": null,
   "id": "912744a5",
   "metadata": {},
   "outputs": [],
   "source": []
  },
  {
   "cell_type": "code",
   "execution_count": null,
   "id": "0f755dd2",
   "metadata": {},
   "outputs": [],
   "source": []
  },
  {
   "cell_type": "code",
   "execution_count": null,
   "id": "e6081c28",
   "metadata": {},
   "outputs": [],
   "source": []
  },
  {
   "cell_type": "markdown",
   "id": "5c274802",
   "metadata": {},
   "source": [
    "# Etc "
   ]
  },
  {
   "cell_type": "code",
   "execution_count": null,
   "id": "4e889746",
   "metadata": {},
   "outputs": [],
   "source": []
  }
 ],
 "metadata": {
  "kernelspec": {
   "display_name": "Python 3",
   "language": "python",
   "name": "python3"
  },
  "language_info": {
   "codemirror_mode": {
    "name": "ipython",
    "version": 3
   },
   "file_extension": ".py",
   "mimetype": "text/x-python",
   "name": "python",
   "nbconvert_exporter": "python",
   "pygments_lexer": "ipython3",
   "version": "3.8.10"
  }
 },
 "nbformat": 4,
 "nbformat_minor": 5
}
